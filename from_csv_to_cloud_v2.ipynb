{
  "nbformat": 4,
  "nbformat_minor": 0,
  "metadata": {
    "colab": {
      "name": "from-csv-to-cloud-v2.ipynb",
      "provenance": [],
      "collapsed_sections": []
    },
    "kernelspec": {
      "name": "python3",
      "display_name": "Python 3"
    },
    "language_info": {
      "name": "python"
    }
  },
  "cells": [
    {
      "cell_type": "markdown",
      "source": [
        "In this notebook I will show how to work with real-time data that updates not only the column values (relative to time), but also adds new rows to existing table. I will use a .csv file that contains information from my YouTube channel videos. I've extracted that CSV file from my 'youtube-api-tutorial' repo. "
      ],
      "metadata": {
        "id": "G9lKf3ARwdEp"
      }
    },
    {
      "cell_type": "code",
      "source": [
        "#First of all, videos on my channel aren't really type of content that someone will see on daily basis, \n",
        "#so in expecation things such as view_count, like_count etc. on average will stay the same.\n",
        "#I will manually update values of some existing columns, and also imitate the scenario of having a new video(s) by appending row(s) and checking if my code works based on that. "
      ],
      "metadata": {
        "id": "S0pa3YYRwxXu"
      },
      "execution_count": 1,
      "outputs": []
    },
    {
      "cell_type": "code",
      "source": [
        "#Installing the necessary libraries\n",
        "!pip install mysql-connector-python"
      ],
      "metadata": {
        "colab": {
          "base_uri": "https://localhost:8080/"
        },
        "id": "jHaSk4ShyO0j",
        "outputId": "629f8be4-a3e1-40d3-f3af-af2c98f7bac6"
      },
      "execution_count": 2,
      "outputs": [
        {
          "output_type": "stream",
          "name": "stdout",
          "text": [
            "Collecting mysql-connector-python\n",
            "  Downloading mysql_connector_python-8.0.28-cp37-cp37m-manylinux1_x86_64.whl (37.6 MB)\n",
            "\u001b[K     |████████████████████████████████| 37.6 MB 1.1 MB/s \n",
            "\u001b[?25hRequirement already satisfied: protobuf>=3.0.0 in /usr/local/lib/python3.7/dist-packages (from mysql-connector-python) (3.17.3)\n",
            "Requirement already satisfied: six>=1.9 in /usr/local/lib/python3.7/dist-packages (from protobuf>=3.0.0->mysql-connector-python) (1.15.0)\n",
            "Installing collected packages: mysql-connector-python\n",
            "Successfully installed mysql-connector-python-8.0.28\n"
          ]
        }
      ]
    },
    {
      "cell_type": "code",
      "source": [
        "#Importing libraries\n",
        "import mysql.connector\n",
        "from mysql.connector.constants import ClientFlag\n",
        "import pandas as pd"
      ],
      "metadata": {
        "id": "agwUKlHwyXzx"
      },
      "execution_count": 3,
      "outputs": []
    },
    {
      "cell_type": "code",
      "source": [
        "#Let's upload our .csv file that contains informations of my videos:\n",
        "df = pd.read_csv('my_youtubeWo.csv')\n",
        "df.head()"
      ],
      "metadata": {
        "colab": {
          "base_uri": "https://localhost:8080/",
          "height": 206
        },
        "id": "8PSCzSknyECg",
        "outputId": "0d582f9d-5f91-464a-a2b1-3243b2f55778"
      },
      "execution_count": 4,
      "outputs": [
        {
          "output_type": "execute_result",
          "data": {
            "text/html": [
              "\n",
              "  <div id=\"df-86ed8426-b108-4d12-8399-7cda5fd5ee89\">\n",
              "    <div class=\"colab-df-container\">\n",
              "      <div>\n",
              "<style scoped>\n",
              "    .dataframe tbody tr th:only-of-type {\n",
              "        vertical-align: middle;\n",
              "    }\n",
              "\n",
              "    .dataframe tbody tr th {\n",
              "        vertical-align: top;\n",
              "    }\n",
              "\n",
              "    .dataframe thead th {\n",
              "        text-align: right;\n",
              "    }\n",
              "</style>\n",
              "<table border=\"1\" class=\"dataframe\">\n",
              "  <thead>\n",
              "    <tr style=\"text-align: right;\">\n",
              "      <th></th>\n",
              "      <th>video_id</th>\n",
              "      <th>video_title</th>\n",
              "      <th>upload_date</th>\n",
              "      <th>view_count</th>\n",
              "      <th>like_count</th>\n",
              "      <th>comment_count</th>\n",
              "    </tr>\n",
              "  </thead>\n",
              "  <tbody>\n",
              "    <tr>\n",
              "      <th>0</th>\n",
              "      <td>-2i4xmW6u2A</td>\n",
              "      <td>ZHU - In the Morning* [Short Cover]</td>\n",
              "      <td>2018-09-23</td>\n",
              "      <td>288</td>\n",
              "      <td>11</td>\n",
              "      <td>0</td>\n",
              "    </tr>\n",
              "    <tr>\n",
              "      <th>1</th>\n",
              "      <td>avbZDwi4VTM</td>\n",
              "      <td>Amra Mandžukić #4 //BIH Women&amp;#39;s National V...</td>\n",
              "      <td>2018-05-17</td>\n",
              "      <td>808</td>\n",
              "      <td>13</td>\n",
              "      <td>0</td>\n",
              "    </tr>\n",
              "    <tr>\n",
              "      <th>2</th>\n",
              "      <td>TWkT6ovxAtQ</td>\n",
              "      <td>Animal Farm (BOSNIA Edition)</td>\n",
              "      <td>2018-03-01</td>\n",
              "      <td>127</td>\n",
              "      <td>4</td>\n",
              "      <td>0</td>\n",
              "    </tr>\n",
              "    <tr>\n",
              "      <th>3</th>\n",
              "      <td>Bj0CMyhLDRU</td>\n",
              "      <td>Poklon Čani</td>\n",
              "      <td>2018-02-10</td>\n",
              "      <td>113</td>\n",
              "      <td>6</td>\n",
              "      <td>0</td>\n",
              "    </tr>\n",
              "    <tr>\n",
              "      <th>4</th>\n",
              "      <td>neGDJyEpkVw</td>\n",
              "      <td>žeks from skugric $$ thug life $$</td>\n",
              "      <td>2018-01-30</td>\n",
              "      <td>211</td>\n",
              "      <td>4</td>\n",
              "      <td>0</td>\n",
              "    </tr>\n",
              "  </tbody>\n",
              "</table>\n",
              "</div>\n",
              "      <button class=\"colab-df-convert\" onclick=\"convertToInteractive('df-86ed8426-b108-4d12-8399-7cda5fd5ee89')\"\n",
              "              title=\"Convert this dataframe to an interactive table.\"\n",
              "              style=\"display:none;\">\n",
              "        \n",
              "  <svg xmlns=\"http://www.w3.org/2000/svg\" height=\"24px\"viewBox=\"0 0 24 24\"\n",
              "       width=\"24px\">\n",
              "    <path d=\"M0 0h24v24H0V0z\" fill=\"none\"/>\n",
              "    <path d=\"M18.56 5.44l.94 2.06.94-2.06 2.06-.94-2.06-.94-.94-2.06-.94 2.06-2.06.94zm-11 1L8.5 8.5l.94-2.06 2.06-.94-2.06-.94L8.5 2.5l-.94 2.06-2.06.94zm10 10l.94 2.06.94-2.06 2.06-.94-2.06-.94-.94-2.06-.94 2.06-2.06.94z\"/><path d=\"M17.41 7.96l-1.37-1.37c-.4-.4-.92-.59-1.43-.59-.52 0-1.04.2-1.43.59L10.3 9.45l-7.72 7.72c-.78.78-.78 2.05 0 2.83L4 21.41c.39.39.9.59 1.41.59.51 0 1.02-.2 1.41-.59l7.78-7.78 2.81-2.81c.8-.78.8-2.07 0-2.86zM5.41 20L4 18.59l7.72-7.72 1.47 1.35L5.41 20z\"/>\n",
              "  </svg>\n",
              "      </button>\n",
              "      \n",
              "  <style>\n",
              "    .colab-df-container {\n",
              "      display:flex;\n",
              "      flex-wrap:wrap;\n",
              "      gap: 12px;\n",
              "    }\n",
              "\n",
              "    .colab-df-convert {\n",
              "      background-color: #E8F0FE;\n",
              "      border: none;\n",
              "      border-radius: 50%;\n",
              "      cursor: pointer;\n",
              "      display: none;\n",
              "      fill: #1967D2;\n",
              "      height: 32px;\n",
              "      padding: 0 0 0 0;\n",
              "      width: 32px;\n",
              "    }\n",
              "\n",
              "    .colab-df-convert:hover {\n",
              "      background-color: #E2EBFA;\n",
              "      box-shadow: 0px 1px 2px rgba(60, 64, 67, 0.3), 0px 1px 3px 1px rgba(60, 64, 67, 0.15);\n",
              "      fill: #174EA6;\n",
              "    }\n",
              "\n",
              "    [theme=dark] .colab-df-convert {\n",
              "      background-color: #3B4455;\n",
              "      fill: #D2E3FC;\n",
              "    }\n",
              "\n",
              "    [theme=dark] .colab-df-convert:hover {\n",
              "      background-color: #434B5C;\n",
              "      box-shadow: 0px 1px 3px 1px rgba(0, 0, 0, 0.15);\n",
              "      filter: drop-shadow(0px 1px 2px rgba(0, 0, 0, 0.3));\n",
              "      fill: #FFFFFF;\n",
              "    }\n",
              "  </style>\n",
              "\n",
              "      <script>\n",
              "        const buttonEl =\n",
              "          document.querySelector('#df-86ed8426-b108-4d12-8399-7cda5fd5ee89 button.colab-df-convert');\n",
              "        buttonEl.style.display =\n",
              "          google.colab.kernel.accessAllowed ? 'block' : 'none';\n",
              "\n",
              "        async function convertToInteractive(key) {\n",
              "          const element = document.querySelector('#df-86ed8426-b108-4d12-8399-7cda5fd5ee89');\n",
              "          const dataTable =\n",
              "            await google.colab.kernel.invokeFunction('convertToInteractive',\n",
              "                                                     [key], {});\n",
              "          if (!dataTable) return;\n",
              "\n",
              "          const docLinkHtml = 'Like what you see? Visit the ' +\n",
              "            '<a target=\"_blank\" href=https://colab.research.google.com/notebooks/data_table.ipynb>data table notebook</a>'\n",
              "            + ' to learn more about interactive tables.';\n",
              "          element.innerHTML = '';\n",
              "          dataTable['output_type'] = 'display_data';\n",
              "          await google.colab.output.renderOutput(dataTable, element);\n",
              "          const docLink = document.createElement('div');\n",
              "          docLink.innerHTML = docLinkHtml;\n",
              "          element.appendChild(docLink);\n",
              "        }\n",
              "      </script>\n",
              "    </div>\n",
              "  </div>\n",
              "  "
            ],
            "text/plain": [
              "      video_id  ... comment_count\n",
              "0  -2i4xmW6u2A  ...             0\n",
              "1  avbZDwi4VTM  ...             0\n",
              "2  TWkT6ovxAtQ  ...             0\n",
              "3  Bj0CMyhLDRU  ...             0\n",
              "4  neGDJyEpkVw  ...             0\n",
              "\n",
              "[5 rows x 6 columns]"
            ]
          },
          "metadata": {},
          "execution_count": 4
        }
      ]
    },
    {
      "cell_type": "code",
      "source": [
        "def connect_to_db(user, password, host_ip):\n",
        "  '''\n",
        "      Connecting to cloud database.\n",
        "  '''\n",
        "  cnxn = None\n",
        "  config = {\n",
        "    'user': user,\n",
        "    'password': password,\n",
        "    'host': host_ip,\n",
        "    'client_flags': [ClientFlag.SSL],\n",
        "    'ssl_ca': 'ssl/server-ca.pem',\n",
        "    'ssl_cert': 'ssl/client-cert.pem',\n",
        "    'ssl_key': 'ssl/client-key.pem'\n",
        "            }\n",
        "\n",
        "\n",
        "  try:  \n",
        "       cnxn = mysql.connector.connect(**config)\n",
        "  except:\n",
        "       print('Error! Please check if you put the right information into given variables (password, user etc.).')\n",
        "  else:\n",
        "      print('You are sucessfully connected to the Cloud instance!')\n",
        "    \n",
        "  return cnxn"
      ],
      "metadata": {
        "id": "0tsPhS4_zhYx"
      },
      "execution_count": 5,
      "outputs": []
    },
    {
      "cell_type": "code",
      "source": [
        "conn_db = connect_to_db(user = 'root', password = 'nope', host_ip = '34.15229.2220.202')"
      ],
      "metadata": {
        "colab": {
          "base_uri": "https://localhost:8080/"
        },
        "id": "gFJAu1ez3JO-",
        "outputId": "d60bd6f7-9316-4242-c667-a6cdf8a1d354"
      },
      "execution_count": 6,
      "outputs": [
        {
          "output_type": "stream",
          "name": "stdout",
          "text": [
            "You are sucessfully connected to the Cloud instance!\n"
          ]
        }
      ]
    },
    {
      "cell_type": "code",
      "source": [
        "conn_db.is_connected() #It connects us to the Cloud server"
      ],
      "metadata": {
        "colab": {
          "base_uri": "https://localhost:8080/"
        },
        "id": "3vyryqcMGgod",
        "outputId": "e9826a04-83f5-42e3-95a4-52af3c17750f"
      },
      "execution_count": 7,
      "outputs": [
        {
          "output_type": "execute_result",
          "data": {
            "text/plain": [
              "True"
            ]
          },
          "metadata": {},
          "execution_count": 7
        }
      ]
    },
    {
      "cell_type": "code",
      "source": [
        "#Now let's create a database \n",
        "cursor = conn_db.cursor()\n",
        "cursor.execute('CREATE DATABASE IF NOT EXISTS my_youtube')\n",
        "\n",
        "#We are going to disconnect from the Cloud SQL instance and reconnect to the specific database we made 'my_youtube'\n",
        "conn_db.close()\n",
        "conn_db.is_connected()"
      ],
      "metadata": {
        "colab": {
          "base_uri": "https://localhost:8080/"
        },
        "id": "5RHNlk5JEten",
        "outputId": "2f427a18-4365-499d-d307-2c63b7a4be0b"
      },
      "execution_count": 8,
      "outputs": [
        {
          "output_type": "execute_result",
          "data": {
            "text/plain": [
              "False"
            ]
          },
          "metadata": {},
          "execution_count": 8
        }
      ]
    },
    {
      "cell_type": "code",
      "source": [
        "#vars(conn_db)\n",
        "conn_db._database = 'my_youtube'\n",
        "print(conn_db._database)"
      ],
      "metadata": {
        "colab": {
          "base_uri": "https://localhost:8080/"
        },
        "id": "A0-mY0WhIYfR",
        "outputId": "275eadba-3034-4174-89eb-72d49bd79e09"
      },
      "execution_count": 9,
      "outputs": [
        {
          "output_type": "stream",
          "name": "stdout",
          "text": [
            "my_youtube\n"
          ]
        }
      ]
    },
    {
      "cell_type": "code",
      "source": [
        "conn_db.connect()\n",
        "print(conn_db.is_connected(), conn_db._database)"
      ],
      "metadata": {
        "colab": {
          "base_uri": "https://localhost:8080/"
        },
        "id": "76nNZE5YLjOH",
        "outputId": "61d78bc0-bf84-414b-83b4-c69db870fb23"
      },
      "execution_count": 10,
      "outputs": [
        {
          "output_type": "stream",
          "name": "stdout",
          "text": [
            "True my_youtube\n"
          ]
        }
      ]
    },
    {
      "cell_type": "code",
      "source": [
        "##Now let's create a table in our database\n",
        "df.head(1)"
      ],
      "metadata": {
        "colab": {
          "base_uri": "https://localhost:8080/",
          "height": 80
        },
        "id": "b9oO7JUoO5Jc",
        "outputId": "96139556-fb34-4257-aa24-abe242379fd9"
      },
      "execution_count": 11,
      "outputs": [
        {
          "output_type": "execute_result",
          "data": {
            "text/html": [
              "\n",
              "  <div id=\"df-5bdddfd3-ef16-404b-94b2-31cfc3b366a2\">\n",
              "    <div class=\"colab-df-container\">\n",
              "      <div>\n",
              "<style scoped>\n",
              "    .dataframe tbody tr th:only-of-type {\n",
              "        vertical-align: middle;\n",
              "    }\n",
              "\n",
              "    .dataframe tbody tr th {\n",
              "        vertical-align: top;\n",
              "    }\n",
              "\n",
              "    .dataframe thead th {\n",
              "        text-align: right;\n",
              "    }\n",
              "</style>\n",
              "<table border=\"1\" class=\"dataframe\">\n",
              "  <thead>\n",
              "    <tr style=\"text-align: right;\">\n",
              "      <th></th>\n",
              "      <th>video_id</th>\n",
              "      <th>video_title</th>\n",
              "      <th>upload_date</th>\n",
              "      <th>view_count</th>\n",
              "      <th>like_count</th>\n",
              "      <th>comment_count</th>\n",
              "    </tr>\n",
              "  </thead>\n",
              "  <tbody>\n",
              "    <tr>\n",
              "      <th>0</th>\n",
              "      <td>-2i4xmW6u2A</td>\n",
              "      <td>ZHU - In the Morning* [Short Cover]</td>\n",
              "      <td>2018-09-23</td>\n",
              "      <td>288</td>\n",
              "      <td>11</td>\n",
              "      <td>0</td>\n",
              "    </tr>\n",
              "  </tbody>\n",
              "</table>\n",
              "</div>\n",
              "      <button class=\"colab-df-convert\" onclick=\"convertToInteractive('df-5bdddfd3-ef16-404b-94b2-31cfc3b366a2')\"\n",
              "              title=\"Convert this dataframe to an interactive table.\"\n",
              "              style=\"display:none;\">\n",
              "        \n",
              "  <svg xmlns=\"http://www.w3.org/2000/svg\" height=\"24px\"viewBox=\"0 0 24 24\"\n",
              "       width=\"24px\">\n",
              "    <path d=\"M0 0h24v24H0V0z\" fill=\"none\"/>\n",
              "    <path d=\"M18.56 5.44l.94 2.06.94-2.06 2.06-.94-2.06-.94-.94-2.06-.94 2.06-2.06.94zm-11 1L8.5 8.5l.94-2.06 2.06-.94-2.06-.94L8.5 2.5l-.94 2.06-2.06.94zm10 10l.94 2.06.94-2.06 2.06-.94-2.06-.94-.94-2.06-.94 2.06-2.06.94z\"/><path d=\"M17.41 7.96l-1.37-1.37c-.4-.4-.92-.59-1.43-.59-.52 0-1.04.2-1.43.59L10.3 9.45l-7.72 7.72c-.78.78-.78 2.05 0 2.83L4 21.41c.39.39.9.59 1.41.59.51 0 1.02-.2 1.41-.59l7.78-7.78 2.81-2.81c.8-.78.8-2.07 0-2.86zM5.41 20L4 18.59l7.72-7.72 1.47 1.35L5.41 20z\"/>\n",
              "  </svg>\n",
              "      </button>\n",
              "      \n",
              "  <style>\n",
              "    .colab-df-container {\n",
              "      display:flex;\n",
              "      flex-wrap:wrap;\n",
              "      gap: 12px;\n",
              "    }\n",
              "\n",
              "    .colab-df-convert {\n",
              "      background-color: #E8F0FE;\n",
              "      border: none;\n",
              "      border-radius: 50%;\n",
              "      cursor: pointer;\n",
              "      display: none;\n",
              "      fill: #1967D2;\n",
              "      height: 32px;\n",
              "      padding: 0 0 0 0;\n",
              "      width: 32px;\n",
              "    }\n",
              "\n",
              "    .colab-df-convert:hover {\n",
              "      background-color: #E2EBFA;\n",
              "      box-shadow: 0px 1px 2px rgba(60, 64, 67, 0.3), 0px 1px 3px 1px rgba(60, 64, 67, 0.15);\n",
              "      fill: #174EA6;\n",
              "    }\n",
              "\n",
              "    [theme=dark] .colab-df-convert {\n",
              "      background-color: #3B4455;\n",
              "      fill: #D2E3FC;\n",
              "    }\n",
              "\n",
              "    [theme=dark] .colab-df-convert:hover {\n",
              "      background-color: #434B5C;\n",
              "      box-shadow: 0px 1px 3px 1px rgba(0, 0, 0, 0.15);\n",
              "      filter: drop-shadow(0px 1px 2px rgba(0, 0, 0, 0.3));\n",
              "      fill: #FFFFFF;\n",
              "    }\n",
              "  </style>\n",
              "\n",
              "      <script>\n",
              "        const buttonEl =\n",
              "          document.querySelector('#df-5bdddfd3-ef16-404b-94b2-31cfc3b366a2 button.colab-df-convert');\n",
              "        buttonEl.style.display =\n",
              "          google.colab.kernel.accessAllowed ? 'block' : 'none';\n",
              "\n",
              "        async function convertToInteractive(key) {\n",
              "          const element = document.querySelector('#df-5bdddfd3-ef16-404b-94b2-31cfc3b366a2');\n",
              "          const dataTable =\n",
              "            await google.colab.kernel.invokeFunction('convertToInteractive',\n",
              "                                                     [key], {});\n",
              "          if (!dataTable) return;\n",
              "\n",
              "          const docLinkHtml = 'Like what you see? Visit the ' +\n",
              "            '<a target=\"_blank\" href=https://colab.research.google.com/notebooks/data_table.ipynb>data table notebook</a>'\n",
              "            + ' to learn more about interactive tables.';\n",
              "          element.innerHTML = '';\n",
              "          dataTable['output_type'] = 'display_data';\n",
              "          await google.colab.output.renderOutput(dataTable, element);\n",
              "          const docLink = document.createElement('div');\n",
              "          docLink.innerHTML = docLinkHtml;\n",
              "          element.appendChild(docLink);\n",
              "        }\n",
              "      </script>\n",
              "    </div>\n",
              "  </div>\n",
              "  "
            ],
            "text/plain": [
              "      video_id                          video_title  ... like_count  comment_count\n",
              "0  -2i4xmW6u2A  ZHU - In the Morning* [Short Cover]  ...         11              0\n",
              "\n",
              "[1 rows x 6 columns]"
            ]
          },
          "metadata": {},
          "execution_count": 11
        }
      ]
    },
    {
      "cell_type": "code",
      "source": [
        "df.dtypes"
      ],
      "metadata": {
        "colab": {
          "base_uri": "https://localhost:8080/"
        },
        "id": "y8hE0ykdOaPC",
        "outputId": "28d0da09-a141-49c3-d995-640eeefd1503"
      },
      "execution_count": 12,
      "outputs": [
        {
          "output_type": "execute_result",
          "data": {
            "text/plain": [
              "video_id         object\n",
              "video_title      object\n",
              "upload_date      object\n",
              "view_count        int64\n",
              "like_count        int64\n",
              "comment_count     int64\n",
              "dtype: object"
            ]
          },
          "metadata": {},
          "execution_count": 12
        }
      ]
    },
    {
      "cell_type": "code",
      "source": [
        "#We are going to set video_id as our Primary key. On other columns we wont allow NULL values\n",
        "#I'm not going to wrap this into function since each table has different columns and datatypes ;)"
      ],
      "metadata": {
        "id": "nnd4uwPwQf0s"
      },
      "execution_count": 13,
      "outputs": []
    },
    {
      "cell_type": "code",
      "source": [
        "create_table_query = ('''CREATE TABLE IF NOT EXISTS yt_channel_videos (\n",
        "                          video_id VARCHAR(255) PRIMARY KEY,\n",
        "                          video_title TEXT NOT NULL,\n",
        "                          upload_date DATE NOT NULL,\n",
        "                          view_count INTEGER NOT NULL,\n",
        "                          like_count INTEGER NOT NULL,\n",
        "                          comment_count INTEGER NOT NULL)''')\n",
        "\n",
        "cursor.execute(operation = create_table_query)\n",
        "\n",
        "conn_db.commit()"
      ],
      "metadata": {
        "id": "XYNIa353OinW"
      },
      "execution_count": 14,
      "outputs": []
    },
    {
      "cell_type": "markdown",
      "source": [
        "Before we even start populating the remote table we will first design the implementation of update/insert functions. The main idea will revolve around 'one video per update/insert'. We will first check if that video exists in our table, and if so we will update the columns on the fly. If not, we will create a separate dataframe to hold new rows, and depending on the schedule we intend to program that separate dataframe might contain huge amounts of rows! The idea of importing them all at once into our remote table would possibly have performance/memory issues, and hence we will do it 'per video'."
      ],
      "metadata": {
        "id": "_Q-68_8DZSOb"
      }
    },
    {
      "cell_type": "code",
      "source": [
        "for i, row in df.iterrows():\n",
        "  if check_if_video_exists():\n",
        "    update_row()\n",
        "  else:\n",
        "    append(row)"
      ],
      "metadata": {
        "id": "pQXsw-2ZcPbc"
      },
      "execution_count": null,
      "outputs": []
    },
    {
      "cell_type": "code",
      "source": [
        "#Checking if video exists\n",
        "def check_if_video_exists(cursor, video_id):\n",
        "  query = ('''SELECT video_id FROM yt_channel_videos WHERE video_id = %s''')\n",
        "  cursor.execute(query, (video_id,))\n",
        "  return cursor.fetchone() is not None #If there is a row fetchone() will return it, if not it will return None"
      ],
      "metadata": {
        "id": "ETmFred-AAOb"
      },
      "execution_count": 21,
      "outputs": []
    },
    {
      "cell_type": "code",
      "source": [
        "#Update rows\n",
        "def update_row(cursor, video_id, video_title, upload_date, view_count, like_count, comment_count):\n",
        "  query = ('''UPDATE yt_channel_videos\n",
        "            SET video_title = %s, upload date = %s, view_count = %s, like_count = %s, comment_count = %s\n",
        "            WHERE video_id = %s;''')\n",
        "  vars_to_update = (video_title, upload_date, view_count, like_count, comment_count, video_id)\n",
        "  cursor.execute(query, vars_to_update)"
      ],
      "metadata": {
        "id": "Orw4FkF8Ce11"
      },
      "execution_count": 186,
      "outputs": []
    },
    {
      "cell_type": "code",
      "source": [
        "tmp_df = pd.DataFrame(columns = list(df.columns))\n",
        "tmp_df.head()"
      ],
      "metadata": {
        "colab": {
          "base_uri": "https://localhost:8080/",
          "height": 49
        },
        "id": "QWMbyaKvF8xV",
        "outputId": "8ccbd6c4-d4f7-476c-ed05-4b1afa38348e"
      },
      "execution_count": 23,
      "outputs": [
        {
          "output_type": "execute_result",
          "data": {
            "text/html": [
              "\n",
              "  <div id=\"df-7d07342a-dcf5-42ea-a935-b5ca9ba255e7\">\n",
              "    <div class=\"colab-df-container\">\n",
              "      <div>\n",
              "<style scoped>\n",
              "    .dataframe tbody tr th:only-of-type {\n",
              "        vertical-align: middle;\n",
              "    }\n",
              "\n",
              "    .dataframe tbody tr th {\n",
              "        vertical-align: top;\n",
              "    }\n",
              "\n",
              "    .dataframe thead th {\n",
              "        text-align: right;\n",
              "    }\n",
              "</style>\n",
              "<table border=\"1\" class=\"dataframe\">\n",
              "  <thead>\n",
              "    <tr style=\"text-align: right;\">\n",
              "      <th></th>\n",
              "      <th>video_id</th>\n",
              "      <th>video_title</th>\n",
              "      <th>upload_date</th>\n",
              "      <th>view_count</th>\n",
              "      <th>like_count</th>\n",
              "      <th>comment_count</th>\n",
              "    </tr>\n",
              "  </thead>\n",
              "  <tbody>\n",
              "  </tbody>\n",
              "</table>\n",
              "</div>\n",
              "      <button class=\"colab-df-convert\" onclick=\"convertToInteractive('df-7d07342a-dcf5-42ea-a935-b5ca9ba255e7')\"\n",
              "              title=\"Convert this dataframe to an interactive table.\"\n",
              "              style=\"display:none;\">\n",
              "        \n",
              "  <svg xmlns=\"http://www.w3.org/2000/svg\" height=\"24px\"viewBox=\"0 0 24 24\"\n",
              "       width=\"24px\">\n",
              "    <path d=\"M0 0h24v24H0V0z\" fill=\"none\"/>\n",
              "    <path d=\"M18.56 5.44l.94 2.06.94-2.06 2.06-.94-2.06-.94-.94-2.06-.94 2.06-2.06.94zm-11 1L8.5 8.5l.94-2.06 2.06-.94-2.06-.94L8.5 2.5l-.94 2.06-2.06.94zm10 10l.94 2.06.94-2.06 2.06-.94-2.06-.94-.94-2.06-.94 2.06-2.06.94z\"/><path d=\"M17.41 7.96l-1.37-1.37c-.4-.4-.92-.59-1.43-.59-.52 0-1.04.2-1.43.59L10.3 9.45l-7.72 7.72c-.78.78-.78 2.05 0 2.83L4 21.41c.39.39.9.59 1.41.59.51 0 1.02-.2 1.41-.59l7.78-7.78 2.81-2.81c.8-.78.8-2.07 0-2.86zM5.41 20L4 18.59l7.72-7.72 1.47 1.35L5.41 20z\"/>\n",
              "  </svg>\n",
              "      </button>\n",
              "      \n",
              "  <style>\n",
              "    .colab-df-container {\n",
              "      display:flex;\n",
              "      flex-wrap:wrap;\n",
              "      gap: 12px;\n",
              "    }\n",
              "\n",
              "    .colab-df-convert {\n",
              "      background-color: #E8F0FE;\n",
              "      border: none;\n",
              "      border-radius: 50%;\n",
              "      cursor: pointer;\n",
              "      display: none;\n",
              "      fill: #1967D2;\n",
              "      height: 32px;\n",
              "      padding: 0 0 0 0;\n",
              "      width: 32px;\n",
              "    }\n",
              "\n",
              "    .colab-df-convert:hover {\n",
              "      background-color: #E2EBFA;\n",
              "      box-shadow: 0px 1px 2px rgba(60, 64, 67, 0.3), 0px 1px 3px 1px rgba(60, 64, 67, 0.15);\n",
              "      fill: #174EA6;\n",
              "    }\n",
              "\n",
              "    [theme=dark] .colab-df-convert {\n",
              "      background-color: #3B4455;\n",
              "      fill: #D2E3FC;\n",
              "    }\n",
              "\n",
              "    [theme=dark] .colab-df-convert:hover {\n",
              "      background-color: #434B5C;\n",
              "      box-shadow: 0px 1px 3px 1px rgba(0, 0, 0, 0.15);\n",
              "      filter: drop-shadow(0px 1px 2px rgba(0, 0, 0, 0.3));\n",
              "      fill: #FFFFFF;\n",
              "    }\n",
              "  </style>\n",
              "\n",
              "      <script>\n",
              "        const buttonEl =\n",
              "          document.querySelector('#df-7d07342a-dcf5-42ea-a935-b5ca9ba255e7 button.colab-df-convert');\n",
              "        buttonEl.style.display =\n",
              "          google.colab.kernel.accessAllowed ? 'block' : 'none';\n",
              "\n",
              "        async function convertToInteractive(key) {\n",
              "          const element = document.querySelector('#df-7d07342a-dcf5-42ea-a935-b5ca9ba255e7');\n",
              "          const dataTable =\n",
              "            await google.colab.kernel.invokeFunction('convertToInteractive',\n",
              "                                                     [key], {});\n",
              "          if (!dataTable) return;\n",
              "\n",
              "          const docLinkHtml = 'Like what you see? Visit the ' +\n",
              "            '<a target=\"_blank\" href=https://colab.research.google.com/notebooks/data_table.ipynb>data table notebook</a>'\n",
              "            + ' to learn more about interactive tables.';\n",
              "          element.innerHTML = '';\n",
              "          dataTable['output_type'] = 'display_data';\n",
              "          await google.colab.output.renderOutput(dataTable, element);\n",
              "          const docLink = document.createElement('div');\n",
              "          docLink.innerHTML = docLinkHtml;\n",
              "          element.appendChild(docLink);\n",
              "        }\n",
              "      </script>\n",
              "    </div>\n",
              "  </div>\n",
              "  "
            ],
            "text/plain": [
              "Empty DataFrame\n",
              "Columns: [video_id, video_title, upload_date, view_count, like_count, comment_count]\n",
              "Index: []"
            ]
          },
          "metadata": {},
          "execution_count": 23
        }
      ]
    },
    {
      "cell_type": "code",
      "source": [
        "def update_db(cursor, df):  \n",
        " tmp_df = pd.DataFrame(columns = list(df.columns)) #Temporary dataframe for storing new videos that aren't in a database\n",
        " for i, row in df.iterrows():\n",
        "       if check_if_video_exists(cursor, row['video_id']):\n",
        "         update_row(cursor, row['video_id'], row['video_title'], row['upload_date'], row['view_count'], row['like_count'], row['comment_count'])\n",
        "       else:\n",
        "          tmp_df = tmp_df.append(row)\n",
        " return tmp_df "
      ],
      "metadata": {
        "id": "K8wkcsN7EagY"
      },
      "execution_count": 24,
      "outputs": []
    },
    {
      "cell_type": "code",
      "source": [
        "#Insert new rows\n",
        "def insert_new_rows(cursor, video_id, video_title, upload_date, view_count, like_count, comment_count):\n",
        "  '''  '''\n",
        "  query = ('''INSERT INTO yt_channel_videos (video_id, video_title, upload_date, view_count, like_count, comment_count)\n",
        "            VALUES(%s, %s, %s, %s, %s, %s);''')\n",
        "  row_to_insert = (video_id, video_title, upload_date, view_count, like_count, comment_count)\n",
        "  cursor.execute(query, row_to_insert)"
      ],
      "metadata": {
        "id": "vM1el4qrHhZb"
      },
      "execution_count": 33,
      "outputs": []
    },
    {
      "cell_type": "code",
      "source": [
        "#Inserting new rows (row by row) into database\n",
        "def append_df_to_db(cursor, df):\n",
        "  for i, row in df.iterrows():\n",
        "    insert_new_rows(cursor, row['video_id'], row['video_title'], row['upload_date'], row['view_count'], row['like_count'], row['comment_count'])"
      ],
      "metadata": {
        "id": "KNuH6dBcInUb"
      },
      "execution_count": 31,
      "outputs": []
    },
    {
      "cell_type": "code",
      "source": [
        "new_df = update_db(cursor, df)\n",
        "conn_db.commit()"
      ],
      "metadata": {
        "id": "r3c2QUvjG2XC"
      },
      "execution_count": 26,
      "outputs": []
    },
    {
      "cell_type": "code",
      "source": [
        "new_df"
      ],
      "metadata": {
        "colab": {
          "base_uri": "https://localhost:8080/",
          "height": 582
        },
        "id": "kV80PL5UHa62",
        "outputId": "d40e43ed-6623-4465-f150-dd18ae2196aa"
      },
      "execution_count": 29,
      "outputs": [
        {
          "output_type": "execute_result",
          "data": {
            "text/html": [
              "\n",
              "  <div id=\"df-7a8c74f9-79f3-41e5-80e1-83a08eaa822a\">\n",
              "    <div class=\"colab-df-container\">\n",
              "      <div>\n",
              "<style scoped>\n",
              "    .dataframe tbody tr th:only-of-type {\n",
              "        vertical-align: middle;\n",
              "    }\n",
              "\n",
              "    .dataframe tbody tr th {\n",
              "        vertical-align: top;\n",
              "    }\n",
              "\n",
              "    .dataframe thead th {\n",
              "        text-align: right;\n",
              "    }\n",
              "</style>\n",
              "<table border=\"1\" class=\"dataframe\">\n",
              "  <thead>\n",
              "    <tr style=\"text-align: right;\">\n",
              "      <th></th>\n",
              "      <th>video_id</th>\n",
              "      <th>video_title</th>\n",
              "      <th>upload_date</th>\n",
              "      <th>view_count</th>\n",
              "      <th>like_count</th>\n",
              "      <th>comment_count</th>\n",
              "    </tr>\n",
              "  </thead>\n",
              "  <tbody>\n",
              "    <tr>\n",
              "      <th>0</th>\n",
              "      <td>-2i4xmW6u2A</td>\n",
              "      <td>ZHU - In the Morning* [Short Cover]</td>\n",
              "      <td>2018-09-23</td>\n",
              "      <td>288</td>\n",
              "      <td>11</td>\n",
              "      <td>0</td>\n",
              "    </tr>\n",
              "    <tr>\n",
              "      <th>1</th>\n",
              "      <td>avbZDwi4VTM</td>\n",
              "      <td>Amra Mandžukić #4 //BIH Women&amp;#39;s National V...</td>\n",
              "      <td>2018-05-17</td>\n",
              "      <td>808</td>\n",
              "      <td>13</td>\n",
              "      <td>0</td>\n",
              "    </tr>\n",
              "    <tr>\n",
              "      <th>2</th>\n",
              "      <td>TWkT6ovxAtQ</td>\n",
              "      <td>Animal Farm (BOSNIA Edition)</td>\n",
              "      <td>2018-03-01</td>\n",
              "      <td>127</td>\n",
              "      <td>4</td>\n",
              "      <td>0</td>\n",
              "    </tr>\n",
              "    <tr>\n",
              "      <th>3</th>\n",
              "      <td>Bj0CMyhLDRU</td>\n",
              "      <td>Poklon Čani</td>\n",
              "      <td>2018-02-10</td>\n",
              "      <td>113</td>\n",
              "      <td>6</td>\n",
              "      <td>0</td>\n",
              "    </tr>\n",
              "    <tr>\n",
              "      <th>4</th>\n",
              "      <td>neGDJyEpkVw</td>\n",
              "      <td>žeks from skugric $$ thug life $$</td>\n",
              "      <td>2018-01-30</td>\n",
              "      <td>211</td>\n",
              "      <td>4</td>\n",
              "      <td>0</td>\n",
              "    </tr>\n",
              "    <tr>\n",
              "      <th>5</th>\n",
              "      <td>CvRncH8rdPc</td>\n",
              "      <td>Riblja Čorba - Bože, koliko je volim (COVER)</td>\n",
              "      <td>2017-10-02</td>\n",
              "      <td>491</td>\n",
              "      <td>14</td>\n",
              "      <td>2</td>\n",
              "    </tr>\n",
              "    <tr>\n",
              "      <th>6</th>\n",
              "      <td>VgB6hCpFong</td>\n",
              "      <td>Šoferska je tuga pregolema (Guitar)</td>\n",
              "      <td>2017-04-13</td>\n",
              "      <td>523</td>\n",
              "      <td>5</td>\n",
              "      <td>8</td>\n",
              "    </tr>\n",
              "    <tr>\n",
              "      <th>7</th>\n",
              "      <td>dUMmMRKPek4</td>\n",
              "      <td>Scientific method fromBosnia be like...</td>\n",
              "      <td>2017-02-20</td>\n",
              "      <td>190</td>\n",
              "      <td>3</td>\n",
              "      <td>0</td>\n",
              "    </tr>\n",
              "    <tr>\n",
              "      <th>8</th>\n",
              "      <td>lZvB18OSDe8</td>\n",
              "      <td>Intro 1</td>\n",
              "      <td>2017-02-18</td>\n",
              "      <td>36</td>\n",
              "      <td>0</td>\n",
              "      <td>0</td>\n",
              "    </tr>\n",
              "    <tr>\n",
              "      <th>9</th>\n",
              "      <td>-fVxmrQeTBA</td>\n",
              "      <td>Test 1</td>\n",
              "      <td>2017-02-15</td>\n",
              "      <td>76</td>\n",
              "      <td>1</td>\n",
              "      <td>4</td>\n",
              "    </tr>\n",
              "    <tr>\n",
              "      <th>10</th>\n",
              "      <td>-zy2pXzqwCM</td>\n",
              "      <td>Zabranjeno Pušenje - Ženi Nam Se Vukota //Solo...</td>\n",
              "      <td>2017-01-21</td>\n",
              "      <td>3839</td>\n",
              "      <td>41</td>\n",
              "      <td>3</td>\n",
              "    </tr>\n",
              "    <tr>\n",
              "      <th>11</th>\n",
              "      <td>j6VUf73iY00</td>\n",
              "      <td>S.A.R.S. - Praktična žena (Bass Cover)</td>\n",
              "      <td>2017-01-07</td>\n",
              "      <td>381</td>\n",
              "      <td>7</td>\n",
              "      <td>1</td>\n",
              "    </tr>\n",
              "    <tr>\n",
              "      <th>12</th>\n",
              "      <td>1kFw5iGUxSU</td>\n",
              "      <td>REPILF - 1312 NIJANSI CRNE (SPOT)</td>\n",
              "      <td>2016-11-26</td>\n",
              "      <td>31537</td>\n",
              "      <td>322</td>\n",
              "      <td>32</td>\n",
              "    </tr>\n",
              "    <tr>\n",
              "      <th>13</th>\n",
              "      <td>4mVlcq8BHJk</td>\n",
              "      <td>dark cloud - broken promise (guitar cover)</td>\n",
              "      <td>2016-08-01</td>\n",
              "      <td>335</td>\n",
              "      <td>9</td>\n",
              "      <td>0</td>\n",
              "    </tr>\n",
              "    <tr>\n",
              "      <th>14</th>\n",
              "      <td>EnqCrg8J0YU</td>\n",
              "      <td>snimanje karakteristika tranzistora.</td>\n",
              "      <td>2016-07-12</td>\n",
              "      <td>252</td>\n",
              "      <td>4</td>\n",
              "      <td>0</td>\n",
              "    </tr>\n",
              "    <tr>\n",
              "      <th>15</th>\n",
              "      <td>fD_TvzuH_vE</td>\n",
              "      <td>merrie melodies opening theme (guitar cover)</td>\n",
              "      <td>2016-02-20</td>\n",
              "      <td>828</td>\n",
              "      <td>12</td>\n",
              "      <td>0</td>\n",
              "    </tr>\n",
              "    <tr>\n",
              "      <th>16</th>\n",
              "      <td>jRNvxO8ZPdo</td>\n",
              "      <td>Alice in Chains - Would? (Unplugged) cover</td>\n",
              "      <td>2014-07-28</td>\n",
              "      <td>178</td>\n",
              "      <td>3</td>\n",
              "      <td>1</td>\n",
              "    </tr>\n",
              "  </tbody>\n",
              "</table>\n",
              "</div>\n",
              "      <button class=\"colab-df-convert\" onclick=\"convertToInteractive('df-7a8c74f9-79f3-41e5-80e1-83a08eaa822a')\"\n",
              "              title=\"Convert this dataframe to an interactive table.\"\n",
              "              style=\"display:none;\">\n",
              "        \n",
              "  <svg xmlns=\"http://www.w3.org/2000/svg\" height=\"24px\"viewBox=\"0 0 24 24\"\n",
              "       width=\"24px\">\n",
              "    <path d=\"M0 0h24v24H0V0z\" fill=\"none\"/>\n",
              "    <path d=\"M18.56 5.44l.94 2.06.94-2.06 2.06-.94-2.06-.94-.94-2.06-.94 2.06-2.06.94zm-11 1L8.5 8.5l.94-2.06 2.06-.94-2.06-.94L8.5 2.5l-.94 2.06-2.06.94zm10 10l.94 2.06.94-2.06 2.06-.94-2.06-.94-.94-2.06-.94 2.06-2.06.94z\"/><path d=\"M17.41 7.96l-1.37-1.37c-.4-.4-.92-.59-1.43-.59-.52 0-1.04.2-1.43.59L10.3 9.45l-7.72 7.72c-.78.78-.78 2.05 0 2.83L4 21.41c.39.39.9.59 1.41.59.51 0 1.02-.2 1.41-.59l7.78-7.78 2.81-2.81c.8-.78.8-2.07 0-2.86zM5.41 20L4 18.59l7.72-7.72 1.47 1.35L5.41 20z\"/>\n",
              "  </svg>\n",
              "      </button>\n",
              "      \n",
              "  <style>\n",
              "    .colab-df-container {\n",
              "      display:flex;\n",
              "      flex-wrap:wrap;\n",
              "      gap: 12px;\n",
              "    }\n",
              "\n",
              "    .colab-df-convert {\n",
              "      background-color: #E8F0FE;\n",
              "      border: none;\n",
              "      border-radius: 50%;\n",
              "      cursor: pointer;\n",
              "      display: none;\n",
              "      fill: #1967D2;\n",
              "      height: 32px;\n",
              "      padding: 0 0 0 0;\n",
              "      width: 32px;\n",
              "    }\n",
              "\n",
              "    .colab-df-convert:hover {\n",
              "      background-color: #E2EBFA;\n",
              "      box-shadow: 0px 1px 2px rgba(60, 64, 67, 0.3), 0px 1px 3px 1px rgba(60, 64, 67, 0.15);\n",
              "      fill: #174EA6;\n",
              "    }\n",
              "\n",
              "    [theme=dark] .colab-df-convert {\n",
              "      background-color: #3B4455;\n",
              "      fill: #D2E3FC;\n",
              "    }\n",
              "\n",
              "    [theme=dark] .colab-df-convert:hover {\n",
              "      background-color: #434B5C;\n",
              "      box-shadow: 0px 1px 3px 1px rgba(0, 0, 0, 0.15);\n",
              "      filter: drop-shadow(0px 1px 2px rgba(0, 0, 0, 0.3));\n",
              "      fill: #FFFFFF;\n",
              "    }\n",
              "  </style>\n",
              "\n",
              "      <script>\n",
              "        const buttonEl =\n",
              "          document.querySelector('#df-7a8c74f9-79f3-41e5-80e1-83a08eaa822a button.colab-df-convert');\n",
              "        buttonEl.style.display =\n",
              "          google.colab.kernel.accessAllowed ? 'block' : 'none';\n",
              "\n",
              "        async function convertToInteractive(key) {\n",
              "          const element = document.querySelector('#df-7a8c74f9-79f3-41e5-80e1-83a08eaa822a');\n",
              "          const dataTable =\n",
              "            await google.colab.kernel.invokeFunction('convertToInteractive',\n",
              "                                                     [key], {});\n",
              "          if (!dataTable) return;\n",
              "\n",
              "          const docLinkHtml = 'Like what you see? Visit the ' +\n",
              "            '<a target=\"_blank\" href=https://colab.research.google.com/notebooks/data_table.ipynb>data table notebook</a>'\n",
              "            + ' to learn more about interactive tables.';\n",
              "          element.innerHTML = '';\n",
              "          dataTable['output_type'] = 'display_data';\n",
              "          await google.colab.output.renderOutput(dataTable, element);\n",
              "          const docLink = document.createElement('div');\n",
              "          docLink.innerHTML = docLinkHtml;\n",
              "          element.appendChild(docLink);\n",
              "        }\n",
              "      </script>\n",
              "    </div>\n",
              "  </div>\n",
              "  "
            ],
            "text/plain": [
              "       video_id  ... comment_count\n",
              "0   -2i4xmW6u2A  ...             0\n",
              "1   avbZDwi4VTM  ...             0\n",
              "2   TWkT6ovxAtQ  ...             0\n",
              "3   Bj0CMyhLDRU  ...             0\n",
              "4   neGDJyEpkVw  ...             0\n",
              "5   CvRncH8rdPc  ...             2\n",
              "6   VgB6hCpFong  ...             8\n",
              "7   dUMmMRKPek4  ...             0\n",
              "8   lZvB18OSDe8  ...             0\n",
              "9   -fVxmrQeTBA  ...             4\n",
              "10  -zy2pXzqwCM  ...             3\n",
              "11  j6VUf73iY00  ...             1\n",
              "12  1kFw5iGUxSU  ...            32\n",
              "13  4mVlcq8BHJk  ...             0\n",
              "14  EnqCrg8J0YU  ...             0\n",
              "15  fD_TvzuH_vE  ...             0\n",
              "16  jRNvxO8ZPdo  ...             1\n",
              "\n",
              "[17 rows x 6 columns]"
            ]
          },
          "metadata": {},
          "execution_count": 29
        }
      ]
    },
    {
      "cell_type": "code",
      "source": [
        "append_df_to_db(cursor, new_df)\n",
        "conn_db.commit()"
      ],
      "metadata": {
        "id": "MlM69sfTKUQm"
      },
      "execution_count": 34,
      "outputs": []
    },
    {
      "cell_type": "code",
      "source": [
        "#Let's check if that works!\n",
        "query = '''SELECT * FROM yt_channel_videos;'''\n",
        "cursor.execute(query)\n",
        "output = cursor.fetchall()\n",
        "for row in output:\n",
        "  print(row)"
      ],
      "metadata": {
        "colab": {
          "base_uri": "https://localhost:8080/"
        },
        "id": "RdLjGDYsKl4n",
        "outputId": "4587d010-b159-40bc-8ee6-9dc569fef85a"
      },
      "execution_count": 35,
      "outputs": [
        {
          "output_type": "stream",
          "name": "stdout",
          "text": [
            "('-2i4xmW6u2A', 'ZHU - In the Morning* [Short Cover]', datetime.date(2018, 9, 23), 288, 11, 0)\n",
            "('-fVxmrQeTBA', 'Test 1', datetime.date(2017, 2, 15), 76, 1, 4)\n",
            "('-zy2pXzqwCM', 'Zabranjeno Pušenje - Ženi Nam Se Vukota //Solo (Cover)', datetime.date(2017, 1, 21), 3839, 41, 3)\n",
            "('1kFw5iGUxSU', 'REPILF - 1312 NIJANSI CRNE (SPOT)', datetime.date(2016, 11, 26), 31537, 322, 32)\n",
            "('4mVlcq8BHJk', 'dark cloud - broken promise (guitar cover)', datetime.date(2016, 8, 1), 335, 9, 0)\n",
            "('avbZDwi4VTM', 'Amra Mandžukić #4 //BIH Women&#39;s National Volleyball Team', datetime.date(2018, 5, 17), 808, 13, 0)\n",
            "('Bj0CMyhLDRU', 'Poklon Čani', datetime.date(2018, 2, 10), 113, 6, 0)\n",
            "('CvRncH8rdPc', 'Riblja Čorba - Bože, koliko je volim (COVER)', datetime.date(2017, 10, 2), 491, 14, 2)\n",
            "('dUMmMRKPek4', 'Scientific method fromBosnia be like...', datetime.date(2017, 2, 20), 190, 3, 0)\n",
            "('EnqCrg8J0YU', 'snimanje karakteristika tranzistora.', datetime.date(2016, 7, 12), 252, 4, 0)\n",
            "('fD_TvzuH_vE', 'merrie melodies opening theme (guitar cover)', datetime.date(2016, 2, 20), 828, 12, 0)\n",
            "('j6VUf73iY00', 'S.A.R.S. - Praktična žena (Bass Cover)', datetime.date(2017, 1, 7), 381, 7, 1)\n",
            "('jRNvxO8ZPdo', 'Alice in Chains - Would? (Unplugged) cover', datetime.date(2014, 7, 28), 178, 3, 1)\n",
            "('lZvB18OSDe8', 'Intro 1', datetime.date(2017, 2, 18), 36, 0, 0)\n",
            "('neGDJyEpkVw', 'žeks from skugric $$ thug life $$', datetime.date(2018, 1, 30), 211, 4, 0)\n",
            "('TWkT6ovxAtQ', 'Animal Farm (BOSNIA Edition)', datetime.date(2018, 3, 1), 127, 4, 0)\n",
            "('VgB6hCpFong', 'Šoferska je tuga pregolema (Guitar)', datetime.date(2017, 4, 13), 523, 5, 8)\n"
          ]
        }
      ]
    },
    {
      "cell_type": "code",
      "source": [
        "len(output) == len(new_df) #There we go ;)"
      ],
      "metadata": {
        "colab": {
          "base_uri": "https://localhost:8080/"
        },
        "id": "_ynWVALjLIr4",
        "outputId": "8c6aa34e-64c3-4a01-d9a0-397f1303ab81"
      },
      "execution_count": 38,
      "outputs": [
        {
          "output_type": "execute_result",
          "data": {
            "text/plain": [
              "True"
            ]
          },
          "metadata": {},
          "execution_count": 38
        }
      ]
    },
    {
      "cell_type": "code",
      "source": [
        "#Let's see if the update function works. \n",
        "#Now, I'm going to make a dataframe with a synthetic data such that some of the columns from the existing rows are changed (view_counts etc.),\n",
        "#and I'm also going to add some new videos with random stuff that mimic this dataset, since I'm not that YouTube popular ;)\n",
        "\n",
        "df_syn = df.copy() #Synthetic dataset\n",
        "df_syn.head()"
      ],
      "metadata": {
        "colab": {
          "base_uri": "https://localhost:8080/",
          "height": 206
        },
        "id": "8e5qF5YZLhdq",
        "outputId": "6d078298-abd7-4cf9-e461-2ca3686d1470"
      },
      "execution_count": 39,
      "outputs": [
        {
          "output_type": "execute_result",
          "data": {
            "text/html": [
              "\n",
              "  <div id=\"df-3f42032a-7cb1-46d1-8050-44af426fdca6\">\n",
              "    <div class=\"colab-df-container\">\n",
              "      <div>\n",
              "<style scoped>\n",
              "    .dataframe tbody tr th:only-of-type {\n",
              "        vertical-align: middle;\n",
              "    }\n",
              "\n",
              "    .dataframe tbody tr th {\n",
              "        vertical-align: top;\n",
              "    }\n",
              "\n",
              "    .dataframe thead th {\n",
              "        text-align: right;\n",
              "    }\n",
              "</style>\n",
              "<table border=\"1\" class=\"dataframe\">\n",
              "  <thead>\n",
              "    <tr style=\"text-align: right;\">\n",
              "      <th></th>\n",
              "      <th>video_id</th>\n",
              "      <th>video_title</th>\n",
              "      <th>upload_date</th>\n",
              "      <th>view_count</th>\n",
              "      <th>like_count</th>\n",
              "      <th>comment_count</th>\n",
              "    </tr>\n",
              "  </thead>\n",
              "  <tbody>\n",
              "    <tr>\n",
              "      <th>0</th>\n",
              "      <td>-2i4xmW6u2A</td>\n",
              "      <td>ZHU - In the Morning* [Short Cover]</td>\n",
              "      <td>2018-09-23</td>\n",
              "      <td>288</td>\n",
              "      <td>11</td>\n",
              "      <td>0</td>\n",
              "    </tr>\n",
              "    <tr>\n",
              "      <th>1</th>\n",
              "      <td>avbZDwi4VTM</td>\n",
              "      <td>Amra Mandžukić #4 //BIH Women&amp;#39;s National V...</td>\n",
              "      <td>2018-05-17</td>\n",
              "      <td>808</td>\n",
              "      <td>13</td>\n",
              "      <td>0</td>\n",
              "    </tr>\n",
              "    <tr>\n",
              "      <th>2</th>\n",
              "      <td>TWkT6ovxAtQ</td>\n",
              "      <td>Animal Farm (BOSNIA Edition)</td>\n",
              "      <td>2018-03-01</td>\n",
              "      <td>127</td>\n",
              "      <td>4</td>\n",
              "      <td>0</td>\n",
              "    </tr>\n",
              "    <tr>\n",
              "      <th>3</th>\n",
              "      <td>Bj0CMyhLDRU</td>\n",
              "      <td>Poklon Čani</td>\n",
              "      <td>2018-02-10</td>\n",
              "      <td>113</td>\n",
              "      <td>6</td>\n",
              "      <td>0</td>\n",
              "    </tr>\n",
              "    <tr>\n",
              "      <th>4</th>\n",
              "      <td>neGDJyEpkVw</td>\n",
              "      <td>žeks from skugric $$ thug life $$</td>\n",
              "      <td>2018-01-30</td>\n",
              "      <td>211</td>\n",
              "      <td>4</td>\n",
              "      <td>0</td>\n",
              "    </tr>\n",
              "  </tbody>\n",
              "</table>\n",
              "</div>\n",
              "      <button class=\"colab-df-convert\" onclick=\"convertToInteractive('df-3f42032a-7cb1-46d1-8050-44af426fdca6')\"\n",
              "              title=\"Convert this dataframe to an interactive table.\"\n",
              "              style=\"display:none;\">\n",
              "        \n",
              "  <svg xmlns=\"http://www.w3.org/2000/svg\" height=\"24px\"viewBox=\"0 0 24 24\"\n",
              "       width=\"24px\">\n",
              "    <path d=\"M0 0h24v24H0V0z\" fill=\"none\"/>\n",
              "    <path d=\"M18.56 5.44l.94 2.06.94-2.06 2.06-.94-2.06-.94-.94-2.06-.94 2.06-2.06.94zm-11 1L8.5 8.5l.94-2.06 2.06-.94-2.06-.94L8.5 2.5l-.94 2.06-2.06.94zm10 10l.94 2.06.94-2.06 2.06-.94-2.06-.94-.94-2.06-.94 2.06-2.06.94z\"/><path d=\"M17.41 7.96l-1.37-1.37c-.4-.4-.92-.59-1.43-.59-.52 0-1.04.2-1.43.59L10.3 9.45l-7.72 7.72c-.78.78-.78 2.05 0 2.83L4 21.41c.39.39.9.59 1.41.59.51 0 1.02-.2 1.41-.59l7.78-7.78 2.81-2.81c.8-.78.8-2.07 0-2.86zM5.41 20L4 18.59l7.72-7.72 1.47 1.35L5.41 20z\"/>\n",
              "  </svg>\n",
              "      </button>\n",
              "      \n",
              "  <style>\n",
              "    .colab-df-container {\n",
              "      display:flex;\n",
              "      flex-wrap:wrap;\n",
              "      gap: 12px;\n",
              "    }\n",
              "\n",
              "    .colab-df-convert {\n",
              "      background-color: #E8F0FE;\n",
              "      border: none;\n",
              "      border-radius: 50%;\n",
              "      cursor: pointer;\n",
              "      display: none;\n",
              "      fill: #1967D2;\n",
              "      height: 32px;\n",
              "      padding: 0 0 0 0;\n",
              "      width: 32px;\n",
              "    }\n",
              "\n",
              "    .colab-df-convert:hover {\n",
              "      background-color: #E2EBFA;\n",
              "      box-shadow: 0px 1px 2px rgba(60, 64, 67, 0.3), 0px 1px 3px 1px rgba(60, 64, 67, 0.15);\n",
              "      fill: #174EA6;\n",
              "    }\n",
              "\n",
              "    [theme=dark] .colab-df-convert {\n",
              "      background-color: #3B4455;\n",
              "      fill: #D2E3FC;\n",
              "    }\n",
              "\n",
              "    [theme=dark] .colab-df-convert:hover {\n",
              "      background-color: #434B5C;\n",
              "      box-shadow: 0px 1px 3px 1px rgba(0, 0, 0, 0.15);\n",
              "      filter: drop-shadow(0px 1px 2px rgba(0, 0, 0, 0.3));\n",
              "      fill: #FFFFFF;\n",
              "    }\n",
              "  </style>\n",
              "\n",
              "      <script>\n",
              "        const buttonEl =\n",
              "          document.querySelector('#df-3f42032a-7cb1-46d1-8050-44af426fdca6 button.colab-df-convert');\n",
              "        buttonEl.style.display =\n",
              "          google.colab.kernel.accessAllowed ? 'block' : 'none';\n",
              "\n",
              "        async function convertToInteractive(key) {\n",
              "          const element = document.querySelector('#df-3f42032a-7cb1-46d1-8050-44af426fdca6');\n",
              "          const dataTable =\n",
              "            await google.colab.kernel.invokeFunction('convertToInteractive',\n",
              "                                                     [key], {});\n",
              "          if (!dataTable) return;\n",
              "\n",
              "          const docLinkHtml = 'Like what you see? Visit the ' +\n",
              "            '<a target=\"_blank\" href=https://colab.research.google.com/notebooks/data_table.ipynb>data table notebook</a>'\n",
              "            + ' to learn more about interactive tables.';\n",
              "          element.innerHTML = '';\n",
              "          dataTable['output_type'] = 'display_data';\n",
              "          await google.colab.output.renderOutput(dataTable, element);\n",
              "          const docLink = document.createElement('div');\n",
              "          docLink.innerHTML = docLinkHtml;\n",
              "          element.appendChild(docLink);\n",
              "        }\n",
              "      </script>\n",
              "    </div>\n",
              "  </div>\n",
              "  "
            ],
            "text/plain": [
              "      video_id  ... comment_count\n",
              "0  -2i4xmW6u2A  ...             0\n",
              "1  avbZDwi4VTM  ...             0\n",
              "2  TWkT6ovxAtQ  ...             0\n",
              "3  Bj0CMyhLDRU  ...             0\n",
              "4  neGDJyEpkVw  ...             0\n",
              "\n",
              "[5 rows x 6 columns]"
            ]
          },
          "metadata": {},
          "execution_count": 39
        }
      ]
    },
    {
      "cell_type": "code",
      "source": [
        "#View count must be more than existing and hence: view_count = view_count + randomint()\n",
        "df_syn.at[1, 'view_count']"
      ],
      "metadata": {
        "colab": {
          "base_uri": "https://localhost:8080/"
        },
        "id": "rA0FpBwkMxg5",
        "outputId": "42c5be7b-b335-4da3-895f-61bcf00cf14d"
      },
      "execution_count": 56,
      "outputs": [
        {
          "output_type": "execute_result",
          "data": {
            "text/plain": [
              "808"
            ]
          },
          "metadata": {},
          "execution_count": 56
        }
      ]
    },
    {
      "cell_type": "code",
      "source": [
        "#Generating random integers\n",
        "\n",
        "from random import seed, randint\n",
        "#Setting a random seed is not *that necessary* because we want our values to be random, and possibly each time different.\n",
        "#The logic remains the same, the p-value is still 0.05 :P \n",
        "seed(42) \n",
        "for _ in range(10):\n",
        "\tvalue = randint(1000, 100000) #I'm forecasting to be so popular on YouTube :P\n",
        "\tprint(value)"
      ],
      "metadata": {
        "colab": {
          "base_uri": "https://localhost:8080/"
        },
        "id": "QC7czn-oOUPW",
        "outputId": "2180473d-b0f2-47db-ab1f-ac3d19fcbdae"
      },
      "execution_count": 54,
      "outputs": [
        {
          "output_type": "stream",
          "name": "stdout",
          "text": [
            "84810\n",
            "15592\n",
            "4278\n",
            "98196\n",
            "37048\n",
            "33098\n",
            "30256\n",
            "19289\n",
            "97530\n",
            "14434\n"
          ]
        }
      ]
    },
    {
      "cell_type": "code",
      "source": [
        "#######VIEW COUNTS#######"
      ],
      "metadata": {
        "id": "92Og2Y4tUyCr"
      },
      "execution_count": 65,
      "outputs": []
    },
    {
      "cell_type": "code",
      "source": [
        "#Values of view_count before:\n",
        "df_syn.at[1, 'view_count'], df_syn.at[5, 'view_count'], df_syn.at[8, 'view_count']"
      ],
      "metadata": {
        "colab": {
          "base_uri": "https://localhost:8080/"
        },
        "id": "Gq0u4GgCRyiM",
        "outputId": "545fdde9-0c45-4a42-adf2-3b2447fb799b"
      },
      "execution_count": 59,
      "outputs": [
        {
          "output_type": "execute_result",
          "data": {
            "text/plain": [
              "(808, 491, 36)"
            ]
          },
          "metadata": {},
          "execution_count": 59
        }
      ]
    },
    {
      "cell_type": "code",
      "source": [
        "#We are going to change just a few of a videos\n",
        "df_syn.at[1, 'view_count'] = df_syn.at[1, 'view_count'] + randint(1000,10000)\n",
        "df_syn.at[5, 'view_count'] = df_syn.at[5, 'view_count'] + randint(1000,10000)\n",
        "df_syn.at[8, 'view_count'] = df_syn.at[8, 'view_count'] + randint(1000,10000)"
      ],
      "metadata": {
        "id": "YseJo8m-RFjr"
      },
      "execution_count": 60,
      "outputs": []
    },
    {
      "cell_type": "code",
      "source": [
        "#Values of view_count after:\n",
        "df_syn.at[1, 'view_count'], df_syn.at[5, 'view_count'], df_syn.at[8, 'view_count']"
      ],
      "metadata": {
        "colab": {
          "base_uri": "https://localhost:8080/"
        },
        "id": "q16Ok82gR_VR",
        "outputId": "b19fde06-eb25-4b84-a736-685f976f11d5"
      },
      "execution_count": 61,
      "outputs": [
        {
          "output_type": "execute_result",
          "data": {
            "text/plain": [
              "(8720, 2011, 1524)"
            ]
          },
          "metadata": {},
          "execution_count": 61
        }
      ]
    },
    {
      "cell_type": "code",
      "source": [
        "#######LIKE COUNTS#######"
      ],
      "metadata": {
        "id": "qnzaDYALU2K4"
      },
      "execution_count": 66,
      "outputs": []
    },
    {
      "cell_type": "code",
      "source": [
        "#Values of like_count before \n",
        "df_syn.at[2, 'like_count'], df_syn.at[4, 'like_count'], df_syn.at[9, 'like_count']"
      ],
      "metadata": {
        "colab": {
          "base_uri": "https://localhost:8080/"
        },
        "id": "75hje2dcUYjg",
        "outputId": "2303275f-b98e-486e-c1bb-b736c7e3d890"
      },
      "execution_count": 62,
      "outputs": [
        {
          "output_type": "execute_result",
          "data": {
            "text/plain": [
              "(4, 4, 1)"
            ]
          },
          "metadata": {},
          "execution_count": 62
        }
      ]
    },
    {
      "cell_type": "code",
      "source": [
        "#Values of view_count before:\n",
        "df_syn.at[2, 'like_count'] = df_syn.at[2, 'like_count'] + randint(10,100)\n",
        "df_syn.at[4, 'like_count'] = df_syn.at[4, 'like_count'] + randint(10,100)\n",
        "df_syn.at[9, 'like_count'] = df_syn.at[9, 'like_count'] + randint(10,100)"
      ],
      "metadata": {
        "id": "cadlSXmpOREP"
      },
      "execution_count": 63,
      "outputs": []
    },
    {
      "cell_type": "code",
      "source": [
        "#Values of like_count after\n",
        "df_syn.at[2, 'like_count'], df_syn.at[4, 'like_count'], df_syn.at[9, 'like_count']"
      ],
      "metadata": {
        "colab": {
          "base_uri": "https://localhost:8080/"
        },
        "id": "awBlohhqUrEj",
        "outputId": "d1585593-f9a9-4fc0-8a8c-0022905254ea"
      },
      "execution_count": 64,
      "outputs": [
        {
          "output_type": "execute_result",
          "data": {
            "text/plain": [
              "(25, 41, 40)"
            ]
          },
          "metadata": {},
          "execution_count": 64
        }
      ]
    },
    {
      "cell_type": "code",
      "source": [
        "#######NEW VIDEOS#######"
      ],
      "metadata": {
        "id": "Hynn8dp0U5Kk"
      },
      "execution_count": null,
      "outputs": []
    },
    {
      "cell_type": "code",
      "source": [
        "##RANDOM VIDEO IDS\n",
        "from random import choice\n",
        "from string import ascii_letters as al\n",
        "length_of_random_string = 11 #Since all of the video_id's are of length 11\n",
        "\n",
        "random_string = \"\".join(choice(al) for i in range(length_of_random_string))\n",
        "\n",
        "print(random_string)"
      ],
      "metadata": {
        "colab": {
          "base_uri": "https://localhost:8080/"
        },
        "id": "nAmUcE-wU_S9",
        "outputId": "18fc47a9-d34d-45ba-d636-3d809cc14283"
      },
      "execution_count": 77,
      "outputs": [
        {
          "output_type": "stream",
          "name": "stdout",
          "text": [
            "jnWvgfygwwM\n"
          ]
        }
      ]
    },
    {
      "cell_type": "code",
      "source": [
        "len('jnWvgfygwwM')"
      ],
      "metadata": {
        "colab": {
          "base_uri": "https://localhost:8080/"
        },
        "id": "AxQ8Fnqsh80k",
        "outputId": "246b8e52-6e73-4673-c8ab-d6bfd35e692e"
      },
      "execution_count": 136,
      "outputs": [
        {
          "output_type": "execute_result",
          "data": {
            "text/plain": [
              "11"
            ]
          },
          "metadata": {},
          "execution_count": 136
        }
      ]
    },
    {
      "cell_type": "markdown",
      "source": [
        "#Probability of having IDs same as ones I already have?\n",
        "Given that video_id is a string of length 11 and contains set of ascii_letters where len(ascii_letters) = 128 (128 unique chars) it would mean that there are 128^11=1.5111573e+23 unique possibilities. Probability is pretty much num_of_videos/128^11. Probability tends to 0, BUT there is still a possibility. ;) "
      ],
      "metadata": {
        "id": "8l5B1OaZh1HH"
      }
    },
    {
      "cell_type": "code",
      "source": [
        "##RANDOM DATES\n",
        "!pip install Faker"
      ],
      "metadata": {
        "colab": {
          "base_uri": "https://localhost:8080/"
        },
        "id": "w0AmD4fwX7bH",
        "outputId": "be9e3d7c-d0d6-4491-969d-0fad9d1d9077"
      },
      "execution_count": 86,
      "outputs": [
        {
          "output_type": "stream",
          "name": "stdout",
          "text": [
            "Collecting Faker\n",
            "  Downloading Faker-12.1.0-py3-none-any.whl (1.5 MB)\n",
            "\u001b[K     |████████████████████████████████| 1.5 MB 5.0 MB/s \n",
            "\u001b[?25hRequirement already satisfied: typing-extensions>=3.10.0.2 in /usr/local/lib/python3.7/dist-packages (from Faker) (3.10.0.2)\n",
            "Requirement already satisfied: python-dateutil>=2.4 in /usr/local/lib/python3.7/dist-packages (from Faker) (2.8.2)\n",
            "Requirement already satisfied: six>=1.5 in /usr/local/lib/python3.7/dist-packages (from python-dateutil>=2.4->Faker) (1.15.0)\n",
            "Installing collected packages: Faker\n",
            "Successfully installed Faker-12.1.0\n"
          ]
        }
      ]
    },
    {
      "cell_type": "code",
      "source": [
        "#We are lucky enough that dates are sorted in descending order ;)\n",
        "df_syn.head()"
      ],
      "metadata": {
        "colab": {
          "base_uri": "https://localhost:8080/",
          "height": 206
        },
        "id": "R4keAubnYSUB",
        "outputId": "e69c85a5-4df9-4778-905c-bcffd926d485"
      },
      "execution_count": 88,
      "outputs": [
        {
          "output_type": "execute_result",
          "data": {
            "text/html": [
              "\n",
              "  <div id=\"df-49168ff1-85aa-4c9a-ad28-6226b56df9ad\">\n",
              "    <div class=\"colab-df-container\">\n",
              "      <div>\n",
              "<style scoped>\n",
              "    .dataframe tbody tr th:only-of-type {\n",
              "        vertical-align: middle;\n",
              "    }\n",
              "\n",
              "    .dataframe tbody tr th {\n",
              "        vertical-align: top;\n",
              "    }\n",
              "\n",
              "    .dataframe thead th {\n",
              "        text-align: right;\n",
              "    }\n",
              "</style>\n",
              "<table border=\"1\" class=\"dataframe\">\n",
              "  <thead>\n",
              "    <tr style=\"text-align: right;\">\n",
              "      <th></th>\n",
              "      <th>video_id</th>\n",
              "      <th>video_title</th>\n",
              "      <th>upload_date</th>\n",
              "      <th>view_count</th>\n",
              "      <th>like_count</th>\n",
              "      <th>comment_count</th>\n",
              "    </tr>\n",
              "  </thead>\n",
              "  <tbody>\n",
              "    <tr>\n",
              "      <th>0</th>\n",
              "      <td>-2i4xmW6u2A</td>\n",
              "      <td>ZHU - In the Morning* [Short Cover]</td>\n",
              "      <td>2018-09-23</td>\n",
              "      <td>288</td>\n",
              "      <td>11</td>\n",
              "      <td>0</td>\n",
              "    </tr>\n",
              "    <tr>\n",
              "      <th>1</th>\n",
              "      <td>avbZDwi4VTM</td>\n",
              "      <td>Amra Mandžukić #4 //BIH Women&amp;#39;s National V...</td>\n",
              "      <td>2018-05-17</td>\n",
              "      <td>8720</td>\n",
              "      <td>13</td>\n",
              "      <td>0</td>\n",
              "    </tr>\n",
              "    <tr>\n",
              "      <th>2</th>\n",
              "      <td>TWkT6ovxAtQ</td>\n",
              "      <td>Animal Farm (BOSNIA Edition)</td>\n",
              "      <td>2018-03-01</td>\n",
              "      <td>127</td>\n",
              "      <td>25</td>\n",
              "      <td>0</td>\n",
              "    </tr>\n",
              "    <tr>\n",
              "      <th>3</th>\n",
              "      <td>Bj0CMyhLDRU</td>\n",
              "      <td>Poklon Čani</td>\n",
              "      <td>2018-02-10</td>\n",
              "      <td>113</td>\n",
              "      <td>6</td>\n",
              "      <td>0</td>\n",
              "    </tr>\n",
              "    <tr>\n",
              "      <th>4</th>\n",
              "      <td>neGDJyEpkVw</td>\n",
              "      <td>žeks from skugric $$ thug life $$</td>\n",
              "      <td>2018-01-30</td>\n",
              "      <td>211</td>\n",
              "      <td>41</td>\n",
              "      <td>0</td>\n",
              "    </tr>\n",
              "  </tbody>\n",
              "</table>\n",
              "</div>\n",
              "      <button class=\"colab-df-convert\" onclick=\"convertToInteractive('df-49168ff1-85aa-4c9a-ad28-6226b56df9ad')\"\n",
              "              title=\"Convert this dataframe to an interactive table.\"\n",
              "              style=\"display:none;\">\n",
              "        \n",
              "  <svg xmlns=\"http://www.w3.org/2000/svg\" height=\"24px\"viewBox=\"0 0 24 24\"\n",
              "       width=\"24px\">\n",
              "    <path d=\"M0 0h24v24H0V0z\" fill=\"none\"/>\n",
              "    <path d=\"M18.56 5.44l.94 2.06.94-2.06 2.06-.94-2.06-.94-.94-2.06-.94 2.06-2.06.94zm-11 1L8.5 8.5l.94-2.06 2.06-.94-2.06-.94L8.5 2.5l-.94 2.06-2.06.94zm10 10l.94 2.06.94-2.06 2.06-.94-2.06-.94-.94-2.06-.94 2.06-2.06.94z\"/><path d=\"M17.41 7.96l-1.37-1.37c-.4-.4-.92-.59-1.43-.59-.52 0-1.04.2-1.43.59L10.3 9.45l-7.72 7.72c-.78.78-.78 2.05 0 2.83L4 21.41c.39.39.9.59 1.41.59.51 0 1.02-.2 1.41-.59l7.78-7.78 2.81-2.81c.8-.78.8-2.07 0-2.86zM5.41 20L4 18.59l7.72-7.72 1.47 1.35L5.41 20z\"/>\n",
              "  </svg>\n",
              "      </button>\n",
              "      \n",
              "  <style>\n",
              "    .colab-df-container {\n",
              "      display:flex;\n",
              "      flex-wrap:wrap;\n",
              "      gap: 12px;\n",
              "    }\n",
              "\n",
              "    .colab-df-convert {\n",
              "      background-color: #E8F0FE;\n",
              "      border: none;\n",
              "      border-radius: 50%;\n",
              "      cursor: pointer;\n",
              "      display: none;\n",
              "      fill: #1967D2;\n",
              "      height: 32px;\n",
              "      padding: 0 0 0 0;\n",
              "      width: 32px;\n",
              "    }\n",
              "\n",
              "    .colab-df-convert:hover {\n",
              "      background-color: #E2EBFA;\n",
              "      box-shadow: 0px 1px 2px rgba(60, 64, 67, 0.3), 0px 1px 3px 1px rgba(60, 64, 67, 0.15);\n",
              "      fill: #174EA6;\n",
              "    }\n",
              "\n",
              "    [theme=dark] .colab-df-convert {\n",
              "      background-color: #3B4455;\n",
              "      fill: #D2E3FC;\n",
              "    }\n",
              "\n",
              "    [theme=dark] .colab-df-convert:hover {\n",
              "      background-color: #434B5C;\n",
              "      box-shadow: 0px 1px 3px 1px rgba(0, 0, 0, 0.15);\n",
              "      filter: drop-shadow(0px 1px 2px rgba(0, 0, 0, 0.3));\n",
              "      fill: #FFFFFF;\n",
              "    }\n",
              "  </style>\n",
              "\n",
              "      <script>\n",
              "        const buttonEl =\n",
              "          document.querySelector('#df-49168ff1-85aa-4c9a-ad28-6226b56df9ad button.colab-df-convert');\n",
              "        buttonEl.style.display =\n",
              "          google.colab.kernel.accessAllowed ? 'block' : 'none';\n",
              "\n",
              "        async function convertToInteractive(key) {\n",
              "          const element = document.querySelector('#df-49168ff1-85aa-4c9a-ad28-6226b56df9ad');\n",
              "          const dataTable =\n",
              "            await google.colab.kernel.invokeFunction('convertToInteractive',\n",
              "                                                     [key], {});\n",
              "          if (!dataTable) return;\n",
              "\n",
              "          const docLinkHtml = 'Like what you see? Visit the ' +\n",
              "            '<a target=\"_blank\" href=https://colab.research.google.com/notebooks/data_table.ipynb>data table notebook</a>'\n",
              "            + ' to learn more about interactive tables.';\n",
              "          element.innerHTML = '';\n",
              "          dataTable['output_type'] = 'display_data';\n",
              "          await google.colab.output.renderOutput(dataTable, element);\n",
              "          const docLink = document.createElement('div');\n",
              "          docLink.innerHTML = docLinkHtml;\n",
              "          element.appendChild(docLink);\n",
              "        }\n",
              "      </script>\n",
              "    </div>\n",
              "  </div>\n",
              "  "
            ],
            "text/plain": [
              "      video_id  ... comment_count\n",
              "0  -2i4xmW6u2A  ...             0\n",
              "1  avbZDwi4VTM  ...             0\n",
              "2  TWkT6ovxAtQ  ...             0\n",
              "3  Bj0CMyhLDRU  ...             0\n",
              "4  neGDJyEpkVw  ...             0\n",
              "\n",
              "[5 rows x 6 columns]"
            ]
          },
          "metadata": {},
          "execution_count": 88
        }
      ]
    },
    {
      "cell_type": "code",
      "source": [
        "###### NEW ROWS ######"
      ],
      "metadata": {
        "id": "3ssEYkeUpVKO"
      },
      "execution_count": 183,
      "outputs": []
    },
    {
      "cell_type": "code",
      "source": [
        "#I'm going to use Faker library so that I can generate random dates\n",
        "#Using the basic common sense we can conclude this logic: This dataframe contains all the videos that I ever uploaded, so \n",
        "#I can't add a video that is older than todays date and earlier than the latest video I've uploaded\n",
        "#Well, since YouTube API collects only Public videos, there might be a possibility that I've made some videos Private which might be 'younger' or 'equal'\n",
        "#than my latest video upload and older than date of my account creation. \n",
        "\n",
        "from faker import Faker\n",
        "import datetime\n",
        "fake = Faker()\n",
        "\n",
        "#Date today\n",
        "today_date = datetime.date.today()\n",
        "today_year = int(today_date.strftime('%Y'))\n",
        "today_month = int(today_date.strftime('%m'))\n",
        "today_day = int(today_date.strftime('%d'))\n",
        "\n",
        "#Latest video date\n",
        "latest_date = df_syn.at[0, 'upload_date'].split('-')\n",
        "ld_year = int(df_syn.at[0, 'upload_date'].split('-')[0])\n",
        "ld_month = int(df_syn.at[0, 'upload_date'].split('-')[1])\n",
        "ld_day = int(df_syn.at[0, 'upload_date'].split('-')[2])\n",
        "\n",
        "\n",
        "start_date = datetime.date(year = ld_year, month = ld_month, day = ld_day)\n",
        "end_date = datetime.date(year = today_year, month = today_month, day = today_day)\n",
        "date_in_between = fake.date_between(start_date = start_date, end_date = end_date)\n",
        "\n",
        "print(f'Start date: {start_date}; End date: {end_date}; Date in between: {date_in_between}.')"
      ],
      "metadata": {
        "colab": {
          "base_uri": "https://localhost:8080/"
        },
        "id": "eKvByXiwYCET",
        "outputId": "820c3daf-b773-43eb-b858-7bbdcc33a164"
      },
      "execution_count": 126,
      "outputs": [
        {
          "output_type": "stream",
          "name": "stdout",
          "text": [
            "Start date: 2018-09-23; End date: 2022-02-09; Date in between: 2019-07-09.\n"
          ]
        }
      ]
    },
    {
      "cell_type": "code",
      "source": [
        "#This seems good!"
      ],
      "metadata": {
        "id": "L-snxMnre3Uv"
      },
      "execution_count": null,
      "outputs": []
    },
    {
      "cell_type": "code",
      "source": [
        "%pprint"
      ],
      "metadata": {
        "colab": {
          "base_uri": "https://localhost:8080/"
        },
        "id": "zNYjP9tWW8Yz",
        "outputId": "02bb5e28-8506-454d-a367-7dbfd6eae364"
      },
      "execution_count": 81,
      "outputs": [
        {
          "output_type": "stream",
          "name": "stdout",
          "text": [
            "Pretty printing has been turned ON\n"
          ]
        }
      ]
    },
    {
      "cell_type": "code",
      "source": [
        "#metoo ^"
      ],
      "metadata": {
        "id": "5LWCsuzfeLRw"
      },
      "execution_count": null,
      "outputs": []
    },
    {
      "cell_type": "code",
      "source": [
        "##RANDOM VIDEO TITLES\n",
        "\n",
        "#Let's train a Youtube Video Title Generator using LSTMs... NO!"
      ],
      "metadata": {
        "id": "tKFLh9V8fQD2"
      },
      "execution_count": null,
      "outputs": []
    },
    {
      "cell_type": "code",
      "source": [
        "##DETERMINISTIC VIDEO TITLES\n",
        "video_1_title = 'How to train a Youtube Video Title Generator using LSTMs'\n",
        "video_2_title = \"I'm so lazy to train a Youtube Video Title Generator using LSTMs (Part 1)\"\n",
        "video_3_title = \"I'm so lazy to train a Youtube Video Title Generator using LSTMs (Part 2)\""
      ],
      "metadata": {
        "id": "5539w1ODgJ6Z"
      },
      "execution_count": 134,
      "outputs": []
    },
    {
      "cell_type": "code",
      "source": [
        "fake.date_between(start_date = start_date, end_date = end_date)"
      ],
      "metadata": {
        "colab": {
          "base_uri": "https://localhost:8080/"
        },
        "id": "o0UIVRqNlCkd",
        "outputId": "d8b63ed7-8513-4dcb-c6c4-ed811cc45ed1"
      },
      "execution_count": 154,
      "outputs": [
        {
          "output_type": "execute_result",
          "data": {
            "text/plain": [
              "datetime.date(2020, 3, 23)"
            ]
          },
          "metadata": {},
          "execution_count": 154
        }
      ]
    },
    {
      "cell_type": "code",
      "source": [
        "#Fake video dates\n",
        "video_dates = []\n",
        "for i in range(3):\n",
        "  video_dates.append(fake.date_between(start_date = start_date, end_date = end_date))\n",
        "print(video_dates)"
      ],
      "metadata": {
        "colab": {
          "base_uri": "https://localhost:8080/"
        },
        "id": "1nwdhWhmlMNg",
        "outputId": "8dbeaa37-faf1-467d-b24f-41987b453a8f"
      },
      "execution_count": 157,
      "outputs": [
        {
          "output_type": "stream",
          "name": "stdout",
          "text": [
            "[datetime.date(2020, 9, 23), datetime.date(2020, 11, 28), datetime.date(2019, 3, 29)]\n"
          ]
        }
      ]
    },
    {
      "cell_type": "code",
      "source": [
        "#Fake dates\n",
        "video_1_date = str(video_dates[0])\n",
        "video_2_date = str(video_dates[1])\n",
        "video_3_date = str(video_dates[2])"
      ],
      "metadata": {
        "id": "z2ORnAH0ki_i"
      },
      "execution_count": 158,
      "outputs": []
    },
    {
      "cell_type": "code",
      "source": [
        "#Random Video IDs\n",
        "random_string_1 = \"\".join(choice(al) for i in range(length_of_random_string))\n",
        "random_string_2 = \"\".join(choice(al) for i in range(length_of_random_string))\n",
        "random_string_3 = \"\".join(choice(al) for i in range(length_of_random_string))"
      ],
      "metadata": {
        "id": "RzBmtsganNMP"
      },
      "execution_count": 177,
      "outputs": []
    },
    {
      "cell_type": "code",
      "source": [
        "print(video_1_date, video_2_date)"
      ],
      "metadata": {
        "colab": {
          "base_uri": "https://localhost:8080/"
        },
        "id": "WtZaI9uwlmjw",
        "outputId": "2f8c5709-4307-4db7-be18-9ea318845471"
      },
      "execution_count": 164,
      "outputs": [
        {
          "output_type": "stream",
          "name": "stdout",
          "text": [
            "2020-09-23 2020-11-28\n"
          ]
        }
      ]
    },
    {
      "cell_type": "code",
      "source": [
        "#Three new videos\n",
        "new_row_1 = {'video_id':random_string_1,\n",
        "             'video_title': video_1_title,\n",
        "             'upload_date': video_1_date, \n",
        "              'view_count': randint(1000,10000), \n",
        "              'like_count': randint(10,100), \n",
        "              'comment_count': randint(69,250)}\n",
        "\n",
        "new_row_2 = {'video_id':random_string_2,\n",
        "             'video_title': video_2_title,\n",
        "             'upload_date': video_2_date, \n",
        "              'view_count': randint(1000,10000), \n",
        "              'like_count': randint(10,100), \n",
        "              'comment_count': randint(69,250)}\n",
        "\n",
        "new_row_3 = {'video_id':random_string_3,\n",
        "             'video_title': video_3_title,\n",
        "             'upload_date': video_3_date, \n",
        "              'view_count': randint(1000,10000), \n",
        "              'like_count': randint(10,100), \n",
        "              'comment_count': randint(69,250)}\n"
      ],
      "metadata": {
        "id": "s5bdZtjpWJiQ"
      },
      "execution_count": 178,
      "outputs": []
    },
    {
      "cell_type": "code",
      "source": [
        "temp_df = pd.DataFrame(columns = list(df_syn.columns))\n",
        "temp_df"
      ],
      "metadata": {
        "colab": {
          "base_uri": "https://localhost:8080/",
          "height": 49
        },
        "id": "uxnQuFYzmFVQ",
        "outputId": "6a828701-1e7a-4ff9-e273-61e425170c99"
      },
      "execution_count": 179,
      "outputs": [
        {
          "output_type": "execute_result",
          "data": {
            "text/html": [
              "\n",
              "  <div id=\"df-9ab64525-4cef-4f70-b268-acc2f0d2f5ce\">\n",
              "    <div class=\"colab-df-container\">\n",
              "      <div>\n",
              "<style scoped>\n",
              "    .dataframe tbody tr th:only-of-type {\n",
              "        vertical-align: middle;\n",
              "    }\n",
              "\n",
              "    .dataframe tbody tr th {\n",
              "        vertical-align: top;\n",
              "    }\n",
              "\n",
              "    .dataframe thead th {\n",
              "        text-align: right;\n",
              "    }\n",
              "</style>\n",
              "<table border=\"1\" class=\"dataframe\">\n",
              "  <thead>\n",
              "    <tr style=\"text-align: right;\">\n",
              "      <th></th>\n",
              "      <th>video_id</th>\n",
              "      <th>video_title</th>\n",
              "      <th>upload_date</th>\n",
              "      <th>view_count</th>\n",
              "      <th>like_count</th>\n",
              "      <th>comment_count</th>\n",
              "    </tr>\n",
              "  </thead>\n",
              "  <tbody>\n",
              "  </tbody>\n",
              "</table>\n",
              "</div>\n",
              "      <button class=\"colab-df-convert\" onclick=\"convertToInteractive('df-9ab64525-4cef-4f70-b268-acc2f0d2f5ce')\"\n",
              "              title=\"Convert this dataframe to an interactive table.\"\n",
              "              style=\"display:none;\">\n",
              "        \n",
              "  <svg xmlns=\"http://www.w3.org/2000/svg\" height=\"24px\"viewBox=\"0 0 24 24\"\n",
              "       width=\"24px\">\n",
              "    <path d=\"M0 0h24v24H0V0z\" fill=\"none\"/>\n",
              "    <path d=\"M18.56 5.44l.94 2.06.94-2.06 2.06-.94-2.06-.94-.94-2.06-.94 2.06-2.06.94zm-11 1L8.5 8.5l.94-2.06 2.06-.94-2.06-.94L8.5 2.5l-.94 2.06-2.06.94zm10 10l.94 2.06.94-2.06 2.06-.94-2.06-.94-.94-2.06-.94 2.06-2.06.94z\"/><path d=\"M17.41 7.96l-1.37-1.37c-.4-.4-.92-.59-1.43-.59-.52 0-1.04.2-1.43.59L10.3 9.45l-7.72 7.72c-.78.78-.78 2.05 0 2.83L4 21.41c.39.39.9.59 1.41.59.51 0 1.02-.2 1.41-.59l7.78-7.78 2.81-2.81c.8-.78.8-2.07 0-2.86zM5.41 20L4 18.59l7.72-7.72 1.47 1.35L5.41 20z\"/>\n",
              "  </svg>\n",
              "      </button>\n",
              "      \n",
              "  <style>\n",
              "    .colab-df-container {\n",
              "      display:flex;\n",
              "      flex-wrap:wrap;\n",
              "      gap: 12px;\n",
              "    }\n",
              "\n",
              "    .colab-df-convert {\n",
              "      background-color: #E8F0FE;\n",
              "      border: none;\n",
              "      border-radius: 50%;\n",
              "      cursor: pointer;\n",
              "      display: none;\n",
              "      fill: #1967D2;\n",
              "      height: 32px;\n",
              "      padding: 0 0 0 0;\n",
              "      width: 32px;\n",
              "    }\n",
              "\n",
              "    .colab-df-convert:hover {\n",
              "      background-color: #E2EBFA;\n",
              "      box-shadow: 0px 1px 2px rgba(60, 64, 67, 0.3), 0px 1px 3px 1px rgba(60, 64, 67, 0.15);\n",
              "      fill: #174EA6;\n",
              "    }\n",
              "\n",
              "    [theme=dark] .colab-df-convert {\n",
              "      background-color: #3B4455;\n",
              "      fill: #D2E3FC;\n",
              "    }\n",
              "\n",
              "    [theme=dark] .colab-df-convert:hover {\n",
              "      background-color: #434B5C;\n",
              "      box-shadow: 0px 1px 3px 1px rgba(0, 0, 0, 0.15);\n",
              "      filter: drop-shadow(0px 1px 2px rgba(0, 0, 0, 0.3));\n",
              "      fill: #FFFFFF;\n",
              "    }\n",
              "  </style>\n",
              "\n",
              "      <script>\n",
              "        const buttonEl =\n",
              "          document.querySelector('#df-9ab64525-4cef-4f70-b268-acc2f0d2f5ce button.colab-df-convert');\n",
              "        buttonEl.style.display =\n",
              "          google.colab.kernel.accessAllowed ? 'block' : 'none';\n",
              "\n",
              "        async function convertToInteractive(key) {\n",
              "          const element = document.querySelector('#df-9ab64525-4cef-4f70-b268-acc2f0d2f5ce');\n",
              "          const dataTable =\n",
              "            await google.colab.kernel.invokeFunction('convertToInteractive',\n",
              "                                                     [key], {});\n",
              "          if (!dataTable) return;\n",
              "\n",
              "          const docLinkHtml = 'Like what you see? Visit the ' +\n",
              "            '<a target=\"_blank\" href=https://colab.research.google.com/notebooks/data_table.ipynb>data table notebook</a>'\n",
              "            + ' to learn more about interactive tables.';\n",
              "          element.innerHTML = '';\n",
              "          dataTable['output_type'] = 'display_data';\n",
              "          await google.colab.output.renderOutput(dataTable, element);\n",
              "          const docLink = document.createElement('div');\n",
              "          docLink.innerHTML = docLinkHtml;\n",
              "          element.appendChild(docLink);\n",
              "        }\n",
              "      </script>\n",
              "    </div>\n",
              "  </div>\n",
              "  "
            ],
            "text/plain": [
              "Empty DataFrame\n",
              "Columns: [video_id, video_title, upload_date, view_count, like_count, comment_count]\n",
              "Index: []"
            ]
          },
          "metadata": {},
          "execution_count": 179
        }
      ]
    },
    {
      "cell_type": "code",
      "source": [
        "temp_df = temp_df.append(new_row_1, ignore_index = True)\n",
        "temp_df = temp_df.append(new_row_2, ignore_index = True)\n",
        "temp_df = temp_df.append(new_row_3, ignore_index = True)"
      ],
      "metadata": {
        "id": "BpOWS84EmX6l"
      },
      "execution_count": 180,
      "outputs": []
    },
    {
      "cell_type": "code",
      "source": [
        "temp_df.head()"
      ],
      "metadata": {
        "colab": {
          "base_uri": "https://localhost:8080/",
          "height": 143
        },
        "id": "arAw8xzwmtjW",
        "outputId": "f901974c-fc1f-489f-e8fb-30c3b7a55da9"
      },
      "execution_count": 181,
      "outputs": [
        {
          "output_type": "execute_result",
          "data": {
            "text/html": [
              "\n",
              "  <div id=\"df-daabef2a-88d8-4d17-a40c-0567411c31d3\">\n",
              "    <div class=\"colab-df-container\">\n",
              "      <div>\n",
              "<style scoped>\n",
              "    .dataframe tbody tr th:only-of-type {\n",
              "        vertical-align: middle;\n",
              "    }\n",
              "\n",
              "    .dataframe tbody tr th {\n",
              "        vertical-align: top;\n",
              "    }\n",
              "\n",
              "    .dataframe thead th {\n",
              "        text-align: right;\n",
              "    }\n",
              "</style>\n",
              "<table border=\"1\" class=\"dataframe\">\n",
              "  <thead>\n",
              "    <tr style=\"text-align: right;\">\n",
              "      <th></th>\n",
              "      <th>video_id</th>\n",
              "      <th>video_title</th>\n",
              "      <th>upload_date</th>\n",
              "      <th>view_count</th>\n",
              "      <th>like_count</th>\n",
              "      <th>comment_count</th>\n",
              "    </tr>\n",
              "  </thead>\n",
              "  <tbody>\n",
              "    <tr>\n",
              "      <th>0</th>\n",
              "      <td>pVJIqVLBLzx</td>\n",
              "      <td>How to train a Youtube Video Title Generator u...</td>\n",
              "      <td>2020-09-23</td>\n",
              "      <td>1188</td>\n",
              "      <td>97</td>\n",
              "      <td>98</td>\n",
              "    </tr>\n",
              "    <tr>\n",
              "      <th>1</th>\n",
              "      <td>oiGFfWdhjOk</td>\n",
              "      <td>I'm so lazy to train a Youtube Video Title Gen...</td>\n",
              "      <td>2020-11-28</td>\n",
              "      <td>9797</td>\n",
              "      <td>44</td>\n",
              "      <td>233</td>\n",
              "    </tr>\n",
              "    <tr>\n",
              "      <th>2</th>\n",
              "      <td>YRBMeyyMDHq</td>\n",
              "      <td>I'm so lazy to train a Youtube Video Title Gen...</td>\n",
              "      <td>2019-03-29</td>\n",
              "      <td>6573</td>\n",
              "      <td>24</td>\n",
              "      <td>144</td>\n",
              "    </tr>\n",
              "  </tbody>\n",
              "</table>\n",
              "</div>\n",
              "      <button class=\"colab-df-convert\" onclick=\"convertToInteractive('df-daabef2a-88d8-4d17-a40c-0567411c31d3')\"\n",
              "              title=\"Convert this dataframe to an interactive table.\"\n",
              "              style=\"display:none;\">\n",
              "        \n",
              "  <svg xmlns=\"http://www.w3.org/2000/svg\" height=\"24px\"viewBox=\"0 0 24 24\"\n",
              "       width=\"24px\">\n",
              "    <path d=\"M0 0h24v24H0V0z\" fill=\"none\"/>\n",
              "    <path d=\"M18.56 5.44l.94 2.06.94-2.06 2.06-.94-2.06-.94-.94-2.06-.94 2.06-2.06.94zm-11 1L8.5 8.5l.94-2.06 2.06-.94-2.06-.94L8.5 2.5l-.94 2.06-2.06.94zm10 10l.94 2.06.94-2.06 2.06-.94-2.06-.94-.94-2.06-.94 2.06-2.06.94z\"/><path d=\"M17.41 7.96l-1.37-1.37c-.4-.4-.92-.59-1.43-.59-.52 0-1.04.2-1.43.59L10.3 9.45l-7.72 7.72c-.78.78-.78 2.05 0 2.83L4 21.41c.39.39.9.59 1.41.59.51 0 1.02-.2 1.41-.59l7.78-7.78 2.81-2.81c.8-.78.8-2.07 0-2.86zM5.41 20L4 18.59l7.72-7.72 1.47 1.35L5.41 20z\"/>\n",
              "  </svg>\n",
              "      </button>\n",
              "      \n",
              "  <style>\n",
              "    .colab-df-container {\n",
              "      display:flex;\n",
              "      flex-wrap:wrap;\n",
              "      gap: 12px;\n",
              "    }\n",
              "\n",
              "    .colab-df-convert {\n",
              "      background-color: #E8F0FE;\n",
              "      border: none;\n",
              "      border-radius: 50%;\n",
              "      cursor: pointer;\n",
              "      display: none;\n",
              "      fill: #1967D2;\n",
              "      height: 32px;\n",
              "      padding: 0 0 0 0;\n",
              "      width: 32px;\n",
              "    }\n",
              "\n",
              "    .colab-df-convert:hover {\n",
              "      background-color: #E2EBFA;\n",
              "      box-shadow: 0px 1px 2px rgba(60, 64, 67, 0.3), 0px 1px 3px 1px rgba(60, 64, 67, 0.15);\n",
              "      fill: #174EA6;\n",
              "    }\n",
              "\n",
              "    [theme=dark] .colab-df-convert {\n",
              "      background-color: #3B4455;\n",
              "      fill: #D2E3FC;\n",
              "    }\n",
              "\n",
              "    [theme=dark] .colab-df-convert:hover {\n",
              "      background-color: #434B5C;\n",
              "      box-shadow: 0px 1px 3px 1px rgba(0, 0, 0, 0.15);\n",
              "      filter: drop-shadow(0px 1px 2px rgba(0, 0, 0, 0.3));\n",
              "      fill: #FFFFFF;\n",
              "    }\n",
              "  </style>\n",
              "\n",
              "      <script>\n",
              "        const buttonEl =\n",
              "          document.querySelector('#df-daabef2a-88d8-4d17-a40c-0567411c31d3 button.colab-df-convert');\n",
              "        buttonEl.style.display =\n",
              "          google.colab.kernel.accessAllowed ? 'block' : 'none';\n",
              "\n",
              "        async function convertToInteractive(key) {\n",
              "          const element = document.querySelector('#df-daabef2a-88d8-4d17-a40c-0567411c31d3');\n",
              "          const dataTable =\n",
              "            await google.colab.kernel.invokeFunction('convertToInteractive',\n",
              "                                                     [key], {});\n",
              "          if (!dataTable) return;\n",
              "\n",
              "          const docLinkHtml = 'Like what you see? Visit the ' +\n",
              "            '<a target=\"_blank\" href=https://colab.research.google.com/notebooks/data_table.ipynb>data table notebook</a>'\n",
              "            + ' to learn more about interactive tables.';\n",
              "          element.innerHTML = '';\n",
              "          dataTable['output_type'] = 'display_data';\n",
              "          await google.colab.output.renderOutput(dataTable, element);\n",
              "          const docLink = document.createElement('div');\n",
              "          docLink.innerHTML = docLinkHtml;\n",
              "          element.appendChild(docLink);\n",
              "        }\n",
              "      </script>\n",
              "    </div>\n",
              "  </div>\n",
              "  "
            ],
            "text/plain": [
              "      video_id  ... comment_count\n",
              "0  pVJIqVLBLzx  ...            98\n",
              "1  oiGFfWdhjOk  ...           233\n",
              "2  YRBMeyyMDHq  ...           144\n",
              "\n",
              "[3 rows x 6 columns]"
            ]
          },
          "metadata": {},
          "execution_count": 181
        }
      ]
    },
    {
      "cell_type": "code",
      "source": [
        "#Nice! Let's check if our insert and update functionality works!\n",
        "#First let's see how our table looks before adding these videos:"
      ],
      "metadata": {
        "id": "fcp2V2A9nccc"
      },
      "execution_count": null,
      "outputs": []
    },
    {
      "cell_type": "code",
      "source": [
        "#Before\n",
        "query = '''SELECT * FROM yt_channel_videos;'''\n",
        "cursor.execute(query)\n",
        "output = cursor.fetchall()\n",
        "for row in output:\n",
        "  print(row)"
      ],
      "metadata": {
        "colab": {
          "base_uri": "https://localhost:8080/"
        },
        "id": "5HI1A8I3nwHC",
        "outputId": "b6ec33de-6dab-4bf2-bd95-ecd56abf3de0"
      },
      "execution_count": 182,
      "outputs": [
        {
          "output_type": "stream",
          "name": "stdout",
          "text": [
            "('-2i4xmW6u2A', 'ZHU - In the Morning* [Short Cover]', datetime.date(2018, 9, 23), 288, 11, 0)\n",
            "('-fVxmrQeTBA', 'Test 1', datetime.date(2017, 2, 15), 76, 1, 4)\n",
            "('-zy2pXzqwCM', 'Zabranjeno Pušenje - Ženi Nam Se Vukota //Solo (Cover)', datetime.date(2017, 1, 21), 3839, 41, 3)\n",
            "('1kFw5iGUxSU', 'REPILF - 1312 NIJANSI CRNE (SPOT)', datetime.date(2016, 11, 26), 31537, 322, 32)\n",
            "('4mVlcq8BHJk', 'dark cloud - broken promise (guitar cover)', datetime.date(2016, 8, 1), 335, 9, 0)\n",
            "('avbZDwi4VTM', 'Amra Mandžukić #4 //BIH Women&#39;s National Volleyball Team', datetime.date(2018, 5, 17), 808, 13, 0)\n",
            "('Bj0CMyhLDRU', 'Poklon Čani', datetime.date(2018, 2, 10), 113, 6, 0)\n",
            "('CvRncH8rdPc', 'Riblja Čorba - Bože, koliko je volim (COVER)', datetime.date(2017, 10, 2), 491, 14, 2)\n",
            "('dUMmMRKPek4', 'Scientific method fromBosnia be like...', datetime.date(2017, 2, 20), 190, 3, 0)\n",
            "('EnqCrg8J0YU', 'snimanje karakteristika tranzistora.', datetime.date(2016, 7, 12), 252, 4, 0)\n",
            "('fD_TvzuH_vE', 'merrie melodies opening theme (guitar cover)', datetime.date(2016, 2, 20), 828, 12, 0)\n",
            "('j6VUf73iY00', 'S.A.R.S. - Praktična žena (Bass Cover)', datetime.date(2017, 1, 7), 381, 7, 1)\n",
            "('jRNvxO8ZPdo', 'Alice in Chains - Would? (Unplugged) cover', datetime.date(2014, 7, 28), 178, 3, 1)\n",
            "('lZvB18OSDe8', 'Intro 1', datetime.date(2017, 2, 18), 36, 0, 0)\n",
            "('neGDJyEpkVw', 'žeks from skugric $$ thug life $$', datetime.date(2018, 1, 30), 211, 4, 0)\n",
            "('TWkT6ovxAtQ', 'Animal Farm (BOSNIA Edition)', datetime.date(2018, 3, 1), 127, 4, 0)\n",
            "('VgB6hCpFong', 'Šoferska je tuga pregolema (Guitar)', datetime.date(2017, 4, 13), 523, 5, 8)\n"
          ]
        }
      ]
    }
  ]
}