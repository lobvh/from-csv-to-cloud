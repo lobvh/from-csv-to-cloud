{
  "nbformat": 4,
  "nbformat_minor": 0,
  "metadata": {
    "colab": {
      "name": "from-csv-to-cloud-v2.ipynb",
      "provenance": [],
      "collapsed_sections": []
    },
    "kernelspec": {
      "name": "python3",
      "display_name": "Python 3"
    },
    "language_info": {
      "name": "python"
    }
  },
  "cells": [
    {
      "cell_type": "markdown",
      "source": [
        "In this notebook I will show how to work with real-time data that updates not only the column values (relative to time), but also adds new rows to existing table. I will use a .csv file that contains information from my YouTube channel videos. I've extracted that CSV file from my 'youtube-api-tutorial' repo. "
      ],
      "metadata": {
        "id": "G9lKf3ARwdEp"
      }
    },
    {
      "cell_type": "code",
      "source": [
        "#First of all, videos on my channel aren't really type of content that someone will see on daily basis, \n",
        "#so in expecation things such as view_count, like_count etc. on average will stay the same.\n",
        "#I will manually update values of some existing columns, and also imitate the scenario of having a new video(s) by appending row(s) and checking if my code works based on that. "
      ],
      "metadata": {
        "id": "S0pa3YYRwxXu"
      },
      "execution_count": 1,
      "outputs": []
    },
    {
      "cell_type": "code",
      "source": [
        "#Installing the necessary libraries\n",
        "!pip install mysql-connector-python"
      ],
      "metadata": {
        "colab": {
          "base_uri": "https://localhost:8080/"
        },
        "id": "jHaSk4ShyO0j",
        "outputId": "00f46b4d-c04b-44c8-efa6-ac204cc6ee61"
      },
      "execution_count": 2,
      "outputs": [
        {
          "output_type": "stream",
          "name": "stdout",
          "text": [
            "Requirement already satisfied: mysql-connector-python in /usr/local/lib/python3.7/dist-packages (8.0.28)\n",
            "Requirement already satisfied: protobuf>=3.0.0 in /usr/local/lib/python3.7/dist-packages (from mysql-connector-python) (3.17.3)\n",
            "Requirement already satisfied: six>=1.9 in /usr/local/lib/python3.7/dist-packages (from protobuf>=3.0.0->mysql-connector-python) (1.15.0)\n"
          ]
        }
      ]
    },
    {
      "cell_type": "code",
      "source": [
        "#Importing libraries\n",
        "import mysql.connector\n",
        "from mysql.connector.constants import ClientFlag\n",
        "import pandas as pd"
      ],
      "metadata": {
        "id": "agwUKlHwyXzx"
      },
      "execution_count": 3,
      "outputs": []
    },
    {
      "cell_type": "code",
      "source": [
        "#Let's upload our .csv file that contains informations of my videos:\n",
        "df = pd.read_csv('my_youtubeWo.csv')\n",
        "df.head()"
      ],
      "metadata": {
        "colab": {
          "base_uri": "https://localhost:8080/",
          "height": 206
        },
        "id": "8PSCzSknyECg",
        "outputId": "bdd42a00-d64a-4e3e-c679-2fae8f244f00"
      },
      "execution_count": 4,
      "outputs": [
        {
          "output_type": "execute_result",
          "data": {
            "text/html": [
              "\n",
              "  <div id=\"df-c23405dc-7b56-4540-83c7-bcee5f09e07d\">\n",
              "    <div class=\"colab-df-container\">\n",
              "      <div>\n",
              "<style scoped>\n",
              "    .dataframe tbody tr th:only-of-type {\n",
              "        vertical-align: middle;\n",
              "    }\n",
              "\n",
              "    .dataframe tbody tr th {\n",
              "        vertical-align: top;\n",
              "    }\n",
              "\n",
              "    .dataframe thead th {\n",
              "        text-align: right;\n",
              "    }\n",
              "</style>\n",
              "<table border=\"1\" class=\"dataframe\">\n",
              "  <thead>\n",
              "    <tr style=\"text-align: right;\">\n",
              "      <th></th>\n",
              "      <th>video_id</th>\n",
              "      <th>video_title</th>\n",
              "      <th>upload_date</th>\n",
              "      <th>view_count</th>\n",
              "      <th>like_count</th>\n",
              "      <th>comment_count</th>\n",
              "    </tr>\n",
              "  </thead>\n",
              "  <tbody>\n",
              "    <tr>\n",
              "      <th>0</th>\n",
              "      <td>-2i4xmW6u2A</td>\n",
              "      <td>ZHU - In the Morning* [Short Cover]</td>\n",
              "      <td>2018-09-23</td>\n",
              "      <td>288</td>\n",
              "      <td>11</td>\n",
              "      <td>0</td>\n",
              "    </tr>\n",
              "    <tr>\n",
              "      <th>1</th>\n",
              "      <td>avbZDwi4VTM</td>\n",
              "      <td>Amra Mandžukić #4 //BIH Women&amp;#39;s National V...</td>\n",
              "      <td>2018-05-17</td>\n",
              "      <td>808</td>\n",
              "      <td>13</td>\n",
              "      <td>0</td>\n",
              "    </tr>\n",
              "    <tr>\n",
              "      <th>2</th>\n",
              "      <td>TWkT6ovxAtQ</td>\n",
              "      <td>Animal Farm (BOSNIA Edition)</td>\n",
              "      <td>2018-03-01</td>\n",
              "      <td>127</td>\n",
              "      <td>4</td>\n",
              "      <td>0</td>\n",
              "    </tr>\n",
              "    <tr>\n",
              "      <th>3</th>\n",
              "      <td>Bj0CMyhLDRU</td>\n",
              "      <td>Poklon Čani</td>\n",
              "      <td>2018-02-10</td>\n",
              "      <td>113</td>\n",
              "      <td>6</td>\n",
              "      <td>0</td>\n",
              "    </tr>\n",
              "    <tr>\n",
              "      <th>4</th>\n",
              "      <td>neGDJyEpkVw</td>\n",
              "      <td>žeks from skugric $$ thug life $$</td>\n",
              "      <td>2018-01-30</td>\n",
              "      <td>211</td>\n",
              "      <td>4</td>\n",
              "      <td>0</td>\n",
              "    </tr>\n",
              "  </tbody>\n",
              "</table>\n",
              "</div>\n",
              "      <button class=\"colab-df-convert\" onclick=\"convertToInteractive('df-c23405dc-7b56-4540-83c7-bcee5f09e07d')\"\n",
              "              title=\"Convert this dataframe to an interactive table.\"\n",
              "              style=\"display:none;\">\n",
              "        \n",
              "  <svg xmlns=\"http://www.w3.org/2000/svg\" height=\"24px\"viewBox=\"0 0 24 24\"\n",
              "       width=\"24px\">\n",
              "    <path d=\"M0 0h24v24H0V0z\" fill=\"none\"/>\n",
              "    <path d=\"M18.56 5.44l.94 2.06.94-2.06 2.06-.94-2.06-.94-.94-2.06-.94 2.06-2.06.94zm-11 1L8.5 8.5l.94-2.06 2.06-.94-2.06-.94L8.5 2.5l-.94 2.06-2.06.94zm10 10l.94 2.06.94-2.06 2.06-.94-2.06-.94-.94-2.06-.94 2.06-2.06.94z\"/><path d=\"M17.41 7.96l-1.37-1.37c-.4-.4-.92-.59-1.43-.59-.52 0-1.04.2-1.43.59L10.3 9.45l-7.72 7.72c-.78.78-.78 2.05 0 2.83L4 21.41c.39.39.9.59 1.41.59.51 0 1.02-.2 1.41-.59l7.78-7.78 2.81-2.81c.8-.78.8-2.07 0-2.86zM5.41 20L4 18.59l7.72-7.72 1.47 1.35L5.41 20z\"/>\n",
              "  </svg>\n",
              "      </button>\n",
              "      \n",
              "  <style>\n",
              "    .colab-df-container {\n",
              "      display:flex;\n",
              "      flex-wrap:wrap;\n",
              "      gap: 12px;\n",
              "    }\n",
              "\n",
              "    .colab-df-convert {\n",
              "      background-color: #E8F0FE;\n",
              "      border: none;\n",
              "      border-radius: 50%;\n",
              "      cursor: pointer;\n",
              "      display: none;\n",
              "      fill: #1967D2;\n",
              "      height: 32px;\n",
              "      padding: 0 0 0 0;\n",
              "      width: 32px;\n",
              "    }\n",
              "\n",
              "    .colab-df-convert:hover {\n",
              "      background-color: #E2EBFA;\n",
              "      box-shadow: 0px 1px 2px rgba(60, 64, 67, 0.3), 0px 1px 3px 1px rgba(60, 64, 67, 0.15);\n",
              "      fill: #174EA6;\n",
              "    }\n",
              "\n",
              "    [theme=dark] .colab-df-convert {\n",
              "      background-color: #3B4455;\n",
              "      fill: #D2E3FC;\n",
              "    }\n",
              "\n",
              "    [theme=dark] .colab-df-convert:hover {\n",
              "      background-color: #434B5C;\n",
              "      box-shadow: 0px 1px 3px 1px rgba(0, 0, 0, 0.15);\n",
              "      filter: drop-shadow(0px 1px 2px rgba(0, 0, 0, 0.3));\n",
              "      fill: #FFFFFF;\n",
              "    }\n",
              "  </style>\n",
              "\n",
              "      <script>\n",
              "        const buttonEl =\n",
              "          document.querySelector('#df-c23405dc-7b56-4540-83c7-bcee5f09e07d button.colab-df-convert');\n",
              "        buttonEl.style.display =\n",
              "          google.colab.kernel.accessAllowed ? 'block' : 'none';\n",
              "\n",
              "        async function convertToInteractive(key) {\n",
              "          const element = document.querySelector('#df-c23405dc-7b56-4540-83c7-bcee5f09e07d');\n",
              "          const dataTable =\n",
              "            await google.colab.kernel.invokeFunction('convertToInteractive',\n",
              "                                                     [key], {});\n",
              "          if (!dataTable) return;\n",
              "\n",
              "          const docLinkHtml = 'Like what you see? Visit the ' +\n",
              "            '<a target=\"_blank\" href=https://colab.research.google.com/notebooks/data_table.ipynb>data table notebook</a>'\n",
              "            + ' to learn more about interactive tables.';\n",
              "          element.innerHTML = '';\n",
              "          dataTable['output_type'] = 'display_data';\n",
              "          await google.colab.output.renderOutput(dataTable, element);\n",
              "          const docLink = document.createElement('div');\n",
              "          docLink.innerHTML = docLinkHtml;\n",
              "          element.appendChild(docLink);\n",
              "        }\n",
              "      </script>\n",
              "    </div>\n",
              "  </div>\n",
              "  "
            ],
            "text/plain": [
              "      video_id  ... comment_count\n",
              "0  -2i4xmW6u2A  ...             0\n",
              "1  avbZDwi4VTM  ...             0\n",
              "2  TWkT6ovxAtQ  ...             0\n",
              "3  Bj0CMyhLDRU  ...             0\n",
              "4  neGDJyEpkVw  ...             0\n",
              "\n",
              "[5 rows x 6 columns]"
            ]
          },
          "metadata": {},
          "execution_count": 4
        }
      ]
    },
    {
      "cell_type": "code",
      "source": [
        "def connect_to_db(user, password, host_ip):\n",
        "  '''\n",
        "      Connecting to cloud database.\n",
        "  '''\n",
        "  cnxn = None\n",
        "  config = {\n",
        "    'user': user,\n",
        "    'password': password,\n",
        "    'host': host_ip,\n",
        "    'client_flags': [ClientFlag.SSL],\n",
        "    'ssl_ca': 'ssl/server-ca.pem',\n",
        "    'ssl_cert': 'ssl/client-cert.pem',\n",
        "    'ssl_key': 'ssl/client-key.pem'\n",
        "            }\n",
        "\n",
        "\n",
        "  try:  \n",
        "       cnxn = mysql.connector.connect(**config)\n",
        "  except:\n",
        "       print('Error! Please check if you put the right information into given variables (password, user etc.).')\n",
        "  else:\n",
        "      print('You are sucessfully connected to the Cloud instance!')\n",
        "    \n",
        "  return cnxn"
      ],
      "metadata": {
        "id": "0tsPhS4_zhYx"
      },
      "execution_count": 5,
      "outputs": []
    },
    {
      "cell_type": "code",
      "source": [
        "conn_db = connect_to_db(user = 'Neo', password = 'iDontThinkSo', host_ip = '992.1199.20.202') "
      ],
      "metadata": {
        "colab": {
          "base_uri": "https://localhost:8080/"
        },
        "id": "gFJAu1ez3JO-",
        "outputId": "61c359c0-fe16-405c-f8d5-ec9e56dcf4a7"
      },
      "execution_count": 6,
      "outputs": [
        {
          "output_type": "stream",
          "name": "stdout",
          "text": [
            "You are sucessfully connected to the Cloud instance!\n"
          ]
        }
      ]
    },
    {
      "cell_type": "code",
      "source": [
        "conn_db.is_connected() #It connects us to the Cloud server"
      ],
      "metadata": {
        "colab": {
          "base_uri": "https://localhost:8080/"
        },
        "id": "3vyryqcMGgod",
        "outputId": "27b0d16e-eb71-49e6-e596-1de6130f3c6d"
      },
      "execution_count": 7,
      "outputs": [
        {
          "output_type": "execute_result",
          "data": {
            "text/plain": [
              "True"
            ]
          },
          "metadata": {},
          "execution_count": 7
        }
      ]
    },
    {
      "cell_type": "code",
      "source": [
        "#Now let's create a database \n",
        "cursor = conn_db.cursor()\n",
        "cursor.execute('CREATE DATABASE IF NOT EXISTS my_youtube')\n",
        "\n",
        "#We are going to disconnect from the Cloud SQL instance and reconnect to the specific database we made 'my_youtube'\n",
        "conn_db.close()\n",
        "conn_db.is_connected()"
      ],
      "metadata": {
        "colab": {
          "base_uri": "https://localhost:8080/"
        },
        "id": "5RHNlk5JEten",
        "outputId": "46f0b268-80a8-4aea-b141-3609448e4430"
      },
      "execution_count": 8,
      "outputs": [
        {
          "output_type": "execute_result",
          "data": {
            "text/plain": [
              "False"
            ]
          },
          "metadata": {},
          "execution_count": 8
        }
      ]
    },
    {
      "cell_type": "code",
      "source": [
        "#vars(conn_db)\n",
        "conn_db._database = 'my_youtube'\n",
        "print(conn_db._database)"
      ],
      "metadata": {
        "colab": {
          "base_uri": "https://localhost:8080/"
        },
        "id": "A0-mY0WhIYfR",
        "outputId": "1cf1d86b-bbb5-462d-ebd0-f13f3fb20a7d"
      },
      "execution_count": 9,
      "outputs": [
        {
          "output_type": "stream",
          "name": "stdout",
          "text": [
            "my_youtube\n"
          ]
        }
      ]
    },
    {
      "cell_type": "code",
      "source": [
        "conn_db.connect()\n",
        "print(conn_db.is_connected(), conn_db._database)"
      ],
      "metadata": {
        "colab": {
          "base_uri": "https://localhost:8080/"
        },
        "id": "76nNZE5YLjOH",
        "outputId": "689b9dd6-a3b0-4b2b-9793-160e7b09bcd5"
      },
      "execution_count": 10,
      "outputs": [
        {
          "output_type": "stream",
          "name": "stdout",
          "text": [
            "True my_youtube\n"
          ]
        }
      ]
    },
    {
      "cell_type": "code",
      "source": [
        "##Now let's create a table in our database\n",
        "df.head(1)"
      ],
      "metadata": {
        "colab": {
          "base_uri": "https://localhost:8080/",
          "height": 80
        },
        "id": "b9oO7JUoO5Jc",
        "outputId": "4b6e9deb-ed96-47c2-e585-433155d29e39"
      },
      "execution_count": 11,
      "outputs": [
        {
          "output_type": "execute_result",
          "data": {
            "text/html": [
              "\n",
              "  <div id=\"df-68ef5fa5-4216-42dd-89a4-7cb4f9bb9620\">\n",
              "    <div class=\"colab-df-container\">\n",
              "      <div>\n",
              "<style scoped>\n",
              "    .dataframe tbody tr th:only-of-type {\n",
              "        vertical-align: middle;\n",
              "    }\n",
              "\n",
              "    .dataframe tbody tr th {\n",
              "        vertical-align: top;\n",
              "    }\n",
              "\n",
              "    .dataframe thead th {\n",
              "        text-align: right;\n",
              "    }\n",
              "</style>\n",
              "<table border=\"1\" class=\"dataframe\">\n",
              "  <thead>\n",
              "    <tr style=\"text-align: right;\">\n",
              "      <th></th>\n",
              "      <th>video_id</th>\n",
              "      <th>video_title</th>\n",
              "      <th>upload_date</th>\n",
              "      <th>view_count</th>\n",
              "      <th>like_count</th>\n",
              "      <th>comment_count</th>\n",
              "    </tr>\n",
              "  </thead>\n",
              "  <tbody>\n",
              "    <tr>\n",
              "      <th>0</th>\n",
              "      <td>-2i4xmW6u2A</td>\n",
              "      <td>ZHU - In the Morning* [Short Cover]</td>\n",
              "      <td>2018-09-23</td>\n",
              "      <td>288</td>\n",
              "      <td>11</td>\n",
              "      <td>0</td>\n",
              "    </tr>\n",
              "  </tbody>\n",
              "</table>\n",
              "</div>\n",
              "      <button class=\"colab-df-convert\" onclick=\"convertToInteractive('df-68ef5fa5-4216-42dd-89a4-7cb4f9bb9620')\"\n",
              "              title=\"Convert this dataframe to an interactive table.\"\n",
              "              style=\"display:none;\">\n",
              "        \n",
              "  <svg xmlns=\"http://www.w3.org/2000/svg\" height=\"24px\"viewBox=\"0 0 24 24\"\n",
              "       width=\"24px\">\n",
              "    <path d=\"M0 0h24v24H0V0z\" fill=\"none\"/>\n",
              "    <path d=\"M18.56 5.44l.94 2.06.94-2.06 2.06-.94-2.06-.94-.94-2.06-.94 2.06-2.06.94zm-11 1L8.5 8.5l.94-2.06 2.06-.94-2.06-.94L8.5 2.5l-.94 2.06-2.06.94zm10 10l.94 2.06.94-2.06 2.06-.94-2.06-.94-.94-2.06-.94 2.06-2.06.94z\"/><path d=\"M17.41 7.96l-1.37-1.37c-.4-.4-.92-.59-1.43-.59-.52 0-1.04.2-1.43.59L10.3 9.45l-7.72 7.72c-.78.78-.78 2.05 0 2.83L4 21.41c.39.39.9.59 1.41.59.51 0 1.02-.2 1.41-.59l7.78-7.78 2.81-2.81c.8-.78.8-2.07 0-2.86zM5.41 20L4 18.59l7.72-7.72 1.47 1.35L5.41 20z\"/>\n",
              "  </svg>\n",
              "      </button>\n",
              "      \n",
              "  <style>\n",
              "    .colab-df-container {\n",
              "      display:flex;\n",
              "      flex-wrap:wrap;\n",
              "      gap: 12px;\n",
              "    }\n",
              "\n",
              "    .colab-df-convert {\n",
              "      background-color: #E8F0FE;\n",
              "      border: none;\n",
              "      border-radius: 50%;\n",
              "      cursor: pointer;\n",
              "      display: none;\n",
              "      fill: #1967D2;\n",
              "      height: 32px;\n",
              "      padding: 0 0 0 0;\n",
              "      width: 32px;\n",
              "    }\n",
              "\n",
              "    .colab-df-convert:hover {\n",
              "      background-color: #E2EBFA;\n",
              "      box-shadow: 0px 1px 2px rgba(60, 64, 67, 0.3), 0px 1px 3px 1px rgba(60, 64, 67, 0.15);\n",
              "      fill: #174EA6;\n",
              "    }\n",
              "\n",
              "    [theme=dark] .colab-df-convert {\n",
              "      background-color: #3B4455;\n",
              "      fill: #D2E3FC;\n",
              "    }\n",
              "\n",
              "    [theme=dark] .colab-df-convert:hover {\n",
              "      background-color: #434B5C;\n",
              "      box-shadow: 0px 1px 3px 1px rgba(0, 0, 0, 0.15);\n",
              "      filter: drop-shadow(0px 1px 2px rgba(0, 0, 0, 0.3));\n",
              "      fill: #FFFFFF;\n",
              "    }\n",
              "  </style>\n",
              "\n",
              "      <script>\n",
              "        const buttonEl =\n",
              "          document.querySelector('#df-68ef5fa5-4216-42dd-89a4-7cb4f9bb9620 button.colab-df-convert');\n",
              "        buttonEl.style.display =\n",
              "          google.colab.kernel.accessAllowed ? 'block' : 'none';\n",
              "\n",
              "        async function convertToInteractive(key) {\n",
              "          const element = document.querySelector('#df-68ef5fa5-4216-42dd-89a4-7cb4f9bb9620');\n",
              "          const dataTable =\n",
              "            await google.colab.kernel.invokeFunction('convertToInteractive',\n",
              "                                                     [key], {});\n",
              "          if (!dataTable) return;\n",
              "\n",
              "          const docLinkHtml = 'Like what you see? Visit the ' +\n",
              "            '<a target=\"_blank\" href=https://colab.research.google.com/notebooks/data_table.ipynb>data table notebook</a>'\n",
              "            + ' to learn more about interactive tables.';\n",
              "          element.innerHTML = '';\n",
              "          dataTable['output_type'] = 'display_data';\n",
              "          await google.colab.output.renderOutput(dataTable, element);\n",
              "          const docLink = document.createElement('div');\n",
              "          docLink.innerHTML = docLinkHtml;\n",
              "          element.appendChild(docLink);\n",
              "        }\n",
              "      </script>\n",
              "    </div>\n",
              "  </div>\n",
              "  "
            ],
            "text/plain": [
              "      video_id                          video_title  ... like_count  comment_count\n",
              "0  -2i4xmW6u2A  ZHU - In the Morning* [Short Cover]  ...         11              0\n",
              "\n",
              "[1 rows x 6 columns]"
            ]
          },
          "metadata": {},
          "execution_count": 11
        }
      ]
    },
    {
      "cell_type": "code",
      "source": [
        "df.dtypes"
      ],
      "metadata": {
        "colab": {
          "base_uri": "https://localhost:8080/"
        },
        "id": "y8hE0ykdOaPC",
        "outputId": "26ab78e5-3282-4915-c6ce-a673d4010ea6"
      },
      "execution_count": 12,
      "outputs": [
        {
          "output_type": "execute_result",
          "data": {
            "text/plain": [
              "video_id         object\n",
              "video_title      object\n",
              "upload_date      object\n",
              "view_count        int64\n",
              "like_count        int64\n",
              "comment_count     int64\n",
              "dtype: object"
            ]
          },
          "metadata": {},
          "execution_count": 12
        }
      ]
    },
    {
      "cell_type": "code",
      "source": [
        "#We are going to set video_id as our Primary key. On other columns we wont allow NULL values\n",
        "#I'm not going to wrap this into function since each table has different columns and datatypes ;)"
      ],
      "metadata": {
        "id": "nnd4uwPwQf0s"
      },
      "execution_count": 13,
      "outputs": []
    },
    {
      "cell_type": "code",
      "source": [
        "create_table_query = ('''CREATE TABLE IF NOT EXISTS yt_channel_videos (\n",
        "                          video_id VARCHAR(255) PRIMARY KEY,\n",
        "                          video_title TEXT NOT NULL,\n",
        "                          upload_date DATE NOT NULL,\n",
        "                          view_count INTEGER NOT NULL,\n",
        "                          like_count INTEGER NOT NULL,\n",
        "                          comment_count INTEGER NOT NULL)''')\n",
        "\n",
        "cursor.execute(operation = create_table_query)\n",
        "\n",
        "conn_db.commit()"
      ],
      "metadata": {
        "id": "XYNIa353OinW"
      },
      "execution_count": 15,
      "outputs": []
    },
    {
      "cell_type": "markdown",
      "source": [
        "Before we even start populating the remote table we will first design the implementation of update/insert functions. The main idea will revolve around 'one video per update/insert'. We will first check if that video exists in our table, and if so we will update the columns on the fly. If not, we will create a separate dataframe to hold new rows, and depending on the schedule we intend to program that separate dataframe might contain huge amounts of rows! The idea of importing them all at once into our remote table would possibly have performance/memory issues, and hence we will do it 'per video'."
      ],
      "metadata": {
        "id": "_Q-68_8DZSOb"
      }
    },
    {
      "cell_type": "code",
      "source": [
        "#Here is the overview of the code logic\n",
        "'''for i, row in df.iterrows():\n",
        "  if check_if_video_exists():\n",
        "    update_row()\n",
        "  else:\n",
        "    append(row)'''"
      ],
      "metadata": {
        "id": "pQXsw-2ZcPbc",
        "colab": {
          "base_uri": "https://localhost:8080/",
          "height": 35
        },
        "outputId": "967c58d7-53e8-4007-e20b-156dcee68d20"
      },
      "execution_count": 16,
      "outputs": [
        {
          "output_type": "execute_result",
          "data": {
            "application/vnd.google.colaboratory.intrinsic+json": {
              "type": "string"
            },
            "text/plain": [
              "'for i, row in df.iterrows():\\n  if check_if_video_exists():\\n    update_row()\\n  else:\\n    append(row)'"
            ]
          },
          "metadata": {},
          "execution_count": 16
        }
      ]
    },
    {
      "cell_type": "code",
      "source": [
        "#Checking if video exists\n",
        "def check_if_video_exists(cursor, video_id):\n",
        "  query = ('''SELECT video_id FROM yt_channel_videos WHERE video_id = %s''')\n",
        "  cursor.execute(query, (video_id,))\n",
        "  return cursor.fetchone() is not None #If there is a row fetchone() will return it, if not it will return None"
      ],
      "metadata": {
        "id": "ETmFred-AAOb"
      },
      "execution_count": 17,
      "outputs": []
    },
    {
      "cell_type": "code",
      "source": [
        "#Update rows\n",
        "def update_row(cursor, video_id, video_title, view_count, like_count, comment_count):\n",
        "  query = (\"\"\"UPDATE yt_channel_videos\n",
        "            SET video_title = %s, view_count = %s, like_count = %s, comment_count = %s\n",
        "            WHERE video_id = %s;\"\"\")\n",
        "  vars_to_update = (video_title, view_count, like_count, comment_count, video_id)\n",
        "  cursor.execute(query, vars_to_update)"
      ],
      "metadata": {
        "id": "Orw4FkF8Ce11"
      },
      "execution_count": 18,
      "outputs": []
    },
    {
      "cell_type": "code",
      "source": [
        "tmp_df = pd.DataFrame(columns = list(df.columns))\n",
        "tmp_df.head()"
      ],
      "metadata": {
        "colab": {
          "base_uri": "https://localhost:8080/",
          "height": 49
        },
        "id": "QWMbyaKvF8xV",
        "outputId": "9775e137-0a08-478f-c3ed-a4689a4b5241"
      },
      "execution_count": 19,
      "outputs": [
        {
          "output_type": "execute_result",
          "data": {
            "text/html": [
              "\n",
              "  <div id=\"df-e60ac76c-93c1-4f65-9078-b87a74d90f7c\">\n",
              "    <div class=\"colab-df-container\">\n",
              "      <div>\n",
              "<style scoped>\n",
              "    .dataframe tbody tr th:only-of-type {\n",
              "        vertical-align: middle;\n",
              "    }\n",
              "\n",
              "    .dataframe tbody tr th {\n",
              "        vertical-align: top;\n",
              "    }\n",
              "\n",
              "    .dataframe thead th {\n",
              "        text-align: right;\n",
              "    }\n",
              "</style>\n",
              "<table border=\"1\" class=\"dataframe\">\n",
              "  <thead>\n",
              "    <tr style=\"text-align: right;\">\n",
              "      <th></th>\n",
              "      <th>video_id</th>\n",
              "      <th>video_title</th>\n",
              "      <th>upload_date</th>\n",
              "      <th>view_count</th>\n",
              "      <th>like_count</th>\n",
              "      <th>comment_count</th>\n",
              "    </tr>\n",
              "  </thead>\n",
              "  <tbody>\n",
              "  </tbody>\n",
              "</table>\n",
              "</div>\n",
              "      <button class=\"colab-df-convert\" onclick=\"convertToInteractive('df-e60ac76c-93c1-4f65-9078-b87a74d90f7c')\"\n",
              "              title=\"Convert this dataframe to an interactive table.\"\n",
              "              style=\"display:none;\">\n",
              "        \n",
              "  <svg xmlns=\"http://www.w3.org/2000/svg\" height=\"24px\"viewBox=\"0 0 24 24\"\n",
              "       width=\"24px\">\n",
              "    <path d=\"M0 0h24v24H0V0z\" fill=\"none\"/>\n",
              "    <path d=\"M18.56 5.44l.94 2.06.94-2.06 2.06-.94-2.06-.94-.94-2.06-.94 2.06-2.06.94zm-11 1L8.5 8.5l.94-2.06 2.06-.94-2.06-.94L8.5 2.5l-.94 2.06-2.06.94zm10 10l.94 2.06.94-2.06 2.06-.94-2.06-.94-.94-2.06-.94 2.06-2.06.94z\"/><path d=\"M17.41 7.96l-1.37-1.37c-.4-.4-.92-.59-1.43-.59-.52 0-1.04.2-1.43.59L10.3 9.45l-7.72 7.72c-.78.78-.78 2.05 0 2.83L4 21.41c.39.39.9.59 1.41.59.51 0 1.02-.2 1.41-.59l7.78-7.78 2.81-2.81c.8-.78.8-2.07 0-2.86zM5.41 20L4 18.59l7.72-7.72 1.47 1.35L5.41 20z\"/>\n",
              "  </svg>\n",
              "      </button>\n",
              "      \n",
              "  <style>\n",
              "    .colab-df-container {\n",
              "      display:flex;\n",
              "      flex-wrap:wrap;\n",
              "      gap: 12px;\n",
              "    }\n",
              "\n",
              "    .colab-df-convert {\n",
              "      background-color: #E8F0FE;\n",
              "      border: none;\n",
              "      border-radius: 50%;\n",
              "      cursor: pointer;\n",
              "      display: none;\n",
              "      fill: #1967D2;\n",
              "      height: 32px;\n",
              "      padding: 0 0 0 0;\n",
              "      width: 32px;\n",
              "    }\n",
              "\n",
              "    .colab-df-convert:hover {\n",
              "      background-color: #E2EBFA;\n",
              "      box-shadow: 0px 1px 2px rgba(60, 64, 67, 0.3), 0px 1px 3px 1px rgba(60, 64, 67, 0.15);\n",
              "      fill: #174EA6;\n",
              "    }\n",
              "\n",
              "    [theme=dark] .colab-df-convert {\n",
              "      background-color: #3B4455;\n",
              "      fill: #D2E3FC;\n",
              "    }\n",
              "\n",
              "    [theme=dark] .colab-df-convert:hover {\n",
              "      background-color: #434B5C;\n",
              "      box-shadow: 0px 1px 3px 1px rgba(0, 0, 0, 0.15);\n",
              "      filter: drop-shadow(0px 1px 2px rgba(0, 0, 0, 0.3));\n",
              "      fill: #FFFFFF;\n",
              "    }\n",
              "  </style>\n",
              "\n",
              "      <script>\n",
              "        const buttonEl =\n",
              "          document.querySelector('#df-e60ac76c-93c1-4f65-9078-b87a74d90f7c button.colab-df-convert');\n",
              "        buttonEl.style.display =\n",
              "          google.colab.kernel.accessAllowed ? 'block' : 'none';\n",
              "\n",
              "        async function convertToInteractive(key) {\n",
              "          const element = document.querySelector('#df-e60ac76c-93c1-4f65-9078-b87a74d90f7c');\n",
              "          const dataTable =\n",
              "            await google.colab.kernel.invokeFunction('convertToInteractive',\n",
              "                                                     [key], {});\n",
              "          if (!dataTable) return;\n",
              "\n",
              "          const docLinkHtml = 'Like what you see? Visit the ' +\n",
              "            '<a target=\"_blank\" href=https://colab.research.google.com/notebooks/data_table.ipynb>data table notebook</a>'\n",
              "            + ' to learn more about interactive tables.';\n",
              "          element.innerHTML = '';\n",
              "          dataTable['output_type'] = 'display_data';\n",
              "          await google.colab.output.renderOutput(dataTable, element);\n",
              "          const docLink = document.createElement('div');\n",
              "          docLink.innerHTML = docLinkHtml;\n",
              "          element.appendChild(docLink);\n",
              "        }\n",
              "      </script>\n",
              "    </div>\n",
              "  </div>\n",
              "  "
            ],
            "text/plain": [
              "Empty DataFrame\n",
              "Columns: [video_id, video_title, upload_date, view_count, like_count, comment_count]\n",
              "Index: []"
            ]
          },
          "metadata": {},
          "execution_count": 19
        }
      ]
    },
    {
      "cell_type": "code",
      "source": [
        "def update_db(cursor, df):  \n",
        " tmp_df = pd.DataFrame(columns = list(df.columns)) #Temporary dataframe for storing new videos that aren't in a database\n",
        " for i, row in df.iterrows():\n",
        "       if check_if_video_exists(cursor, row['video_id']):\n",
        "         update_row(cursor, row['video_id'], row['video_title'], row['view_count'], row['like_count'], row['comment_count'])\n",
        "       else:\n",
        "          tmp_df = tmp_df.append(row)\n",
        " return tmp_df "
      ],
      "metadata": {
        "id": "K8wkcsN7EagY"
      },
      "execution_count": 20,
      "outputs": []
    },
    {
      "cell_type": "code",
      "source": [
        "#Insert new rows\n",
        "def insert_new_rows(cursor, video_id, video_title, upload_date, view_count, like_count, comment_count):\n",
        "  query = (\"\"\"INSERT INTO yt_channel_videos (video_id, video_title, upload_date, view_count, like_count, comment_count)\n",
        "            VALUES(%s, %s, %s, %s, %s, %s)\"\"\")\n",
        "  row_to_insert = (video_id, video_title, upload_date, view_count, like_count, comment_count)\n",
        "  cursor.execute(query, row_to_insert)"
      ],
      "metadata": {
        "id": "vM1el4qrHhZb"
      },
      "execution_count": 21,
      "outputs": []
    },
    {
      "cell_type": "code",
      "source": [
        "#Inserting new rows (row by row) into database\n",
        "def append_df_to_db(cursor, df):\n",
        "  for i, row in df.iterrows():\n",
        "    insert_new_rows(cursor, row['video_id'], row['video_title'], row['upload_date'], row['view_count'], row['like_count'], row['comment_count'])"
      ],
      "metadata": {
        "id": "KNuH6dBcInUb"
      },
      "execution_count": 22,
      "outputs": []
    },
    {
      "cell_type": "code",
      "source": [
        "new_df = update_db(cursor, df)\n",
        "conn_db.commit()"
      ],
      "metadata": {
        "id": "r3c2QUvjG2XC"
      },
      "execution_count": 23,
      "outputs": []
    },
    {
      "cell_type": "code",
      "source": [
        "new_df"
      ],
      "metadata": {
        "colab": {
          "base_uri": "https://localhost:8080/",
          "height": 582
        },
        "id": "kV80PL5UHa62",
        "outputId": "26ea1c3e-294a-4834-fb3f-dad0760dbcef"
      },
      "execution_count": 24,
      "outputs": [
        {
          "output_type": "execute_result",
          "data": {
            "text/html": [
              "\n",
              "  <div id=\"df-8d4a53a6-ccbf-4e96-b572-746b66332d56\">\n",
              "    <div class=\"colab-df-container\">\n",
              "      <div>\n",
              "<style scoped>\n",
              "    .dataframe tbody tr th:only-of-type {\n",
              "        vertical-align: middle;\n",
              "    }\n",
              "\n",
              "    .dataframe tbody tr th {\n",
              "        vertical-align: top;\n",
              "    }\n",
              "\n",
              "    .dataframe thead th {\n",
              "        text-align: right;\n",
              "    }\n",
              "</style>\n",
              "<table border=\"1\" class=\"dataframe\">\n",
              "  <thead>\n",
              "    <tr style=\"text-align: right;\">\n",
              "      <th></th>\n",
              "      <th>video_id</th>\n",
              "      <th>video_title</th>\n",
              "      <th>upload_date</th>\n",
              "      <th>view_count</th>\n",
              "      <th>like_count</th>\n",
              "      <th>comment_count</th>\n",
              "    </tr>\n",
              "  </thead>\n",
              "  <tbody>\n",
              "    <tr>\n",
              "      <th>0</th>\n",
              "      <td>-2i4xmW6u2A</td>\n",
              "      <td>ZHU - In the Morning* [Short Cover]</td>\n",
              "      <td>2018-09-23</td>\n",
              "      <td>288</td>\n",
              "      <td>11</td>\n",
              "      <td>0</td>\n",
              "    </tr>\n",
              "    <tr>\n",
              "      <th>1</th>\n",
              "      <td>avbZDwi4VTM</td>\n",
              "      <td>Amra Mandžukić #4 //BIH Women&amp;#39;s National V...</td>\n",
              "      <td>2018-05-17</td>\n",
              "      <td>808</td>\n",
              "      <td>13</td>\n",
              "      <td>0</td>\n",
              "    </tr>\n",
              "    <tr>\n",
              "      <th>2</th>\n",
              "      <td>TWkT6ovxAtQ</td>\n",
              "      <td>Animal Farm (BOSNIA Edition)</td>\n",
              "      <td>2018-03-01</td>\n",
              "      <td>127</td>\n",
              "      <td>4</td>\n",
              "      <td>0</td>\n",
              "    </tr>\n",
              "    <tr>\n",
              "      <th>3</th>\n",
              "      <td>Bj0CMyhLDRU</td>\n",
              "      <td>Poklon Čani</td>\n",
              "      <td>2018-02-10</td>\n",
              "      <td>113</td>\n",
              "      <td>6</td>\n",
              "      <td>0</td>\n",
              "    </tr>\n",
              "    <tr>\n",
              "      <th>4</th>\n",
              "      <td>neGDJyEpkVw</td>\n",
              "      <td>žeks from skugric $$ thug life $$</td>\n",
              "      <td>2018-01-30</td>\n",
              "      <td>211</td>\n",
              "      <td>4</td>\n",
              "      <td>0</td>\n",
              "    </tr>\n",
              "    <tr>\n",
              "      <th>5</th>\n",
              "      <td>CvRncH8rdPc</td>\n",
              "      <td>Riblja Čorba - Bože, koliko je volim (COVER)</td>\n",
              "      <td>2017-10-02</td>\n",
              "      <td>491</td>\n",
              "      <td>14</td>\n",
              "      <td>2</td>\n",
              "    </tr>\n",
              "    <tr>\n",
              "      <th>6</th>\n",
              "      <td>VgB6hCpFong</td>\n",
              "      <td>Šoferska je tuga pregolema (Guitar)</td>\n",
              "      <td>2017-04-13</td>\n",
              "      <td>523</td>\n",
              "      <td>5</td>\n",
              "      <td>8</td>\n",
              "    </tr>\n",
              "    <tr>\n",
              "      <th>7</th>\n",
              "      <td>dUMmMRKPek4</td>\n",
              "      <td>Scientific method fromBosnia be like...</td>\n",
              "      <td>2017-02-20</td>\n",
              "      <td>190</td>\n",
              "      <td>3</td>\n",
              "      <td>0</td>\n",
              "    </tr>\n",
              "    <tr>\n",
              "      <th>8</th>\n",
              "      <td>lZvB18OSDe8</td>\n",
              "      <td>Intro 1</td>\n",
              "      <td>2017-02-18</td>\n",
              "      <td>36</td>\n",
              "      <td>0</td>\n",
              "      <td>0</td>\n",
              "    </tr>\n",
              "    <tr>\n",
              "      <th>9</th>\n",
              "      <td>-fVxmrQeTBA</td>\n",
              "      <td>Test 1</td>\n",
              "      <td>2017-02-15</td>\n",
              "      <td>76</td>\n",
              "      <td>1</td>\n",
              "      <td>4</td>\n",
              "    </tr>\n",
              "    <tr>\n",
              "      <th>10</th>\n",
              "      <td>-zy2pXzqwCM</td>\n",
              "      <td>Zabranjeno Pušenje - Ženi Nam Se Vukota //Solo...</td>\n",
              "      <td>2017-01-21</td>\n",
              "      <td>3839</td>\n",
              "      <td>41</td>\n",
              "      <td>3</td>\n",
              "    </tr>\n",
              "    <tr>\n",
              "      <th>11</th>\n",
              "      <td>j6VUf73iY00</td>\n",
              "      <td>S.A.R.S. - Praktična žena (Bass Cover)</td>\n",
              "      <td>2017-01-07</td>\n",
              "      <td>381</td>\n",
              "      <td>7</td>\n",
              "      <td>1</td>\n",
              "    </tr>\n",
              "    <tr>\n",
              "      <th>12</th>\n",
              "      <td>1kFw5iGUxSU</td>\n",
              "      <td>REPILF - 1312 NIJANSI CRNE (SPOT)</td>\n",
              "      <td>2016-11-26</td>\n",
              "      <td>31537</td>\n",
              "      <td>322</td>\n",
              "      <td>32</td>\n",
              "    </tr>\n",
              "    <tr>\n",
              "      <th>13</th>\n",
              "      <td>4mVlcq8BHJk</td>\n",
              "      <td>dark cloud - broken promise (guitar cover)</td>\n",
              "      <td>2016-08-01</td>\n",
              "      <td>335</td>\n",
              "      <td>9</td>\n",
              "      <td>0</td>\n",
              "    </tr>\n",
              "    <tr>\n",
              "      <th>14</th>\n",
              "      <td>EnqCrg8J0YU</td>\n",
              "      <td>snimanje karakteristika tranzistora.</td>\n",
              "      <td>2016-07-12</td>\n",
              "      <td>252</td>\n",
              "      <td>4</td>\n",
              "      <td>0</td>\n",
              "    </tr>\n",
              "    <tr>\n",
              "      <th>15</th>\n",
              "      <td>fD_TvzuH_vE</td>\n",
              "      <td>merrie melodies opening theme (guitar cover)</td>\n",
              "      <td>2016-02-20</td>\n",
              "      <td>828</td>\n",
              "      <td>12</td>\n",
              "      <td>0</td>\n",
              "    </tr>\n",
              "    <tr>\n",
              "      <th>16</th>\n",
              "      <td>jRNvxO8ZPdo</td>\n",
              "      <td>Alice in Chains - Would? (Unplugged) cover</td>\n",
              "      <td>2014-07-28</td>\n",
              "      <td>178</td>\n",
              "      <td>3</td>\n",
              "      <td>1</td>\n",
              "    </tr>\n",
              "  </tbody>\n",
              "</table>\n",
              "</div>\n",
              "      <button class=\"colab-df-convert\" onclick=\"convertToInteractive('df-8d4a53a6-ccbf-4e96-b572-746b66332d56')\"\n",
              "              title=\"Convert this dataframe to an interactive table.\"\n",
              "              style=\"display:none;\">\n",
              "        \n",
              "  <svg xmlns=\"http://www.w3.org/2000/svg\" height=\"24px\"viewBox=\"0 0 24 24\"\n",
              "       width=\"24px\">\n",
              "    <path d=\"M0 0h24v24H0V0z\" fill=\"none\"/>\n",
              "    <path d=\"M18.56 5.44l.94 2.06.94-2.06 2.06-.94-2.06-.94-.94-2.06-.94 2.06-2.06.94zm-11 1L8.5 8.5l.94-2.06 2.06-.94-2.06-.94L8.5 2.5l-.94 2.06-2.06.94zm10 10l.94 2.06.94-2.06 2.06-.94-2.06-.94-.94-2.06-.94 2.06-2.06.94z\"/><path d=\"M17.41 7.96l-1.37-1.37c-.4-.4-.92-.59-1.43-.59-.52 0-1.04.2-1.43.59L10.3 9.45l-7.72 7.72c-.78.78-.78 2.05 0 2.83L4 21.41c.39.39.9.59 1.41.59.51 0 1.02-.2 1.41-.59l7.78-7.78 2.81-2.81c.8-.78.8-2.07 0-2.86zM5.41 20L4 18.59l7.72-7.72 1.47 1.35L5.41 20z\"/>\n",
              "  </svg>\n",
              "      </button>\n",
              "      \n",
              "  <style>\n",
              "    .colab-df-container {\n",
              "      display:flex;\n",
              "      flex-wrap:wrap;\n",
              "      gap: 12px;\n",
              "    }\n",
              "\n",
              "    .colab-df-convert {\n",
              "      background-color: #E8F0FE;\n",
              "      border: none;\n",
              "      border-radius: 50%;\n",
              "      cursor: pointer;\n",
              "      display: none;\n",
              "      fill: #1967D2;\n",
              "      height: 32px;\n",
              "      padding: 0 0 0 0;\n",
              "      width: 32px;\n",
              "    }\n",
              "\n",
              "    .colab-df-convert:hover {\n",
              "      background-color: #E2EBFA;\n",
              "      box-shadow: 0px 1px 2px rgba(60, 64, 67, 0.3), 0px 1px 3px 1px rgba(60, 64, 67, 0.15);\n",
              "      fill: #174EA6;\n",
              "    }\n",
              "\n",
              "    [theme=dark] .colab-df-convert {\n",
              "      background-color: #3B4455;\n",
              "      fill: #D2E3FC;\n",
              "    }\n",
              "\n",
              "    [theme=dark] .colab-df-convert:hover {\n",
              "      background-color: #434B5C;\n",
              "      box-shadow: 0px 1px 3px 1px rgba(0, 0, 0, 0.15);\n",
              "      filter: drop-shadow(0px 1px 2px rgba(0, 0, 0, 0.3));\n",
              "      fill: #FFFFFF;\n",
              "    }\n",
              "  </style>\n",
              "\n",
              "      <script>\n",
              "        const buttonEl =\n",
              "          document.querySelector('#df-8d4a53a6-ccbf-4e96-b572-746b66332d56 button.colab-df-convert');\n",
              "        buttonEl.style.display =\n",
              "          google.colab.kernel.accessAllowed ? 'block' : 'none';\n",
              "\n",
              "        async function convertToInteractive(key) {\n",
              "          const element = document.querySelector('#df-8d4a53a6-ccbf-4e96-b572-746b66332d56');\n",
              "          const dataTable =\n",
              "            await google.colab.kernel.invokeFunction('convertToInteractive',\n",
              "                                                     [key], {});\n",
              "          if (!dataTable) return;\n",
              "\n",
              "          const docLinkHtml = 'Like what you see? Visit the ' +\n",
              "            '<a target=\"_blank\" href=https://colab.research.google.com/notebooks/data_table.ipynb>data table notebook</a>'\n",
              "            + ' to learn more about interactive tables.';\n",
              "          element.innerHTML = '';\n",
              "          dataTable['output_type'] = 'display_data';\n",
              "          await google.colab.output.renderOutput(dataTable, element);\n",
              "          const docLink = document.createElement('div');\n",
              "          docLink.innerHTML = docLinkHtml;\n",
              "          element.appendChild(docLink);\n",
              "        }\n",
              "      </script>\n",
              "    </div>\n",
              "  </div>\n",
              "  "
            ],
            "text/plain": [
              "       video_id  ... comment_count\n",
              "0   -2i4xmW6u2A  ...             0\n",
              "1   avbZDwi4VTM  ...             0\n",
              "2   TWkT6ovxAtQ  ...             0\n",
              "3   Bj0CMyhLDRU  ...             0\n",
              "4   neGDJyEpkVw  ...             0\n",
              "5   CvRncH8rdPc  ...             2\n",
              "6   VgB6hCpFong  ...             8\n",
              "7   dUMmMRKPek4  ...             0\n",
              "8   lZvB18OSDe8  ...             0\n",
              "9   -fVxmrQeTBA  ...             4\n",
              "10  -zy2pXzqwCM  ...             3\n",
              "11  j6VUf73iY00  ...             1\n",
              "12  1kFw5iGUxSU  ...            32\n",
              "13  4mVlcq8BHJk  ...             0\n",
              "14  EnqCrg8J0YU  ...             0\n",
              "15  fD_TvzuH_vE  ...             0\n",
              "16  jRNvxO8ZPdo  ...             1\n",
              "\n",
              "[17 rows x 6 columns]"
            ]
          },
          "metadata": {},
          "execution_count": 24
        }
      ]
    },
    {
      "cell_type": "code",
      "source": [
        "append_df_to_db(cursor, new_df)\n",
        "conn_db.commit()"
      ],
      "metadata": {
        "id": "MlM69sfTKUQm"
      },
      "execution_count": 25,
      "outputs": []
    },
    {
      "cell_type": "code",
      "source": [
        "#Let's check if that works!\n",
        "query = '''SELECT * FROM yt_channel_videos;'''\n",
        "cursor.execute(query)\n",
        "output = cursor.fetchall()\n",
        "for row in output:\n",
        "  print(row)"
      ],
      "metadata": {
        "colab": {
          "base_uri": "https://localhost:8080/"
        },
        "id": "RdLjGDYsKl4n",
        "outputId": "e0cf005b-1b16-4ba2-d3ad-68b8028ceec1"
      },
      "execution_count": 26,
      "outputs": [
        {
          "output_type": "stream",
          "name": "stdout",
          "text": [
            "('-2i4xmW6u2A', 'ZHU - In the Morning* [Short Cover]', datetime.date(2018, 9, 23), 288, 11, 0)\n",
            "('-fVxmrQeTBA', 'Test 1', datetime.date(2017, 2, 15), 76, 1, 4)\n",
            "('-zy2pXzqwCM', 'Zabranjeno Pušenje - Ženi Nam Se Vukota //Solo (Cover)', datetime.date(2017, 1, 21), 3839, 41, 3)\n",
            "('1kFw5iGUxSU', 'REPILF - 1312 NIJANSI CRNE (SPOT)', datetime.date(2016, 11, 26), 31537, 322, 32)\n",
            "('4mVlcq8BHJk', 'dark cloud - broken promise (guitar cover)', datetime.date(2016, 8, 1), 335, 9, 0)\n",
            "('avbZDwi4VTM', 'Amra Mandžukić #4 //BIH Women&#39;s National Volleyball Team', datetime.date(2018, 5, 17), 808, 13, 0)\n",
            "('Bj0CMyhLDRU', 'Poklon Čani', datetime.date(2018, 2, 10), 113, 6, 0)\n",
            "('CvRncH8rdPc', 'Riblja Čorba - Bože, koliko je volim (COVER)', datetime.date(2017, 10, 2), 491, 14, 2)\n",
            "('dUMmMRKPek4', 'Scientific method fromBosnia be like...', datetime.date(2017, 2, 20), 190, 3, 0)\n",
            "('EnqCrg8J0YU', 'snimanje karakteristika tranzistora.', datetime.date(2016, 7, 12), 252, 4, 0)\n",
            "('fD_TvzuH_vE', 'merrie melodies opening theme (guitar cover)', datetime.date(2016, 2, 20), 828, 12, 0)\n",
            "('j6VUf73iY00', 'S.A.R.S. - Praktična žena (Bass Cover)', datetime.date(2017, 1, 7), 381, 7, 1)\n",
            "('jRNvxO8ZPdo', 'Alice in Chains - Would? (Unplugged) cover', datetime.date(2014, 7, 28), 178, 3, 1)\n",
            "('lZvB18OSDe8', 'Intro 1', datetime.date(2017, 2, 18), 36, 0, 0)\n",
            "('neGDJyEpkVw', 'žeks from skugric $$ thug life $$', datetime.date(2018, 1, 30), 211, 4, 0)\n",
            "('TWkT6ovxAtQ', 'Animal Farm (BOSNIA Edition)', datetime.date(2018, 3, 1), 127, 4, 0)\n",
            "('VgB6hCpFong', 'Šoferska je tuga pregolema (Guitar)', datetime.date(2017, 4, 13), 523, 5, 8)\n"
          ]
        }
      ]
    },
    {
      "cell_type": "code",
      "source": [
        "len(output) == len(new_df) #There we go ;)"
      ],
      "metadata": {
        "colab": {
          "base_uri": "https://localhost:8080/"
        },
        "id": "_ynWVALjLIr4",
        "outputId": "c149a2d7-9224-4551-b775-e66a4e424776"
      },
      "execution_count": 27,
      "outputs": [
        {
          "output_type": "execute_result",
          "data": {
            "text/plain": [
              "True"
            ]
          },
          "metadata": {},
          "execution_count": 27
        }
      ]
    },
    {
      "cell_type": "code",
      "source": [
        "#Let's see if the update function works. \n",
        "#Now, I'm going to make a dataframe with a synthetic data such that some of the columns from the existing rows are changed (view_counts etc.),\n",
        "#and I'm also going to add some new videos with random stuff that mimic this dataset, since I'm not that YouTube popular ;)\n",
        "\n",
        "df_syn = df.copy() #Synthetic dataset\n",
        "df_syn.head()"
      ],
      "metadata": {
        "colab": {
          "base_uri": "https://localhost:8080/",
          "height": 206
        },
        "id": "8e5qF5YZLhdq",
        "outputId": "4f56feae-b268-48a4-f752-c3a9e6aa47c9"
      },
      "execution_count": 28,
      "outputs": [
        {
          "output_type": "execute_result",
          "data": {
            "text/html": [
              "\n",
              "  <div id=\"df-cfdb0ae0-c90b-4520-af6f-711bccf4bb51\">\n",
              "    <div class=\"colab-df-container\">\n",
              "      <div>\n",
              "<style scoped>\n",
              "    .dataframe tbody tr th:only-of-type {\n",
              "        vertical-align: middle;\n",
              "    }\n",
              "\n",
              "    .dataframe tbody tr th {\n",
              "        vertical-align: top;\n",
              "    }\n",
              "\n",
              "    .dataframe thead th {\n",
              "        text-align: right;\n",
              "    }\n",
              "</style>\n",
              "<table border=\"1\" class=\"dataframe\">\n",
              "  <thead>\n",
              "    <tr style=\"text-align: right;\">\n",
              "      <th></th>\n",
              "      <th>video_id</th>\n",
              "      <th>video_title</th>\n",
              "      <th>upload_date</th>\n",
              "      <th>view_count</th>\n",
              "      <th>like_count</th>\n",
              "      <th>comment_count</th>\n",
              "    </tr>\n",
              "  </thead>\n",
              "  <tbody>\n",
              "    <tr>\n",
              "      <th>0</th>\n",
              "      <td>-2i4xmW6u2A</td>\n",
              "      <td>ZHU - In the Morning* [Short Cover]</td>\n",
              "      <td>2018-09-23</td>\n",
              "      <td>288</td>\n",
              "      <td>11</td>\n",
              "      <td>0</td>\n",
              "    </tr>\n",
              "    <tr>\n",
              "      <th>1</th>\n",
              "      <td>avbZDwi4VTM</td>\n",
              "      <td>Amra Mandžukić #4 //BIH Women&amp;#39;s National V...</td>\n",
              "      <td>2018-05-17</td>\n",
              "      <td>808</td>\n",
              "      <td>13</td>\n",
              "      <td>0</td>\n",
              "    </tr>\n",
              "    <tr>\n",
              "      <th>2</th>\n",
              "      <td>TWkT6ovxAtQ</td>\n",
              "      <td>Animal Farm (BOSNIA Edition)</td>\n",
              "      <td>2018-03-01</td>\n",
              "      <td>127</td>\n",
              "      <td>4</td>\n",
              "      <td>0</td>\n",
              "    </tr>\n",
              "    <tr>\n",
              "      <th>3</th>\n",
              "      <td>Bj0CMyhLDRU</td>\n",
              "      <td>Poklon Čani</td>\n",
              "      <td>2018-02-10</td>\n",
              "      <td>113</td>\n",
              "      <td>6</td>\n",
              "      <td>0</td>\n",
              "    </tr>\n",
              "    <tr>\n",
              "      <th>4</th>\n",
              "      <td>neGDJyEpkVw</td>\n",
              "      <td>žeks from skugric $$ thug life $$</td>\n",
              "      <td>2018-01-30</td>\n",
              "      <td>211</td>\n",
              "      <td>4</td>\n",
              "      <td>0</td>\n",
              "    </tr>\n",
              "  </tbody>\n",
              "</table>\n",
              "</div>\n",
              "      <button class=\"colab-df-convert\" onclick=\"convertToInteractive('df-cfdb0ae0-c90b-4520-af6f-711bccf4bb51')\"\n",
              "              title=\"Convert this dataframe to an interactive table.\"\n",
              "              style=\"display:none;\">\n",
              "        \n",
              "  <svg xmlns=\"http://www.w3.org/2000/svg\" height=\"24px\"viewBox=\"0 0 24 24\"\n",
              "       width=\"24px\">\n",
              "    <path d=\"M0 0h24v24H0V0z\" fill=\"none\"/>\n",
              "    <path d=\"M18.56 5.44l.94 2.06.94-2.06 2.06-.94-2.06-.94-.94-2.06-.94 2.06-2.06.94zm-11 1L8.5 8.5l.94-2.06 2.06-.94-2.06-.94L8.5 2.5l-.94 2.06-2.06.94zm10 10l.94 2.06.94-2.06 2.06-.94-2.06-.94-.94-2.06-.94 2.06-2.06.94z\"/><path d=\"M17.41 7.96l-1.37-1.37c-.4-.4-.92-.59-1.43-.59-.52 0-1.04.2-1.43.59L10.3 9.45l-7.72 7.72c-.78.78-.78 2.05 0 2.83L4 21.41c.39.39.9.59 1.41.59.51 0 1.02-.2 1.41-.59l7.78-7.78 2.81-2.81c.8-.78.8-2.07 0-2.86zM5.41 20L4 18.59l7.72-7.72 1.47 1.35L5.41 20z\"/>\n",
              "  </svg>\n",
              "      </button>\n",
              "      \n",
              "  <style>\n",
              "    .colab-df-container {\n",
              "      display:flex;\n",
              "      flex-wrap:wrap;\n",
              "      gap: 12px;\n",
              "    }\n",
              "\n",
              "    .colab-df-convert {\n",
              "      background-color: #E8F0FE;\n",
              "      border: none;\n",
              "      border-radius: 50%;\n",
              "      cursor: pointer;\n",
              "      display: none;\n",
              "      fill: #1967D2;\n",
              "      height: 32px;\n",
              "      padding: 0 0 0 0;\n",
              "      width: 32px;\n",
              "    }\n",
              "\n",
              "    .colab-df-convert:hover {\n",
              "      background-color: #E2EBFA;\n",
              "      box-shadow: 0px 1px 2px rgba(60, 64, 67, 0.3), 0px 1px 3px 1px rgba(60, 64, 67, 0.15);\n",
              "      fill: #174EA6;\n",
              "    }\n",
              "\n",
              "    [theme=dark] .colab-df-convert {\n",
              "      background-color: #3B4455;\n",
              "      fill: #D2E3FC;\n",
              "    }\n",
              "\n",
              "    [theme=dark] .colab-df-convert:hover {\n",
              "      background-color: #434B5C;\n",
              "      box-shadow: 0px 1px 3px 1px rgba(0, 0, 0, 0.15);\n",
              "      filter: drop-shadow(0px 1px 2px rgba(0, 0, 0, 0.3));\n",
              "      fill: #FFFFFF;\n",
              "    }\n",
              "  </style>\n",
              "\n",
              "      <script>\n",
              "        const buttonEl =\n",
              "          document.querySelector('#df-cfdb0ae0-c90b-4520-af6f-711bccf4bb51 button.colab-df-convert');\n",
              "        buttonEl.style.display =\n",
              "          google.colab.kernel.accessAllowed ? 'block' : 'none';\n",
              "\n",
              "        async function convertToInteractive(key) {\n",
              "          const element = document.querySelector('#df-cfdb0ae0-c90b-4520-af6f-711bccf4bb51');\n",
              "          const dataTable =\n",
              "            await google.colab.kernel.invokeFunction('convertToInteractive',\n",
              "                                                     [key], {});\n",
              "          if (!dataTable) return;\n",
              "\n",
              "          const docLinkHtml = 'Like what you see? Visit the ' +\n",
              "            '<a target=\"_blank\" href=https://colab.research.google.com/notebooks/data_table.ipynb>data table notebook</a>'\n",
              "            + ' to learn more about interactive tables.';\n",
              "          element.innerHTML = '';\n",
              "          dataTable['output_type'] = 'display_data';\n",
              "          await google.colab.output.renderOutput(dataTable, element);\n",
              "          const docLink = document.createElement('div');\n",
              "          docLink.innerHTML = docLinkHtml;\n",
              "          element.appendChild(docLink);\n",
              "        }\n",
              "      </script>\n",
              "    </div>\n",
              "  </div>\n",
              "  "
            ],
            "text/plain": [
              "      video_id  ... comment_count\n",
              "0  -2i4xmW6u2A  ...             0\n",
              "1  avbZDwi4VTM  ...             0\n",
              "2  TWkT6ovxAtQ  ...             0\n",
              "3  Bj0CMyhLDRU  ...             0\n",
              "4  neGDJyEpkVw  ...             0\n",
              "\n",
              "[5 rows x 6 columns]"
            ]
          },
          "metadata": {},
          "execution_count": 28
        }
      ]
    },
    {
      "cell_type": "code",
      "source": [
        "#View count must be more than existing and hence: view_count = view_count + randomint()\n",
        "df_syn.at[1, 'view_count']"
      ],
      "metadata": {
        "colab": {
          "base_uri": "https://localhost:8080/"
        },
        "id": "rA0FpBwkMxg5",
        "outputId": "71ea6cfb-7ec2-47f1-cf22-0939d2eac7d4"
      },
      "execution_count": 29,
      "outputs": [
        {
          "output_type": "execute_result",
          "data": {
            "text/plain": [
              "808"
            ]
          },
          "metadata": {},
          "execution_count": 29
        }
      ]
    },
    {
      "cell_type": "code",
      "source": [
        "#Generating random integers\n",
        "\n",
        "from random import seed, randint\n",
        "#Setting a random seed is not *that necessary* because we want our values to be random, and possibly each time different.\n",
        "#The logic remains the same, the p-value is still 0.05 :P \n",
        "seed(42) \n",
        "for _ in range(10):\n",
        "\tvalue = randint(1000, 100000) #I'm forecasting to be so popular on YouTube :P\n",
        "\tprint(value)"
      ],
      "metadata": {
        "colab": {
          "base_uri": "https://localhost:8080/"
        },
        "id": "QC7czn-oOUPW",
        "outputId": "e2d3c3ca-8034-4587-9db0-23563b54e44c"
      },
      "execution_count": 30,
      "outputs": [
        {
          "output_type": "stream",
          "name": "stdout",
          "text": [
            "84810\n",
            "15592\n",
            "4278\n",
            "98196\n",
            "37048\n",
            "33098\n",
            "30256\n",
            "19289\n",
            "97530\n",
            "14434\n"
          ]
        }
      ]
    },
    {
      "cell_type": "code",
      "source": [
        "#######VIEW COUNTS#######"
      ],
      "metadata": {
        "id": "92Og2Y4tUyCr"
      },
      "execution_count": 31,
      "outputs": []
    },
    {
      "cell_type": "code",
      "source": [
        "#Values of view_count before:\n",
        "df_syn.at[1, 'view_count'], df_syn.at[5, 'view_count'], df_syn.at[8, 'view_count']"
      ],
      "metadata": {
        "colab": {
          "base_uri": "https://localhost:8080/"
        },
        "id": "Gq0u4GgCRyiM",
        "outputId": "cd5a6211-f04c-480b-afcb-7694432fca2f"
      },
      "execution_count": 32,
      "outputs": [
        {
          "output_type": "execute_result",
          "data": {
            "text/plain": [
              "(808, 491, 36)"
            ]
          },
          "metadata": {},
          "execution_count": 32
        }
      ]
    },
    {
      "cell_type": "code",
      "source": [
        "#We are going to change just a few of a videos\n",
        "df_syn.at[1, 'view_count'] = df_syn.at[1, 'view_count'] + randint(1000,10000)\n",
        "df_syn.at[5, 'view_count'] = df_syn.at[5, 'view_count'] + randint(1000,10000)\n",
        "df_syn.at[8, 'view_count'] = df_syn.at[8, 'view_count'] + randint(1000,10000)"
      ],
      "metadata": {
        "id": "YseJo8m-RFjr"
      },
      "execution_count": 33,
      "outputs": []
    },
    {
      "cell_type": "code",
      "source": [
        "#Values of view_count after:\n",
        "df_syn.at[1, 'view_count'], df_syn.at[5, 'view_count'], df_syn.at[8, 'view_count']"
      ],
      "metadata": {
        "colab": {
          "base_uri": "https://localhost:8080/"
        },
        "id": "q16Ok82gR_VR",
        "outputId": "56e01542-9028-4558-9d3d-e0cf4dc24895"
      },
      "execution_count": 34,
      "outputs": [
        {
          "output_type": "execute_result",
          "data": {
            "text/plain": [
              "(10743, 2915, 7948)"
            ]
          },
          "metadata": {},
          "execution_count": 34
        }
      ]
    },
    {
      "cell_type": "code",
      "source": [
        "#######LIKE COUNTS#######"
      ],
      "metadata": {
        "id": "qnzaDYALU2K4"
      },
      "execution_count": 35,
      "outputs": []
    },
    {
      "cell_type": "code",
      "source": [
        "#Values of like_count before \n",
        "df_syn.at[2, 'like_count'], df_syn.at[4, 'like_count'], df_syn.at[9, 'like_count']"
      ],
      "metadata": {
        "colab": {
          "base_uri": "https://localhost:8080/"
        },
        "id": "75hje2dcUYjg",
        "outputId": "3944b28a-77fb-4bc5-b38b-c625574b379b"
      },
      "execution_count": 36,
      "outputs": [
        {
          "output_type": "execute_result",
          "data": {
            "text/plain": [
              "(4, 4, 1)"
            ]
          },
          "metadata": {},
          "execution_count": 36
        }
      ]
    },
    {
      "cell_type": "code",
      "source": [
        "#Values of view_count before:\n",
        "df_syn.at[2, 'like_count'] = df_syn.at[2, 'like_count'] + randint(10,100)\n",
        "df_syn.at[4, 'like_count'] = df_syn.at[4, 'like_count'] + randint(10,100)\n",
        "df_syn.at[9, 'like_count'] = df_syn.at[9, 'like_count'] + randint(10,100)"
      ],
      "metadata": {
        "id": "cadlSXmpOREP"
      },
      "execution_count": 37,
      "outputs": []
    },
    {
      "cell_type": "code",
      "source": [
        "#Values of like_count after\n",
        "df_syn.at[2, 'like_count'], df_syn.at[4, 'like_count'], df_syn.at[9, 'like_count']"
      ],
      "metadata": {
        "colab": {
          "base_uri": "https://localhost:8080/"
        },
        "id": "awBlohhqUrEj",
        "outputId": "98164943-6171-43be-c7a3-6f899a836f74"
      },
      "execution_count": 38,
      "outputs": [
        {
          "output_type": "execute_result",
          "data": {
            "text/plain": [
              "(18, 17, 22)"
            ]
          },
          "metadata": {},
          "execution_count": 38
        }
      ]
    },
    {
      "cell_type": "code",
      "source": [
        "#######NEW VIDEOS#######"
      ],
      "metadata": {
        "id": "Hynn8dp0U5Kk"
      },
      "execution_count": 39,
      "outputs": []
    },
    {
      "cell_type": "code",
      "source": [
        "##RANDOM VIDEO IDS\n",
        "from random import choice\n",
        "from string import ascii_letters as al\n",
        "length_of_random_string = 11 #Since all of the video_id's are of length 11\n",
        "\n",
        "random_string = \"\".join(choice(al) for i in range(length_of_random_string))\n",
        "\n",
        "print(random_string)"
      ],
      "metadata": {
        "colab": {
          "base_uri": "https://localhost:8080/"
        },
        "id": "nAmUcE-wU_S9",
        "outputId": "da378f4c-6103-4bea-bd83-7d0f1428ae5f"
      },
      "execution_count": 40,
      "outputs": [
        {
          "output_type": "stream",
          "name": "stdout",
          "text": [
            "noGMbJmTPSI\n"
          ]
        }
      ]
    },
    {
      "cell_type": "code",
      "source": [
        "len('jnWvgfygwwM')"
      ],
      "metadata": {
        "colab": {
          "base_uri": "https://localhost:8080/"
        },
        "id": "AxQ8Fnqsh80k",
        "outputId": "bfac0f40-9669-4aa6-c380-a5a288bdd424"
      },
      "execution_count": 41,
      "outputs": [
        {
          "output_type": "execute_result",
          "data": {
            "text/plain": [
              "11"
            ]
          },
          "metadata": {},
          "execution_count": 41
        }
      ]
    },
    {
      "cell_type": "markdown",
      "source": [
        "#Probability of having IDs same as ones I already have?\n",
        "Given that video_id is a string of length 11 and contains set of ascii_letters where len(ascii_letters) = 128 (128 unique chars) it would mean that there are 128^11=1.5111573e+23 unique possibilities. Probability is pretty much num_of_videos/128^11. Probability of having collision tends to 0, BUT there is still a possibility. ;) "
      ],
      "metadata": {
        "id": "8l5B1OaZh1HH"
      }
    },
    {
      "cell_type": "code",
      "source": [
        "##RANDOM DATES\n",
        "!pip install Faker"
      ],
      "metadata": {
        "colab": {
          "base_uri": "https://localhost:8080/"
        },
        "id": "w0AmD4fwX7bH",
        "outputId": "8ea95695-27d5-416a-a16f-16d23c243577"
      },
      "execution_count": 42,
      "outputs": [
        {
          "output_type": "stream",
          "name": "stdout",
          "text": [
            "Requirement already satisfied: Faker in /usr/local/lib/python3.7/dist-packages (12.2.0)\n",
            "Requirement already satisfied: typing-extensions>=3.10.0.2 in /usr/local/lib/python3.7/dist-packages (from Faker) (3.10.0.2)\n",
            "Requirement already satisfied: python-dateutil>=2.4 in /usr/local/lib/python3.7/dist-packages (from Faker) (2.8.2)\n",
            "Requirement already satisfied: six>=1.5 in /usr/local/lib/python3.7/dist-packages (from python-dateutil>=2.4->Faker) (1.15.0)\n"
          ]
        }
      ]
    },
    {
      "cell_type": "code",
      "source": [
        "#We are lucky enough that dates are sorted in descending order ;)\n",
        "df_syn.head()"
      ],
      "metadata": {
        "colab": {
          "base_uri": "https://localhost:8080/",
          "height": 206
        },
        "id": "R4keAubnYSUB",
        "outputId": "c906d438-419a-409f-e34b-927f5351ff3e"
      },
      "execution_count": 43,
      "outputs": [
        {
          "output_type": "execute_result",
          "data": {
            "text/html": [
              "\n",
              "  <div id=\"df-8315ce84-6f71-4f38-b935-3a059b2edd98\">\n",
              "    <div class=\"colab-df-container\">\n",
              "      <div>\n",
              "<style scoped>\n",
              "    .dataframe tbody tr th:only-of-type {\n",
              "        vertical-align: middle;\n",
              "    }\n",
              "\n",
              "    .dataframe tbody tr th {\n",
              "        vertical-align: top;\n",
              "    }\n",
              "\n",
              "    .dataframe thead th {\n",
              "        text-align: right;\n",
              "    }\n",
              "</style>\n",
              "<table border=\"1\" class=\"dataframe\">\n",
              "  <thead>\n",
              "    <tr style=\"text-align: right;\">\n",
              "      <th></th>\n",
              "      <th>video_id</th>\n",
              "      <th>video_title</th>\n",
              "      <th>upload_date</th>\n",
              "      <th>view_count</th>\n",
              "      <th>like_count</th>\n",
              "      <th>comment_count</th>\n",
              "    </tr>\n",
              "  </thead>\n",
              "  <tbody>\n",
              "    <tr>\n",
              "      <th>0</th>\n",
              "      <td>-2i4xmW6u2A</td>\n",
              "      <td>ZHU - In the Morning* [Short Cover]</td>\n",
              "      <td>2018-09-23</td>\n",
              "      <td>288</td>\n",
              "      <td>11</td>\n",
              "      <td>0</td>\n",
              "    </tr>\n",
              "    <tr>\n",
              "      <th>1</th>\n",
              "      <td>avbZDwi4VTM</td>\n",
              "      <td>Amra Mandžukić #4 //BIH Women&amp;#39;s National V...</td>\n",
              "      <td>2018-05-17</td>\n",
              "      <td>10743</td>\n",
              "      <td>13</td>\n",
              "      <td>0</td>\n",
              "    </tr>\n",
              "    <tr>\n",
              "      <th>2</th>\n",
              "      <td>TWkT6ovxAtQ</td>\n",
              "      <td>Animal Farm (BOSNIA Edition)</td>\n",
              "      <td>2018-03-01</td>\n",
              "      <td>127</td>\n",
              "      <td>18</td>\n",
              "      <td>0</td>\n",
              "    </tr>\n",
              "    <tr>\n",
              "      <th>3</th>\n",
              "      <td>Bj0CMyhLDRU</td>\n",
              "      <td>Poklon Čani</td>\n",
              "      <td>2018-02-10</td>\n",
              "      <td>113</td>\n",
              "      <td>6</td>\n",
              "      <td>0</td>\n",
              "    </tr>\n",
              "    <tr>\n",
              "      <th>4</th>\n",
              "      <td>neGDJyEpkVw</td>\n",
              "      <td>žeks from skugric $$ thug life $$</td>\n",
              "      <td>2018-01-30</td>\n",
              "      <td>211</td>\n",
              "      <td>17</td>\n",
              "      <td>0</td>\n",
              "    </tr>\n",
              "  </tbody>\n",
              "</table>\n",
              "</div>\n",
              "      <button class=\"colab-df-convert\" onclick=\"convertToInteractive('df-8315ce84-6f71-4f38-b935-3a059b2edd98')\"\n",
              "              title=\"Convert this dataframe to an interactive table.\"\n",
              "              style=\"display:none;\">\n",
              "        \n",
              "  <svg xmlns=\"http://www.w3.org/2000/svg\" height=\"24px\"viewBox=\"0 0 24 24\"\n",
              "       width=\"24px\">\n",
              "    <path d=\"M0 0h24v24H0V0z\" fill=\"none\"/>\n",
              "    <path d=\"M18.56 5.44l.94 2.06.94-2.06 2.06-.94-2.06-.94-.94-2.06-.94 2.06-2.06.94zm-11 1L8.5 8.5l.94-2.06 2.06-.94-2.06-.94L8.5 2.5l-.94 2.06-2.06.94zm10 10l.94 2.06.94-2.06 2.06-.94-2.06-.94-.94-2.06-.94 2.06-2.06.94z\"/><path d=\"M17.41 7.96l-1.37-1.37c-.4-.4-.92-.59-1.43-.59-.52 0-1.04.2-1.43.59L10.3 9.45l-7.72 7.72c-.78.78-.78 2.05 0 2.83L4 21.41c.39.39.9.59 1.41.59.51 0 1.02-.2 1.41-.59l7.78-7.78 2.81-2.81c.8-.78.8-2.07 0-2.86zM5.41 20L4 18.59l7.72-7.72 1.47 1.35L5.41 20z\"/>\n",
              "  </svg>\n",
              "      </button>\n",
              "      \n",
              "  <style>\n",
              "    .colab-df-container {\n",
              "      display:flex;\n",
              "      flex-wrap:wrap;\n",
              "      gap: 12px;\n",
              "    }\n",
              "\n",
              "    .colab-df-convert {\n",
              "      background-color: #E8F0FE;\n",
              "      border: none;\n",
              "      border-radius: 50%;\n",
              "      cursor: pointer;\n",
              "      display: none;\n",
              "      fill: #1967D2;\n",
              "      height: 32px;\n",
              "      padding: 0 0 0 0;\n",
              "      width: 32px;\n",
              "    }\n",
              "\n",
              "    .colab-df-convert:hover {\n",
              "      background-color: #E2EBFA;\n",
              "      box-shadow: 0px 1px 2px rgba(60, 64, 67, 0.3), 0px 1px 3px 1px rgba(60, 64, 67, 0.15);\n",
              "      fill: #174EA6;\n",
              "    }\n",
              "\n",
              "    [theme=dark] .colab-df-convert {\n",
              "      background-color: #3B4455;\n",
              "      fill: #D2E3FC;\n",
              "    }\n",
              "\n",
              "    [theme=dark] .colab-df-convert:hover {\n",
              "      background-color: #434B5C;\n",
              "      box-shadow: 0px 1px 3px 1px rgba(0, 0, 0, 0.15);\n",
              "      filter: drop-shadow(0px 1px 2px rgba(0, 0, 0, 0.3));\n",
              "      fill: #FFFFFF;\n",
              "    }\n",
              "  </style>\n",
              "\n",
              "      <script>\n",
              "        const buttonEl =\n",
              "          document.querySelector('#df-8315ce84-6f71-4f38-b935-3a059b2edd98 button.colab-df-convert');\n",
              "        buttonEl.style.display =\n",
              "          google.colab.kernel.accessAllowed ? 'block' : 'none';\n",
              "\n",
              "        async function convertToInteractive(key) {\n",
              "          const element = document.querySelector('#df-8315ce84-6f71-4f38-b935-3a059b2edd98');\n",
              "          const dataTable =\n",
              "            await google.colab.kernel.invokeFunction('convertToInteractive',\n",
              "                                                     [key], {});\n",
              "          if (!dataTable) return;\n",
              "\n",
              "          const docLinkHtml = 'Like what you see? Visit the ' +\n",
              "            '<a target=\"_blank\" href=https://colab.research.google.com/notebooks/data_table.ipynb>data table notebook</a>'\n",
              "            + ' to learn more about interactive tables.';\n",
              "          element.innerHTML = '';\n",
              "          dataTable['output_type'] = 'display_data';\n",
              "          await google.colab.output.renderOutput(dataTable, element);\n",
              "          const docLink = document.createElement('div');\n",
              "          docLink.innerHTML = docLinkHtml;\n",
              "          element.appendChild(docLink);\n",
              "        }\n",
              "      </script>\n",
              "    </div>\n",
              "  </div>\n",
              "  "
            ],
            "text/plain": [
              "      video_id  ... comment_count\n",
              "0  -2i4xmW6u2A  ...             0\n",
              "1  avbZDwi4VTM  ...             0\n",
              "2  TWkT6ovxAtQ  ...             0\n",
              "3  Bj0CMyhLDRU  ...             0\n",
              "4  neGDJyEpkVw  ...             0\n",
              "\n",
              "[5 rows x 6 columns]"
            ]
          },
          "metadata": {},
          "execution_count": 43
        }
      ]
    },
    {
      "cell_type": "code",
      "source": [
        "type(df_syn.at[0, 'upload_date'])"
      ],
      "metadata": {
        "colab": {
          "base_uri": "https://localhost:8080/"
        },
        "id": "KsAK5nnWEYBz",
        "outputId": "7d54f17a-d3bf-42aa-f69a-966bbe3a1c3f"
      },
      "execution_count": 44,
      "outputs": [
        {
          "output_type": "execute_result",
          "data": {
            "text/plain": [
              "str"
            ]
          },
          "metadata": {},
          "execution_count": 44
        }
      ]
    },
    {
      "cell_type": "code",
      "source": [
        "###### NEW ROWS ######"
      ],
      "metadata": {
        "id": "3ssEYkeUpVKO"
      },
      "execution_count": 45,
      "outputs": []
    },
    {
      "cell_type": "code",
      "source": [
        "#I'm going to use Faker library so that I can generate random dates\n",
        "#Using the basic common sense we can conclude this logic: This dataframe contains all the videos that I ever uploaded, so \n",
        "#I can't add a video that is older than todays date and earlier than the latest video I've uploaded\n",
        "#Well, since YouTube API collects only Public videos, there might be a possibility that I've made some videos Private which might be 'younger' or 'equal'\n",
        "#than my latest video upload and older than date of my account creation. \n",
        "\n",
        "from faker import Faker\n",
        "import datetime\n",
        "fake = Faker()\n",
        "\n",
        "#Date today\n",
        "today_date = datetime.date.today()\n",
        "today_year = int(today_date.strftime('%Y'))\n",
        "today_month = int(today_date.strftime('%m'))\n",
        "today_day = int(today_date.strftime('%d'))\n",
        "\n",
        "#Latest video date\n",
        "latest_date = df_syn.at[0, 'upload_date'].split('-')\n",
        "ld_year = int(df_syn.at[0, 'upload_date'].split('-')[0])\n",
        "ld_month = int(df_syn.at[0, 'upload_date'].split('-')[1])\n",
        "ld_day = int(df_syn.at[0, 'upload_date'].split('-')[2])\n",
        "\n",
        "\n",
        "start_date = datetime.date(year = ld_year, month = ld_month, day = ld_day)\n",
        "end_date = datetime.date(year = today_year, month = today_month, day = today_day)\n",
        "date_in_between = fake.date_between(start_date = start_date, end_date = end_date)\n",
        "\n",
        "print(f'Start date: {start_date}; End date: {end_date}; Date in between: {date_in_between}.')"
      ],
      "metadata": {
        "colab": {
          "base_uri": "https://localhost:8080/"
        },
        "id": "eKvByXiwYCET",
        "outputId": "1582bd59-e03b-429d-cf17-cb6567c5b879"
      },
      "execution_count": 46,
      "outputs": [
        {
          "output_type": "stream",
          "name": "stdout",
          "text": [
            "Start date: 2018-09-23; End date: 2022-02-10; Date in between: 2019-05-03.\n"
          ]
        }
      ]
    },
    {
      "cell_type": "code",
      "source": [
        "#This seems good!"
      ],
      "metadata": {
        "id": "L-snxMnre3Uv"
      },
      "execution_count": 47,
      "outputs": []
    },
    {
      "cell_type": "code",
      "source": [
        "%pprint"
      ],
      "metadata": {
        "colab": {
          "base_uri": "https://localhost:8080/"
        },
        "id": "zNYjP9tWW8Yz",
        "outputId": "c132139e-e326-4cb9-aa0a-2d34ba689d3a"
      },
      "execution_count": 81,
      "outputs": [
        {
          "output_type": "stream",
          "name": "stdout",
          "text": [
            "Pretty printing has been turned ON\n"
          ]
        }
      ]
    },
    {
      "cell_type": "code",
      "source": [
        "#metoo ^"
      ],
      "metadata": {
        "id": "5LWCsuzfeLRw"
      },
      "execution_count": 49,
      "outputs": []
    },
    {
      "cell_type": "code",
      "source": [
        "##RANDOM VIDEO TITLES\n",
        "\n",
        "#Let's train a Youtube Video Title Generator using LSTMs... NO!"
      ],
      "metadata": {
        "id": "tKFLh9V8fQD2"
      },
      "execution_count": 50,
      "outputs": []
    },
    {
      "cell_type": "code",
      "source": [
        "##DETERMINISTIC VIDEO TITLES\n",
        "video_1_title = 'How to train a Youtube Video Title Generator using LSTMs'\n",
        "video_2_title = \"I'm so lazy to train a Youtube Video Title Generator using LSTMs (Part 1)\"\n",
        "video_3_title = \"I'm so lazy to train a Youtube Video Title Generator using LSTMs (Part 2)\""
      ],
      "metadata": {
        "id": "5539w1ODgJ6Z"
      },
      "execution_count": 51,
      "outputs": []
    },
    {
      "cell_type": "code",
      "source": [
        "fake.date_between(start_date = start_date, end_date = end_date)"
      ],
      "metadata": {
        "colab": {
          "base_uri": "https://localhost:8080/"
        },
        "id": "o0UIVRqNlCkd",
        "outputId": "38c62663-67f4-4df3-a9dc-55ab11898b1d"
      },
      "execution_count": 52,
      "outputs": [
        {
          "output_type": "execute_result",
          "data": {
            "text/plain": [
              "datetime.date(2021, 1, 18)"
            ]
          },
          "metadata": {},
          "execution_count": 52
        }
      ]
    },
    {
      "cell_type": "code",
      "source": [
        "#Fake video dates\n",
        "video_dates = []\n",
        "for i in range(3):\n",
        "  video_dates.append(fake.date_between(start_date = start_date, end_date = end_date))\n",
        "print(video_dates)"
      ],
      "metadata": {
        "colab": {
          "base_uri": "https://localhost:8080/"
        },
        "id": "1nwdhWhmlMNg",
        "outputId": "5ccc4022-0cf4-4b02-d595-2c619a23a5d4"
      },
      "execution_count": 53,
      "outputs": [
        {
          "output_type": "stream",
          "name": "stdout",
          "text": [
            "[datetime.date(2021, 12, 11), datetime.date(2021, 10, 22), datetime.date(2020, 8, 22)]\n"
          ]
        }
      ]
    },
    {
      "cell_type": "code",
      "source": [
        "#Fake dates\n",
        "video_1_date = str(video_dates[0])\n",
        "video_2_date = str(video_dates[1])\n",
        "video_3_date = str(video_dates[2])"
      ],
      "metadata": {
        "id": "z2ORnAH0ki_i"
      },
      "execution_count": 54,
      "outputs": []
    },
    {
      "cell_type": "code",
      "source": [
        "#Random Video IDs\n",
        "random_string_1 = \"\".join(choice(al) for i in range(length_of_random_string))\n",
        "random_string_2 = \"\".join(choice(al) for i in range(length_of_random_string))\n",
        "random_string_3 = \"\".join(choice(al) for i in range(length_of_random_string))"
      ],
      "metadata": {
        "id": "RzBmtsganNMP"
      },
      "execution_count": 55,
      "outputs": []
    },
    {
      "cell_type": "code",
      "source": [
        "print(video_1_date, video_2_date)"
      ],
      "metadata": {
        "colab": {
          "base_uri": "https://localhost:8080/"
        },
        "id": "WtZaI9uwlmjw",
        "outputId": "7d8dab0b-dcbd-428c-9c82-5839e3bc2606"
      },
      "execution_count": 56,
      "outputs": [
        {
          "output_type": "stream",
          "name": "stdout",
          "text": [
            "2021-12-11 2021-10-22\n"
          ]
        }
      ]
    },
    {
      "cell_type": "code",
      "source": [
        "#Three new videos\n",
        "new_row_1 = {'video_id':random_string_1,\n",
        "             'video_title': video_1_title,\n",
        "             'upload_date': video_1_date, \n",
        "              'view_count': randint(1000,10000), \n",
        "              'like_count': randint(10,100), \n",
        "              'comment_count': randint(69,250)}\n",
        "\n",
        "new_row_2 = {'video_id':random_string_2,\n",
        "             'video_title': video_2_title,\n",
        "             'upload_date': video_2_date, \n",
        "              'view_count': randint(1000,10000), \n",
        "              'like_count': randint(10,100), \n",
        "              'comment_count': randint(69,250)}\n",
        "\n",
        "new_row_3 = {'video_id':random_string_3,\n",
        "             'video_title': video_3_title,\n",
        "             'upload_date': video_3_date, \n",
        "              'view_count': randint(1000,10000), \n",
        "              'like_count': randint(10,100), \n",
        "              'comment_count': randint(69,250)}\n"
      ],
      "metadata": {
        "id": "s5bdZtjpWJiQ"
      },
      "execution_count": 57,
      "outputs": []
    },
    {
      "cell_type": "code",
      "source": [
        "temp_df = pd.DataFrame(columns = list(df_syn.columns))\n",
        "temp_df"
      ],
      "metadata": {
        "colab": {
          "base_uri": "https://localhost:8080/",
          "height": 49
        },
        "id": "uxnQuFYzmFVQ",
        "outputId": "011e20b2-54a9-434c-c050-33455a3c33b7"
      },
      "execution_count": 58,
      "outputs": [
        {
          "output_type": "execute_result",
          "data": {
            "text/html": [
              "\n",
              "  <div id=\"df-e96db03e-e56a-470a-bfac-6b6207fe0ce0\">\n",
              "    <div class=\"colab-df-container\">\n",
              "      <div>\n",
              "<style scoped>\n",
              "    .dataframe tbody tr th:only-of-type {\n",
              "        vertical-align: middle;\n",
              "    }\n",
              "\n",
              "    .dataframe tbody tr th {\n",
              "        vertical-align: top;\n",
              "    }\n",
              "\n",
              "    .dataframe thead th {\n",
              "        text-align: right;\n",
              "    }\n",
              "</style>\n",
              "<table border=\"1\" class=\"dataframe\">\n",
              "  <thead>\n",
              "    <tr style=\"text-align: right;\">\n",
              "      <th></th>\n",
              "      <th>video_id</th>\n",
              "      <th>video_title</th>\n",
              "      <th>upload_date</th>\n",
              "      <th>view_count</th>\n",
              "      <th>like_count</th>\n",
              "      <th>comment_count</th>\n",
              "    </tr>\n",
              "  </thead>\n",
              "  <tbody>\n",
              "  </tbody>\n",
              "</table>\n",
              "</div>\n",
              "      <button class=\"colab-df-convert\" onclick=\"convertToInteractive('df-e96db03e-e56a-470a-bfac-6b6207fe0ce0')\"\n",
              "              title=\"Convert this dataframe to an interactive table.\"\n",
              "              style=\"display:none;\">\n",
              "        \n",
              "  <svg xmlns=\"http://www.w3.org/2000/svg\" height=\"24px\"viewBox=\"0 0 24 24\"\n",
              "       width=\"24px\">\n",
              "    <path d=\"M0 0h24v24H0V0z\" fill=\"none\"/>\n",
              "    <path d=\"M18.56 5.44l.94 2.06.94-2.06 2.06-.94-2.06-.94-.94-2.06-.94 2.06-2.06.94zm-11 1L8.5 8.5l.94-2.06 2.06-.94-2.06-.94L8.5 2.5l-.94 2.06-2.06.94zm10 10l.94 2.06.94-2.06 2.06-.94-2.06-.94-.94-2.06-.94 2.06-2.06.94z\"/><path d=\"M17.41 7.96l-1.37-1.37c-.4-.4-.92-.59-1.43-.59-.52 0-1.04.2-1.43.59L10.3 9.45l-7.72 7.72c-.78.78-.78 2.05 0 2.83L4 21.41c.39.39.9.59 1.41.59.51 0 1.02-.2 1.41-.59l7.78-7.78 2.81-2.81c.8-.78.8-2.07 0-2.86zM5.41 20L4 18.59l7.72-7.72 1.47 1.35L5.41 20z\"/>\n",
              "  </svg>\n",
              "      </button>\n",
              "      \n",
              "  <style>\n",
              "    .colab-df-container {\n",
              "      display:flex;\n",
              "      flex-wrap:wrap;\n",
              "      gap: 12px;\n",
              "    }\n",
              "\n",
              "    .colab-df-convert {\n",
              "      background-color: #E8F0FE;\n",
              "      border: none;\n",
              "      border-radius: 50%;\n",
              "      cursor: pointer;\n",
              "      display: none;\n",
              "      fill: #1967D2;\n",
              "      height: 32px;\n",
              "      padding: 0 0 0 0;\n",
              "      width: 32px;\n",
              "    }\n",
              "\n",
              "    .colab-df-convert:hover {\n",
              "      background-color: #E2EBFA;\n",
              "      box-shadow: 0px 1px 2px rgba(60, 64, 67, 0.3), 0px 1px 3px 1px rgba(60, 64, 67, 0.15);\n",
              "      fill: #174EA6;\n",
              "    }\n",
              "\n",
              "    [theme=dark] .colab-df-convert {\n",
              "      background-color: #3B4455;\n",
              "      fill: #D2E3FC;\n",
              "    }\n",
              "\n",
              "    [theme=dark] .colab-df-convert:hover {\n",
              "      background-color: #434B5C;\n",
              "      box-shadow: 0px 1px 3px 1px rgba(0, 0, 0, 0.15);\n",
              "      filter: drop-shadow(0px 1px 2px rgba(0, 0, 0, 0.3));\n",
              "      fill: #FFFFFF;\n",
              "    }\n",
              "  </style>\n",
              "\n",
              "      <script>\n",
              "        const buttonEl =\n",
              "          document.querySelector('#df-e96db03e-e56a-470a-bfac-6b6207fe0ce0 button.colab-df-convert');\n",
              "        buttonEl.style.display =\n",
              "          google.colab.kernel.accessAllowed ? 'block' : 'none';\n",
              "\n",
              "        async function convertToInteractive(key) {\n",
              "          const element = document.querySelector('#df-e96db03e-e56a-470a-bfac-6b6207fe0ce0');\n",
              "          const dataTable =\n",
              "            await google.colab.kernel.invokeFunction('convertToInteractive',\n",
              "                                                     [key], {});\n",
              "          if (!dataTable) return;\n",
              "\n",
              "          const docLinkHtml = 'Like what you see? Visit the ' +\n",
              "            '<a target=\"_blank\" href=https://colab.research.google.com/notebooks/data_table.ipynb>data table notebook</a>'\n",
              "            + ' to learn more about interactive tables.';\n",
              "          element.innerHTML = '';\n",
              "          dataTable['output_type'] = 'display_data';\n",
              "          await google.colab.output.renderOutput(dataTable, element);\n",
              "          const docLink = document.createElement('div');\n",
              "          docLink.innerHTML = docLinkHtml;\n",
              "          element.appendChild(docLink);\n",
              "        }\n",
              "      </script>\n",
              "    </div>\n",
              "  </div>\n",
              "  "
            ],
            "text/plain": [
              "Empty DataFrame\n",
              "Columns: [video_id, video_title, upload_date, view_count, like_count, comment_count]\n",
              "Index: []"
            ]
          },
          "metadata": {},
          "execution_count": 58
        }
      ]
    },
    {
      "cell_type": "code",
      "source": [
        "temp_df = temp_df.append(new_row_1, ignore_index = True)\n",
        "temp_df = temp_df.append(new_row_2, ignore_index = True)\n",
        "temp_df = temp_df.append(new_row_3, ignore_index = True)"
      ],
      "metadata": {
        "id": "BpOWS84EmX6l"
      },
      "execution_count": 59,
      "outputs": []
    },
    {
      "cell_type": "code",
      "source": [
        "temp_df.head()"
      ],
      "metadata": {
        "colab": {
          "base_uri": "https://localhost:8080/",
          "height": 143
        },
        "id": "arAw8xzwmtjW",
        "outputId": "fe1c8d65-7dcc-43be-b1c4-d0c025c71490"
      },
      "execution_count": 60,
      "outputs": [
        {
          "output_type": "execute_result",
          "data": {
            "text/html": [
              "\n",
              "  <div id=\"df-f09dcdea-8ed3-44b1-b6c9-ac39e30df36c\">\n",
              "    <div class=\"colab-df-container\">\n",
              "      <div>\n",
              "<style scoped>\n",
              "    .dataframe tbody tr th:only-of-type {\n",
              "        vertical-align: middle;\n",
              "    }\n",
              "\n",
              "    .dataframe tbody tr th {\n",
              "        vertical-align: top;\n",
              "    }\n",
              "\n",
              "    .dataframe thead th {\n",
              "        text-align: right;\n",
              "    }\n",
              "</style>\n",
              "<table border=\"1\" class=\"dataframe\">\n",
              "  <thead>\n",
              "    <tr style=\"text-align: right;\">\n",
              "      <th></th>\n",
              "      <th>video_id</th>\n",
              "      <th>video_title</th>\n",
              "      <th>upload_date</th>\n",
              "      <th>view_count</th>\n",
              "      <th>like_count</th>\n",
              "      <th>comment_count</th>\n",
              "    </tr>\n",
              "  </thead>\n",
              "  <tbody>\n",
              "    <tr>\n",
              "      <th>0</th>\n",
              "      <td>AoCLrZaWZkS</td>\n",
              "      <td>How to train a Youtube Video Title Generator u...</td>\n",
              "      <td>2021-12-11</td>\n",
              "      <td>2291</td>\n",
              "      <td>80</td>\n",
              "      <td>144</td>\n",
              "    </tr>\n",
              "    <tr>\n",
              "      <th>1</th>\n",
              "      <td>BvrjnWvgfyg</td>\n",
              "      <td>I'm so lazy to train a Youtube Video Title Gen...</td>\n",
              "      <td>2021-10-22</td>\n",
              "      <td>6925</td>\n",
              "      <td>83</td>\n",
              "      <td>118</td>\n",
              "    </tr>\n",
              "    <tr>\n",
              "      <th>2</th>\n",
              "      <td>wwMqZcUDIhy</td>\n",
              "      <td>I'm so lazy to train a Youtube Video Title Gen...</td>\n",
              "      <td>2020-08-22</td>\n",
              "      <td>2139</td>\n",
              "      <td>15</td>\n",
              "      <td>238</td>\n",
              "    </tr>\n",
              "  </tbody>\n",
              "</table>\n",
              "</div>\n",
              "      <button class=\"colab-df-convert\" onclick=\"convertToInteractive('df-f09dcdea-8ed3-44b1-b6c9-ac39e30df36c')\"\n",
              "              title=\"Convert this dataframe to an interactive table.\"\n",
              "              style=\"display:none;\">\n",
              "        \n",
              "  <svg xmlns=\"http://www.w3.org/2000/svg\" height=\"24px\"viewBox=\"0 0 24 24\"\n",
              "       width=\"24px\">\n",
              "    <path d=\"M0 0h24v24H0V0z\" fill=\"none\"/>\n",
              "    <path d=\"M18.56 5.44l.94 2.06.94-2.06 2.06-.94-2.06-.94-.94-2.06-.94 2.06-2.06.94zm-11 1L8.5 8.5l.94-2.06 2.06-.94-2.06-.94L8.5 2.5l-.94 2.06-2.06.94zm10 10l.94 2.06.94-2.06 2.06-.94-2.06-.94-.94-2.06-.94 2.06-2.06.94z\"/><path d=\"M17.41 7.96l-1.37-1.37c-.4-.4-.92-.59-1.43-.59-.52 0-1.04.2-1.43.59L10.3 9.45l-7.72 7.72c-.78.78-.78 2.05 0 2.83L4 21.41c.39.39.9.59 1.41.59.51 0 1.02-.2 1.41-.59l7.78-7.78 2.81-2.81c.8-.78.8-2.07 0-2.86zM5.41 20L4 18.59l7.72-7.72 1.47 1.35L5.41 20z\"/>\n",
              "  </svg>\n",
              "      </button>\n",
              "      \n",
              "  <style>\n",
              "    .colab-df-container {\n",
              "      display:flex;\n",
              "      flex-wrap:wrap;\n",
              "      gap: 12px;\n",
              "    }\n",
              "\n",
              "    .colab-df-convert {\n",
              "      background-color: #E8F0FE;\n",
              "      border: none;\n",
              "      border-radius: 50%;\n",
              "      cursor: pointer;\n",
              "      display: none;\n",
              "      fill: #1967D2;\n",
              "      height: 32px;\n",
              "      padding: 0 0 0 0;\n",
              "      width: 32px;\n",
              "    }\n",
              "\n",
              "    .colab-df-convert:hover {\n",
              "      background-color: #E2EBFA;\n",
              "      box-shadow: 0px 1px 2px rgba(60, 64, 67, 0.3), 0px 1px 3px 1px rgba(60, 64, 67, 0.15);\n",
              "      fill: #174EA6;\n",
              "    }\n",
              "\n",
              "    [theme=dark] .colab-df-convert {\n",
              "      background-color: #3B4455;\n",
              "      fill: #D2E3FC;\n",
              "    }\n",
              "\n",
              "    [theme=dark] .colab-df-convert:hover {\n",
              "      background-color: #434B5C;\n",
              "      box-shadow: 0px 1px 3px 1px rgba(0, 0, 0, 0.15);\n",
              "      filter: drop-shadow(0px 1px 2px rgba(0, 0, 0, 0.3));\n",
              "      fill: #FFFFFF;\n",
              "    }\n",
              "  </style>\n",
              "\n",
              "      <script>\n",
              "        const buttonEl =\n",
              "          document.querySelector('#df-f09dcdea-8ed3-44b1-b6c9-ac39e30df36c button.colab-df-convert');\n",
              "        buttonEl.style.display =\n",
              "          google.colab.kernel.accessAllowed ? 'block' : 'none';\n",
              "\n",
              "        async function convertToInteractive(key) {\n",
              "          const element = document.querySelector('#df-f09dcdea-8ed3-44b1-b6c9-ac39e30df36c');\n",
              "          const dataTable =\n",
              "            await google.colab.kernel.invokeFunction('convertToInteractive',\n",
              "                                                     [key], {});\n",
              "          if (!dataTable) return;\n",
              "\n",
              "          const docLinkHtml = 'Like what you see? Visit the ' +\n",
              "            '<a target=\"_blank\" href=https://colab.research.google.com/notebooks/data_table.ipynb>data table notebook</a>'\n",
              "            + ' to learn more about interactive tables.';\n",
              "          element.innerHTML = '';\n",
              "          dataTable['output_type'] = 'display_data';\n",
              "          await google.colab.output.renderOutput(dataTable, element);\n",
              "          const docLink = document.createElement('div');\n",
              "          docLink.innerHTML = docLinkHtml;\n",
              "          element.appendChild(docLink);\n",
              "        }\n",
              "      </script>\n",
              "    </div>\n",
              "  </div>\n",
              "  "
            ],
            "text/plain": [
              "      video_id  ... comment_count\n",
              "0  AoCLrZaWZkS  ...           144\n",
              "1  BvrjnWvgfyg  ...           118\n",
              "2  wwMqZcUDIhy  ...           238\n",
              "\n",
              "[3 rows x 6 columns]"
            ]
          },
          "metadata": {},
          "execution_count": 60
        }
      ]
    },
    {
      "cell_type": "code",
      "source": [
        "#Nice! Let's check if our insert and update functionality works!\n",
        "#First let's see how our table looks before adding these videos:"
      ],
      "metadata": {
        "id": "fcp2V2A9nccc"
      },
      "execution_count": 61,
      "outputs": []
    },
    {
      "cell_type": "code",
      "source": [
        "#Before\n",
        "query = '''SELECT * FROM yt_channel_videos;'''\n",
        "cursor.execute(query)\n",
        "output = cursor.fetchall()\n",
        "for row in output:\n",
        "  print(row)"
      ],
      "metadata": {
        "colab": {
          "base_uri": "https://localhost:8080/"
        },
        "id": "5HI1A8I3nwHC",
        "outputId": "f6d52727-7b02-4ba1-ab47-f2393042cf23"
      },
      "execution_count": 62,
      "outputs": [
        {
          "output_type": "stream",
          "name": "stdout",
          "text": [
            "('-2i4xmW6u2A', 'ZHU - In the Morning* [Short Cover]', datetime.date(2018, 9, 23), 288, 11, 0)\n",
            "('-fVxmrQeTBA', 'Test 1', datetime.date(2017, 2, 15), 76, 1, 4)\n",
            "('-zy2pXzqwCM', 'Zabranjeno Pušenje - Ženi Nam Se Vukota //Solo (Cover)', datetime.date(2017, 1, 21), 3839, 41, 3)\n",
            "('1kFw5iGUxSU', 'REPILF - 1312 NIJANSI CRNE (SPOT)', datetime.date(2016, 11, 26), 31537, 322, 32)\n",
            "('4mVlcq8BHJk', 'dark cloud - broken promise (guitar cover)', datetime.date(2016, 8, 1), 335, 9, 0)\n",
            "('avbZDwi4VTM', 'Amra Mandžukić #4 //BIH Women&#39;s National Volleyball Team', datetime.date(2018, 5, 17), 808, 13, 0)\n",
            "('Bj0CMyhLDRU', 'Poklon Čani', datetime.date(2018, 2, 10), 113, 6, 0)\n",
            "('CvRncH8rdPc', 'Riblja Čorba - Bože, koliko je volim (COVER)', datetime.date(2017, 10, 2), 491, 14, 2)\n",
            "('dUMmMRKPek4', 'Scientific method fromBosnia be like...', datetime.date(2017, 2, 20), 190, 3, 0)\n",
            "('EnqCrg8J0YU', 'snimanje karakteristika tranzistora.', datetime.date(2016, 7, 12), 252, 4, 0)\n",
            "('fD_TvzuH_vE', 'merrie melodies opening theme (guitar cover)', datetime.date(2016, 2, 20), 828, 12, 0)\n",
            "('j6VUf73iY00', 'S.A.R.S. - Praktična žena (Bass Cover)', datetime.date(2017, 1, 7), 381, 7, 1)\n",
            "('jRNvxO8ZPdo', 'Alice in Chains - Would? (Unplugged) cover', datetime.date(2014, 7, 28), 178, 3, 1)\n",
            "('lZvB18OSDe8', 'Intro 1', datetime.date(2017, 2, 18), 36, 0, 0)\n",
            "('neGDJyEpkVw', 'žeks from skugric $$ thug life $$', datetime.date(2018, 1, 30), 211, 4, 0)\n",
            "('TWkT6ovxAtQ', 'Animal Farm (BOSNIA Edition)', datetime.date(2018, 3, 1), 127, 4, 0)\n",
            "('VgB6hCpFong', 'Šoferska je tuga pregolema (Guitar)', datetime.date(2017, 4, 13), 523, 5, 8)\n"
          ]
        }
      ]
    },
    {
      "cell_type": "code",
      "source": [
        "#First we are going to insert new rows into our remote table"
      ],
      "metadata": {
        "id": "rkhANDmmOAOz"
      },
      "execution_count": 63,
      "outputs": []
    },
    {
      "cell_type": "code",
      "source": [
        "new_columns_df = update_db(cursor, temp_df)\n",
        "new_columns_df"
      ],
      "metadata": {
        "colab": {
          "base_uri": "https://localhost:8080/",
          "height": 143
        },
        "id": "EW6SuyPjHdIx",
        "outputId": "99ea0d43-d410-42ba-d4c8-1e87c9b85d24"
      },
      "execution_count": 64,
      "outputs": [
        {
          "output_type": "execute_result",
          "data": {
            "text/html": [
              "\n",
              "  <div id=\"df-6c8dd341-800e-457d-bc13-383089317d73\">\n",
              "    <div class=\"colab-df-container\">\n",
              "      <div>\n",
              "<style scoped>\n",
              "    .dataframe tbody tr th:only-of-type {\n",
              "        vertical-align: middle;\n",
              "    }\n",
              "\n",
              "    .dataframe tbody tr th {\n",
              "        vertical-align: top;\n",
              "    }\n",
              "\n",
              "    .dataframe thead th {\n",
              "        text-align: right;\n",
              "    }\n",
              "</style>\n",
              "<table border=\"1\" class=\"dataframe\">\n",
              "  <thead>\n",
              "    <tr style=\"text-align: right;\">\n",
              "      <th></th>\n",
              "      <th>video_id</th>\n",
              "      <th>video_title</th>\n",
              "      <th>upload_date</th>\n",
              "      <th>view_count</th>\n",
              "      <th>like_count</th>\n",
              "      <th>comment_count</th>\n",
              "    </tr>\n",
              "  </thead>\n",
              "  <tbody>\n",
              "    <tr>\n",
              "      <th>0</th>\n",
              "      <td>AoCLrZaWZkS</td>\n",
              "      <td>How to train a Youtube Video Title Generator u...</td>\n",
              "      <td>2021-12-11</td>\n",
              "      <td>2291</td>\n",
              "      <td>80</td>\n",
              "      <td>144</td>\n",
              "    </tr>\n",
              "    <tr>\n",
              "      <th>1</th>\n",
              "      <td>BvrjnWvgfyg</td>\n",
              "      <td>I'm so lazy to train a Youtube Video Title Gen...</td>\n",
              "      <td>2021-10-22</td>\n",
              "      <td>6925</td>\n",
              "      <td>83</td>\n",
              "      <td>118</td>\n",
              "    </tr>\n",
              "    <tr>\n",
              "      <th>2</th>\n",
              "      <td>wwMqZcUDIhy</td>\n",
              "      <td>I'm so lazy to train a Youtube Video Title Gen...</td>\n",
              "      <td>2020-08-22</td>\n",
              "      <td>2139</td>\n",
              "      <td>15</td>\n",
              "      <td>238</td>\n",
              "    </tr>\n",
              "  </tbody>\n",
              "</table>\n",
              "</div>\n",
              "      <button class=\"colab-df-convert\" onclick=\"convertToInteractive('df-6c8dd341-800e-457d-bc13-383089317d73')\"\n",
              "              title=\"Convert this dataframe to an interactive table.\"\n",
              "              style=\"display:none;\">\n",
              "        \n",
              "  <svg xmlns=\"http://www.w3.org/2000/svg\" height=\"24px\"viewBox=\"0 0 24 24\"\n",
              "       width=\"24px\">\n",
              "    <path d=\"M0 0h24v24H0V0z\" fill=\"none\"/>\n",
              "    <path d=\"M18.56 5.44l.94 2.06.94-2.06 2.06-.94-2.06-.94-.94-2.06-.94 2.06-2.06.94zm-11 1L8.5 8.5l.94-2.06 2.06-.94-2.06-.94L8.5 2.5l-.94 2.06-2.06.94zm10 10l.94 2.06.94-2.06 2.06-.94-2.06-.94-.94-2.06-.94 2.06-2.06.94z\"/><path d=\"M17.41 7.96l-1.37-1.37c-.4-.4-.92-.59-1.43-.59-.52 0-1.04.2-1.43.59L10.3 9.45l-7.72 7.72c-.78.78-.78 2.05 0 2.83L4 21.41c.39.39.9.59 1.41.59.51 0 1.02-.2 1.41-.59l7.78-7.78 2.81-2.81c.8-.78.8-2.07 0-2.86zM5.41 20L4 18.59l7.72-7.72 1.47 1.35L5.41 20z\"/>\n",
              "  </svg>\n",
              "      </button>\n",
              "      \n",
              "  <style>\n",
              "    .colab-df-container {\n",
              "      display:flex;\n",
              "      flex-wrap:wrap;\n",
              "      gap: 12px;\n",
              "    }\n",
              "\n",
              "    .colab-df-convert {\n",
              "      background-color: #E8F0FE;\n",
              "      border: none;\n",
              "      border-radius: 50%;\n",
              "      cursor: pointer;\n",
              "      display: none;\n",
              "      fill: #1967D2;\n",
              "      height: 32px;\n",
              "      padding: 0 0 0 0;\n",
              "      width: 32px;\n",
              "    }\n",
              "\n",
              "    .colab-df-convert:hover {\n",
              "      background-color: #E2EBFA;\n",
              "      box-shadow: 0px 1px 2px rgba(60, 64, 67, 0.3), 0px 1px 3px 1px rgba(60, 64, 67, 0.15);\n",
              "      fill: #174EA6;\n",
              "    }\n",
              "\n",
              "    [theme=dark] .colab-df-convert {\n",
              "      background-color: #3B4455;\n",
              "      fill: #D2E3FC;\n",
              "    }\n",
              "\n",
              "    [theme=dark] .colab-df-convert:hover {\n",
              "      background-color: #434B5C;\n",
              "      box-shadow: 0px 1px 3px 1px rgba(0, 0, 0, 0.15);\n",
              "      filter: drop-shadow(0px 1px 2px rgba(0, 0, 0, 0.3));\n",
              "      fill: #FFFFFF;\n",
              "    }\n",
              "  </style>\n",
              "\n",
              "      <script>\n",
              "        const buttonEl =\n",
              "          document.querySelector('#df-6c8dd341-800e-457d-bc13-383089317d73 button.colab-df-convert');\n",
              "        buttonEl.style.display =\n",
              "          google.colab.kernel.accessAllowed ? 'block' : 'none';\n",
              "\n",
              "        async function convertToInteractive(key) {\n",
              "          const element = document.querySelector('#df-6c8dd341-800e-457d-bc13-383089317d73');\n",
              "          const dataTable =\n",
              "            await google.colab.kernel.invokeFunction('convertToInteractive',\n",
              "                                                     [key], {});\n",
              "          if (!dataTable) return;\n",
              "\n",
              "          const docLinkHtml = 'Like what you see? Visit the ' +\n",
              "            '<a target=\"_blank\" href=https://colab.research.google.com/notebooks/data_table.ipynb>data table notebook</a>'\n",
              "            + ' to learn more about interactive tables.';\n",
              "          element.innerHTML = '';\n",
              "          dataTable['output_type'] = 'display_data';\n",
              "          await google.colab.output.renderOutput(dataTable, element);\n",
              "          const docLink = document.createElement('div');\n",
              "          docLink.innerHTML = docLinkHtml;\n",
              "          element.appendChild(docLink);\n",
              "        }\n",
              "      </script>\n",
              "    </div>\n",
              "  </div>\n",
              "  "
            ],
            "text/plain": [
              "      video_id  ... comment_count\n",
              "0  AoCLrZaWZkS  ...           144\n",
              "1  BvrjnWvgfyg  ...           118\n",
              "2  wwMqZcUDIhy  ...           238\n",
              "\n",
              "[3 rows x 6 columns]"
            ]
          },
          "metadata": {},
          "execution_count": 64
        }
      ]
    },
    {
      "cell_type": "code",
      "source": [
        "append_df_to_db(cursor, new_columns_df)\n",
        "db_conn.commit()"
      ],
      "metadata": {
        "id": "e_ELHnZZHxb2"
      },
      "execution_count": 65,
      "outputs": []
    },
    {
      "cell_type": "code",
      "source": [
        "#After\n",
        "query = '''SELECT * FROM yt_channel_videos;'''\n",
        "cursor.execute(query)\n",
        "output = cursor.fetchall()\n",
        "for row in output:\n",
        "  print(row)"
      ],
      "metadata": {
        "colab": {
          "base_uri": "https://localhost:8080/"
        },
        "id": "fU0-A95yN5s0",
        "outputId": "3285be5a-907d-46d1-e79d-d4001c66b0a9"
      },
      "execution_count": 66,
      "outputs": [
        {
          "output_type": "stream",
          "name": "stdout",
          "text": [
            "('-2i4xmW6u2A', 'ZHU - In the Morning* [Short Cover]', datetime.date(2018, 9, 23), 288, 11, 0)\n",
            "('-fVxmrQeTBA', 'Test 1', datetime.date(2017, 2, 15), 76, 1, 4)\n",
            "('-zy2pXzqwCM', 'Zabranjeno Pušenje - Ženi Nam Se Vukota //Solo (Cover)', datetime.date(2017, 1, 21), 3839, 41, 3)\n",
            "('1kFw5iGUxSU', 'REPILF - 1312 NIJANSI CRNE (SPOT)', datetime.date(2016, 11, 26), 31537, 322, 32)\n",
            "('4mVlcq8BHJk', 'dark cloud - broken promise (guitar cover)', datetime.date(2016, 8, 1), 335, 9, 0)\n",
            "('AoCLrZaWZkS', 'How to train a Youtube Video Title Generator using LSTMs', datetime.date(2021, 12, 11), 2291, 80, 144)\n",
            "('avbZDwi4VTM', 'Amra Mandžukić #4 //BIH Women&#39;s National Volleyball Team', datetime.date(2018, 5, 17), 808, 13, 0)\n",
            "('Bj0CMyhLDRU', 'Poklon Čani', datetime.date(2018, 2, 10), 113, 6, 0)\n",
            "('BvrjnWvgfyg', \"I'm so lazy to train a Youtube Video Title Generator using LSTMs (Part 1)\", datetime.date(2021, 10, 22), 6925, 83, 118)\n",
            "('CvRncH8rdPc', 'Riblja Čorba - Bože, koliko je volim (COVER)', datetime.date(2017, 10, 2), 491, 14, 2)\n",
            "('dUMmMRKPek4', 'Scientific method fromBosnia be like...', datetime.date(2017, 2, 20), 190, 3, 0)\n",
            "('EnqCrg8J0YU', 'snimanje karakteristika tranzistora.', datetime.date(2016, 7, 12), 252, 4, 0)\n",
            "('fD_TvzuH_vE', 'merrie melodies opening theme (guitar cover)', datetime.date(2016, 2, 20), 828, 12, 0)\n",
            "('j6VUf73iY00', 'S.A.R.S. - Praktična žena (Bass Cover)', datetime.date(2017, 1, 7), 381, 7, 1)\n",
            "('jRNvxO8ZPdo', 'Alice in Chains - Would? (Unplugged) cover', datetime.date(2014, 7, 28), 178, 3, 1)\n",
            "('lZvB18OSDe8', 'Intro 1', datetime.date(2017, 2, 18), 36, 0, 0)\n",
            "('neGDJyEpkVw', 'žeks from skugric $$ thug life $$', datetime.date(2018, 1, 30), 211, 4, 0)\n",
            "('TWkT6ovxAtQ', 'Animal Farm (BOSNIA Edition)', datetime.date(2018, 3, 1), 127, 4, 0)\n",
            "('VgB6hCpFong', 'Šoferska je tuga pregolema (Guitar)', datetime.date(2017, 4, 13), 523, 5, 8)\n",
            "('wwMqZcUDIhy', \"I'm so lazy to train a Youtube Video Title Generator using LSTMs (Part 2)\", datetime.date(2020, 8, 22), 2139, 15, 238)\n"
          ]
        }
      ]
    },
    {
      "cell_type": "code",
      "source": [
        "#After\n",
        "query = '''SELECT * FROM yt_channel_videos WHERE video_id = 'avbZDwi4VTM';'''\n",
        "cursor.execute(query)\n",
        "output = cursor.fetchall()\n",
        "for row in output:\n",
        "  print(row)"
      ],
      "metadata": {
        "colab": {
          "base_uri": "https://localhost:8080/"
        },
        "id": "w-v7pVDyarLp",
        "outputId": "0544389b-013c-46d4-c989-30524c6855c3"
      },
      "execution_count": 67,
      "outputs": [
        {
          "output_type": "stream",
          "name": "stdout",
          "text": [
            "('avbZDwi4VTM', 'Amra Mandžukić #4 //BIH Women&#39;s National Volleyball Team', datetime.date(2018, 5, 17), 808, 13, 0)\n"
          ]
        }
      ]
    },
    {
      "cell_type": "markdown",
      "source": [
        "#Updating existing columns with new data"
      ],
      "metadata": {
        "id": "tInn9ELabPCx"
      }
    },
    {
      "cell_type": "code",
      "source": [
        "#We are going to first change data types of synthetic dataframe to match the ones we are already using"
      ],
      "metadata": {
        "id": "67ceK2SVbaAE"
      },
      "execution_count": 68,
      "outputs": []
    },
    {
      "cell_type": "code",
      "source": [
        "df_syn.dtypes"
      ],
      "metadata": {
        "colab": {
          "base_uri": "https://localhost:8080/"
        },
        "id": "yNz4QBQLTLkO",
        "outputId": "5cdfba85-7463-4313-f7fc-6b75b2a9d59f"
      },
      "execution_count": 69,
      "outputs": [
        {
          "output_type": "execute_result",
          "data": {
            "text/plain": [
              "video_id         object\n",
              "video_title      object\n",
              "upload_date      object\n",
              "view_count        int64\n",
              "like_count        int64\n",
              "comment_count     int64\n",
              "dtype: object"
            ]
          },
          "metadata": {},
          "execution_count": 69
        }
      ]
    },
    {
      "cell_type": "code",
      "source": [
        "new_df.dtypes"
      ],
      "metadata": {
        "colab": {
          "base_uri": "https://localhost:8080/"
        },
        "id": "8sQLYHrvbhSR",
        "outputId": "2bb6390f-b7ae-4e76-b638-d45534878752"
      },
      "execution_count": 70,
      "outputs": [
        {
          "output_type": "execute_result",
          "data": {
            "text/plain": [
              "video_id         object\n",
              "video_title      object\n",
              "upload_date      object\n",
              "view_count       object\n",
              "like_count       object\n",
              "comment_count    object\n",
              "dtype: object"
            ]
          },
          "metadata": {},
          "execution_count": 70
        }
      ]
    },
    {
      "cell_type": "code",
      "source": [
        "df_syn['view_count'] = df_syn.view_count.astype(str)\n",
        "df_syn['like_count'] = df_syn.like_count.astype(str)\n",
        "df_syn['comment_count'] = df_syn.comment_count.astype(str)"
      ],
      "metadata": {
        "id": "_eASy__xTjs7"
      },
      "execution_count": 71,
      "outputs": []
    },
    {
      "cell_type": "code",
      "source": [
        "df_syn.dtypes == new_df.dtypes"
      ],
      "metadata": {
        "colab": {
          "base_uri": "https://localhost:8080/"
        },
        "id": "VOjnjR0bTxxy",
        "outputId": "295f4d03-1c79-4b36-b891-b92fe78bd504"
      },
      "execution_count": 72,
      "outputs": [
        {
          "output_type": "execute_result",
          "data": {
            "text/plain": [
              "video_id         True\n",
              "video_title      True\n",
              "upload_date      True\n",
              "view_count       True\n",
              "like_count       True\n",
              "comment_count    True\n",
              "dtype: bool"
            ]
          },
          "metadata": {},
          "execution_count": 72
        }
      ]
    },
    {
      "cell_type": "code",
      "source": [
        "#That looks better!"
      ],
      "metadata": {
        "id": "FVwFLlmLT-Ht"
      },
      "execution_count": 73,
      "outputs": []
    },
    {
      "cell_type": "code",
      "source": [
        "#Let's query the results before we update it so we can be sure that the values will be changed\n",
        "query = '''SELECT * FROM yt_channel_videos;'''\n",
        "cursor.execute(query)\n",
        "output = cursor.fetchall()\n",
        "for row in output:\n",
        "  print(row)"
      ],
      "metadata": {
        "colab": {
          "base_uri": "https://localhost:8080/"
        },
        "outputId": "16051a93-94a6-4a99-8c10-9fefd55766f4",
        "id": "vKkIMkoMUPB8"
      },
      "execution_count": 74,
      "outputs": [
        {
          "output_type": "stream",
          "name": "stdout",
          "text": [
            "('-2i4xmW6u2A', 'ZHU - In the Morning* [Short Cover]', datetime.date(2018, 9, 23), 288, 11, 0)\n",
            "('-fVxmrQeTBA', 'Test 1', datetime.date(2017, 2, 15), 76, 1, 4)\n",
            "('-zy2pXzqwCM', 'Zabranjeno Pušenje - Ženi Nam Se Vukota //Solo (Cover)', datetime.date(2017, 1, 21), 3839, 41, 3)\n",
            "('1kFw5iGUxSU', 'REPILF - 1312 NIJANSI CRNE (SPOT)', datetime.date(2016, 11, 26), 31537, 322, 32)\n",
            "('4mVlcq8BHJk', 'dark cloud - broken promise (guitar cover)', datetime.date(2016, 8, 1), 335, 9, 0)\n",
            "('AoCLrZaWZkS', 'How to train a Youtube Video Title Generator using LSTMs', datetime.date(2021, 12, 11), 2291, 80, 144)\n",
            "('avbZDwi4VTM', 'Amra Mandžukić #4 //BIH Women&#39;s National Volleyball Team', datetime.date(2018, 5, 17), 808, 13, 0)\n",
            "('Bj0CMyhLDRU', 'Poklon Čani', datetime.date(2018, 2, 10), 113, 6, 0)\n",
            "('BvrjnWvgfyg', \"I'm so lazy to train a Youtube Video Title Generator using LSTMs (Part 1)\", datetime.date(2021, 10, 22), 6925, 83, 118)\n",
            "('CvRncH8rdPc', 'Riblja Čorba - Bože, koliko je volim (COVER)', datetime.date(2017, 10, 2), 491, 14, 2)\n",
            "('dUMmMRKPek4', 'Scientific method fromBosnia be like...', datetime.date(2017, 2, 20), 190, 3, 0)\n",
            "('EnqCrg8J0YU', 'snimanje karakteristika tranzistora.', datetime.date(2016, 7, 12), 252, 4, 0)\n",
            "('fD_TvzuH_vE', 'merrie melodies opening theme (guitar cover)', datetime.date(2016, 2, 20), 828, 12, 0)\n",
            "('j6VUf73iY00', 'S.A.R.S. - Praktična žena (Bass Cover)', datetime.date(2017, 1, 7), 381, 7, 1)\n",
            "('jRNvxO8ZPdo', 'Alice in Chains - Would? (Unplugged) cover', datetime.date(2014, 7, 28), 178, 3, 1)\n",
            "('lZvB18OSDe8', 'Intro 1', datetime.date(2017, 2, 18), 36, 0, 0)\n",
            "('neGDJyEpkVw', 'žeks from skugric $$ thug life $$', datetime.date(2018, 1, 30), 211, 4, 0)\n",
            "('TWkT6ovxAtQ', 'Animal Farm (BOSNIA Edition)', datetime.date(2018, 3, 1), 127, 4, 0)\n",
            "('VgB6hCpFong', 'Šoferska je tuga pregolema (Guitar)', datetime.date(2017, 4, 13), 523, 5, 8)\n",
            "('wwMqZcUDIhy', \"I'm so lazy to train a Youtube Video Title Generator using LSTMs (Part 2)\", datetime.date(2020, 8, 22), 2139, 15, 238)\n"
          ]
        }
      ]
    },
    {
      "cell_type": "code",
      "source": [
        "#One of the videos that will be updated is one with ID = 'avbZDwi4VTM' so we will check it before and after \n",
        "query = '''SELECT * FROM yt_channel_videos WHERE video_id = 'avbZDwi4VTM';'''\n",
        "cursor.execute(query)\n",
        "output = cursor.fetchone()\n",
        "for row in output:\n",
        "  print(row)"
      ],
      "metadata": {
        "colab": {
          "base_uri": "https://localhost:8080/"
        },
        "id": "-lCXLq_ba1-7",
        "outputId": "f8f9d646-99c9-4431-fe1d-b979008647c5"
      },
      "execution_count": 75,
      "outputs": [
        {
          "output_type": "stream",
          "name": "stdout",
          "text": [
            "avbZDwi4VTM\n",
            "Amra Mandžukić #4 //BIH Women&#39;s National Volleyball Team\n",
            "2018-05-17\n",
            "808\n",
            "13\n",
            "0\n"
          ]
        }
      ]
    },
    {
      "cell_type": "code",
      "source": [
        "updated_columns_df = update_db(cursor, df_syn)"
      ],
      "metadata": {
        "id": "56iiiXxsUPB8"
      },
      "execution_count": 76,
      "outputs": []
    },
    {
      "cell_type": "code",
      "source": [
        "append_df_to_db(cursor, updated_columns_df)\n",
        "conn_db.commit()"
      ],
      "metadata": {
        "id": "_Ui2JV5RUPB9"
      },
      "execution_count": 80,
      "outputs": []
    },
    {
      "cell_type": "code",
      "source": [
        "#Let's check if we can eyeball that everything is updated\n",
        "query = '''SELECT * FROM yt_channel_videos;'''\n",
        "cursor.execute(query)\n",
        "output = cursor.fetchall()\n",
        "for row in output:\n",
        "  print(row)"
      ],
      "metadata": {
        "colab": {
          "base_uri": "https://localhost:8080/"
        },
        "outputId": "e26a64c6-d6f7-47a0-aecb-1a7992a89466",
        "id": "ymYLMTGHUPB9"
      },
      "execution_count": 78,
      "outputs": [
        {
          "output_type": "stream",
          "name": "stdout",
          "text": [
            "('-2i4xmW6u2A', 'ZHU - In the Morning* [Short Cover]', datetime.date(2018, 9, 23), 288, 11, 0)\n",
            "('-fVxmrQeTBA', 'Test 1', datetime.date(2017, 2, 15), 76, 22, 4)\n",
            "('-zy2pXzqwCM', 'Zabranjeno Pušenje - Ženi Nam Se Vukota //Solo (Cover)', datetime.date(2017, 1, 21), 3839, 41, 3)\n",
            "('1kFw5iGUxSU', 'REPILF - 1312 NIJANSI CRNE (SPOT)', datetime.date(2016, 11, 26), 31537, 322, 32)\n",
            "('4mVlcq8BHJk', 'dark cloud - broken promise (guitar cover)', datetime.date(2016, 8, 1), 335, 9, 0)\n",
            "('AoCLrZaWZkS', 'How to train a Youtube Video Title Generator using LSTMs', datetime.date(2021, 12, 11), 2291, 80, 144)\n",
            "('avbZDwi4VTM', 'Amra Mandžukić #4 //BIH Women&#39;s National Volleyball Team', datetime.date(2018, 5, 17), 10743, 13, 0)\n",
            "('Bj0CMyhLDRU', 'Poklon Čani', datetime.date(2018, 2, 10), 113, 6, 0)\n",
            "('BvrjnWvgfyg', \"I'm so lazy to train a Youtube Video Title Generator using LSTMs (Part 1)\", datetime.date(2021, 10, 22), 6925, 83, 118)\n",
            "('CvRncH8rdPc', 'Riblja Čorba - Bože, koliko je volim (COVER)', datetime.date(2017, 10, 2), 2915, 14, 2)\n",
            "('dUMmMRKPek4', 'Scientific method fromBosnia be like...', datetime.date(2017, 2, 20), 190, 3, 0)\n",
            "('EnqCrg8J0YU', 'snimanje karakteristika tranzistora.', datetime.date(2016, 7, 12), 252, 4, 0)\n",
            "('fD_TvzuH_vE', 'merrie melodies opening theme (guitar cover)', datetime.date(2016, 2, 20), 828, 12, 0)\n",
            "('j6VUf73iY00', 'S.A.R.S. - Praktična žena (Bass Cover)', datetime.date(2017, 1, 7), 381, 7, 1)\n",
            "('jRNvxO8ZPdo', 'Alice in Chains - Would? (Unplugged) cover', datetime.date(2014, 7, 28), 178, 3, 1)\n",
            "('lZvB18OSDe8', 'Intro 1', datetime.date(2017, 2, 18), 7948, 0, 0)\n",
            "('neGDJyEpkVw', 'žeks from skugric $$ thug life $$', datetime.date(2018, 1, 30), 211, 17, 0)\n",
            "('TWkT6ovxAtQ', 'Animal Farm (BOSNIA Edition)', datetime.date(2018, 3, 1), 127, 18, 0)\n",
            "('VgB6hCpFong', 'Šoferska je tuga pregolema (Guitar)', datetime.date(2017, 4, 13), 523, 5, 8)\n",
            "('wwMqZcUDIhy', \"I'm so lazy to train a Youtube Video Title Generator using LSTMs (Part 2)\", datetime.date(2020, 8, 22), 2139, 15, 238)\n"
          ]
        }
      ]
    },
    {
      "cell_type": "code",
      "source": [
        "#Here is the same video \n",
        "query = '''SELECT * FROM yt_channel_videos WHERE video_id = 'avbZDwi4VTM';'''\n",
        "cursor.execute(query)\n",
        "output = cursor.fetchone()\n",
        "for row in output:\n",
        "  print(row)"
      ],
      "metadata": {
        "colab": {
          "base_uri": "https://localhost:8080/"
        },
        "id": "RSs7Pw0rbBv-",
        "outputId": "5c7c1fc4-5b19-4f68-f83d-da06ca3cd6c6"
      },
      "execution_count": 79,
      "outputs": [
        {
          "output_type": "stream",
          "name": "stdout",
          "text": [
            "avbZDwi4VTM\n",
            "Amra Mandžukić #4 //BIH Women&#39;s National Volleyball Team\n",
            "2018-05-17\n",
            "10743\n",
            "13\n",
            "0\n"
          ]
        }
      ]
    },
    {
      "cell_type": "code",
      "source": [
        "#We see that view_count for this one is changed (10743>808) so we conclude that everything tests out as expected"
      ],
      "metadata": {
        "id": "JDht4n7OccGL"
      },
      "execution_count": null,
      "outputs": []
    }
  ]
}